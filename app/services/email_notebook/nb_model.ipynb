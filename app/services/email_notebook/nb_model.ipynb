{
 "cells": [
  {
   "cell_type": "code",
   "execution_count": null,
   "metadata": {},
   "outputs": [],
   "source": [
    "!pip install plotly\n",
    "!pip install requests\n",
    "!pip install pandas\n",
    "\n",
    "import pandas_gbq\n",
    "import pandas as pd\n",
    "import requests"
   ]
  },
  {
   "cell_type": "markdown",
   "metadata": {},
   "source": [
    "# SIRD MODEL\n",
    "\n",
    "Lorem ipsum dolor sit amet, consectetur adipiscing elit, sed do eiusmod tempor incididunt ut labore et dolore magna aliqua. Augue mauris augue neque gravida. Maecenas volutpat blandit aliquam etiam erat velit scelerisque in dictum. Tristique risus nec feugiat in. Convallis aenean et tortor at risus viverra adipiscing at in. Et netus et malesuada fames ac turpis. Porttitor rhoncus dolor purus non enim praesent elementum. Volutpat commodo sed egestas egestas fringilla phasellus faucibus scelerisque. Mauris pharetra et ultrices neque ornare aenean euismod elementum nisi. \n",
    "\n",
    "Seus Parametros:\n",
    "- Ro = @$Ro$@\n",
    "- D = @$D$@\n",
    "- mu = @$mu$@\n",
    "- pop = @$pop$@"
   ]
  },
  {
   "cell_type": "code",
   "execution_count": null,
   "metadata": {},
   "outputs": [],
   "source": [
    "predicao = requets(predicao_users_data.@$user_id$@)\n",
    "dados_reais = requets(dados_reais_users_data.@$user_id$@)"
   ]
  },
  {
   "cell_type": "code",
   "execution_count": null,
   "metadata": {},
   "outputs": [],
   "source": [
    "import plotly.graph_objects as go\n",
    "from plotly.offline import init_notebook_mode, iplot, plot\n",
    "init_notebook_mode(connected=False)\n",
    "\n",
    "fig = go.Figure()\n",
    "fig.add_trace(go.Scatter(\n",
    "    name=\"Casos Ativos - Previsao\",\n",
    "    x=predicao[\"date\"],\n",
    "    y=predicao['deaths'],\n",
    "    mode='lines', line_shape='spline',\n",
    "    line=dict(width=3, color = '#e53935')))\n",
    "fig.add_trace(go.Scatter(\n",
    "    name=\"Mortes - Previsao\",\n",
    "    x=predicao[\"date\"],\n",
    "    y=predicao['active'],\n",
    "    mode='lines', line_shape='spline',\n",
    "    line=dict(width=3, color = '#fb8c00')))\n",
    "fig.add_trace(go.Scatter(\n",
    "    name=\"Recuperados - Previsao\",\n",
    "    x=predicao[\"date\"],\n",
    "    y=predicao['recovered'],\n",
    "    mode='lines', line_shape='spline',\n",
    "    line=dict(width=3, color = '#43a047')))\n",
    "\n",
    "fig.add_trace(go.Scatter(\n",
    "    name=\"Casos Reais - Real\",\n",
    "    x=dados_reais[\"date\"],\n",
    "    y=dados_reais['deaths'],\n",
    "    mode='markers', line_shape='spline',\n",
    "    line=dict(width=3, color = '#ab000d')))\n",
    "fig.add_trace(go.Scatter(\n",
    "    name=\"Mortes - Real\",\n",
    "    x=dados_reais[\"date\"],\n",
    "    y=dados_reais['active'],\n",
    "    mode='markers', line_shape='spline',\n",
    "    line=dict(width=3, color = '#c25e00')))\n",
    "fig.add_trace(go.Scatter(\n",
    "    name=\"Recuperados - Real\",\n",
    "    x=dados_reais[\"date\"],\n",
    "    y=dados_reais['recovered'],\n",
    "    mode='markers', line_shape='spline',\n",
    "    line=dict(width=3, color = '#00701a')))\n",
    "\n",
    "fig.update_layout(\n",
    "    template='xgridoff',\n",
    "    xaxis=dict(showgrid=False),\n",
    "    xaxis_title='Date',\n",
    "    title_text=\"Main SIRD data components for Brazil\")\n",
    "fig.show()"
   ]
  }
 ],
 "metadata": {
  "hide_input": false,
  "kernelspec": {
   "display_name": "Python 3",
   "language": "python",
   "name": "python3"
  },
  "language_info": {
   "codemirror_mode": {
    "name": "ipython",
    "version": 3
   },
   "file_extension": ".py",
   "mimetype": "text/x-python",
   "name": "python",
   "nbconvert_exporter": "python",
   "pygments_lexer": "ipython3",
   "version": "3.7.6"
  },
  "toc": {
   "base_numbering": 1,
   "nav_menu": {},
   "number_sections": true,
   "sideBar": true,
   "skip_h1_title": false,
   "title_cell": "Table of Contents",
   "title_sidebar": "Contents",
   "toc_cell": false,
   "toc_position": {},
   "toc_section_display": true,
   "toc_window_display": false
  }
 },
 "nbformat": 4,
 "nbformat_minor": 4
}
