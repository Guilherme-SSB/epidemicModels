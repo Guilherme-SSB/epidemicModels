{
 "cells": [
  {
   "cell_type": "markdown",
   "metadata": {},
   "source": [
    "# Collecting the data from GCloud"
   ]
  },
  {
   "cell_type": "code",
   "execution_count": 1,
   "metadata": {},
   "outputs": [],
   "source": [
    "\n",
    "import pandas as pd\n",
    "import pandas_gbq\n",
    "\n",
    "from google.oauth2 import service_account\n",
    "\n",
    "key_path = \"./app/gkeys/epidemicapp-62d0d471b86f.json\"\n",
    "CREDENTIALS  = service_account.Credentials.from_service_account_file(key_path)\n",
    "pandas_gbq.context.credentials = CREDENTIALS\n"
   ]
  },
  {
   "cell_type": "code",
   "execution_count": 2,
   "metadata": {},
   "outputs": [
    {
     "name": "stderr",
     "output_type": "stream",
     "text": [
      "Downloading: 100%|██████████| 2540/2540 [00:01<00:00, 1521.69rows/s]\n"
     ]
    },
    {
     "data": {
      "text/html": [
       "<div>\n",
       "<style scoped>\n",
       "    .dataframe tbody tr th:only-of-type {\n",
       "        vertical-align: middle;\n",
       "    }\n",
       "\n",
       "    .dataframe tbody tr th {\n",
       "        vertical-align: top;\n",
       "    }\n",
       "\n",
       "    .dataframe thead th {\n",
       "        text-align: right;\n",
       "    }\n",
       "</style>\n",
       "<table border=\"1\" class=\"dataframe\">\n",
       "  <thead>\n",
       "    <tr style=\"text-align: right;\">\n",
       "      <th></th>\n",
       "      <th>city</th>\n",
       "      <th>state</th>\n",
       "      <th>country</th>\n",
       "      <th>lat</th>\n",
       "      <th>long</th>\n",
       "    </tr>\n",
       "  </thead>\n",
       "  <tbody>\n",
       "    <tr>\n",
       "      <th>0</th>\n",
       "      <td>Rio Branco/AC</td>\n",
       "      <td>AC</td>\n",
       "      <td>Brasil</td>\n",
       "      <td>-9.976536</td>\n",
       "      <td>-67.822078</td>\n",
       "    </tr>\n",
       "    <tr>\n",
       "      <th>1</th>\n",
       "      <td>Plácido de Castro/AC</td>\n",
       "      <td>AC</td>\n",
       "      <td>Brasil</td>\n",
       "      <td>-10.323915</td>\n",
       "      <td>-67.182420</td>\n",
       "    </tr>\n",
       "    <tr>\n",
       "      <th>2</th>\n",
       "      <td>Cruzeiro do Sul/AC</td>\n",
       "      <td>AC</td>\n",
       "      <td>Brasil</td>\n",
       "      <td>-7.630796</td>\n",
       "      <td>-72.670387</td>\n",
       "    </tr>\n",
       "    <tr>\n",
       "      <th>3</th>\n",
       "      <td>Acrelândia/AC</td>\n",
       "      <td>AC</td>\n",
       "      <td>Brasil</td>\n",
       "      <td>-10.075917</td>\n",
       "      <td>-67.052690</td>\n",
       "    </tr>\n",
       "    <tr>\n",
       "      <th>4</th>\n",
       "      <td>Senador Guiomard/AC</td>\n",
       "      <td>AC</td>\n",
       "      <td>Brasil</td>\n",
       "      <td>-9.976500</td>\n",
       "      <td>-67.319140</td>\n",
       "    </tr>\n",
       "  </tbody>\n",
       "</table>\n",
       "</div>"
      ],
      "text/plain": [
       "                   city state country        lat       long\n",
       "0         Rio Branco/AC    AC  Brasil  -9.976536 -67.822078\n",
       "1  Plácido de Castro/AC    AC  Brasil -10.323915 -67.182420\n",
       "2    Cruzeiro do Sul/AC    AC  Brasil  -7.630796 -72.670387\n",
       "3         Acrelândia/AC    AC  Brasil -10.075917 -67.052690\n",
       "4   Senador Guiomard/AC    AC  Brasil  -9.976500 -67.319140"
      ]
     },
     "execution_count": 2,
     "metadata": {},
     "output_type": "execute_result"
    }
   ],
   "source": [
    "query_data = \"\"\"\n",
    "    select *\n",
    "    from br_general.cities_coordinates\n",
    "\"\"\"\n",
    "\n",
    "cities_df = pandas_gbq.read_gbq(query_data, project_id=\"epidemicapp-280600\")\n",
    "cities_df.head()"
   ]
  },
  {
   "cell_type": "markdown",
   "metadata": {},
   "source": [
    "## Getting the cities IBGE identifiers"
   ]
  },
  {
   "cell_type": "code",
   "execution_count": 3,
   "metadata": {},
   "outputs": [],
   "source": [
    "\n",
    "import requests\n",
    "import json\n",
    "\n",
    "data = requests.get(\"https://servicodados.ibge.gov.br/api/v1/localidades/municipios\").json()\n",
    "city_df = pd.DataFrame()\n",
    "\n",
    "for city in data:\n",
    "    city_id = city[\"id\"]\n",
    "    city_name = city[\"nome\"]\n",
    "    city_state = city[\"microrregiao\"][\"mesorregiao\"][\"UF\"][\"sigla\"]\n",
    "    city_state_id = city[\"microrregiao\"][\"mesorregiao\"][\"UF\"][\"id\"]\n",
    "    \n",
    "    new_df = pd.DataFrame({\n",
    "        \"id\": [int(city_id)],\n",
    "        \"city\": [city_name],\n",
    "        \"state\": [city_state]})\n",
    "    city_df = pd.concat((city_df, new_df))"
   ]
  },
  {
   "cell_type": "code",
   "execution_count": 4,
   "metadata": {},
   "outputs": [],
   "source": [
    "cities_df[\"city_name\"] = cities_df[\"city\"]\n",
    "cities_df[\"city\"] = [c[:-3] for c in cities_df[\"city\"].tolist()]"
   ]
  },
  {
   "cell_type": "code",
   "execution_count": 5,
   "metadata": {},
   "outputs": [],
   "source": [
    "joined_df = pd.merge(cities_df, city_df, how='left', on=[\"city\", \"state\"])\n",
    "city_df = joined_df.drop_duplicates(subset=[\"city\"]).dropna(subset=[\"id\"])"
   ]
  },
  {
   "cell_type": "code",
   "execution_count": 6,
   "metadata": {},
   "outputs": [
    {
     "data": {
      "text/html": [
       "<div>\n",
       "<style scoped>\n",
       "    .dataframe tbody tr th:only-of-type {\n",
       "        vertical-align: middle;\n",
       "    }\n",
       "\n",
       "    .dataframe tbody tr th {\n",
       "        vertical-align: top;\n",
       "    }\n",
       "\n",
       "    .dataframe thead th {\n",
       "        text-align: right;\n",
       "    }\n",
       "</style>\n",
       "<table border=\"1\" class=\"dataframe\">\n",
       "  <thead>\n",
       "    <tr style=\"text-align: right;\">\n",
       "      <th></th>\n",
       "      <th>city</th>\n",
       "      <th>state</th>\n",
       "      <th>country</th>\n",
       "      <th>lat</th>\n",
       "      <th>long</th>\n",
       "      <th>city_name</th>\n",
       "      <th>id</th>\n",
       "    </tr>\n",
       "  </thead>\n",
       "  <tbody>\n",
       "    <tr>\n",
       "      <th>0</th>\n",
       "      <td>Rio Branco</td>\n",
       "      <td>AC</td>\n",
       "      <td>Brasil</td>\n",
       "      <td>-9.976536</td>\n",
       "      <td>-67.822078</td>\n",
       "      <td>Rio Branco/AC</td>\n",
       "      <td>1200401.0</td>\n",
       "    </tr>\n",
       "    <tr>\n",
       "      <th>1</th>\n",
       "      <td>Plácido de Castro</td>\n",
       "      <td>AC</td>\n",
       "      <td>Brasil</td>\n",
       "      <td>-10.323915</td>\n",
       "      <td>-67.182420</td>\n",
       "      <td>Plácido de Castro/AC</td>\n",
       "      <td>1200385.0</td>\n",
       "    </tr>\n",
       "    <tr>\n",
       "      <th>2</th>\n",
       "      <td>Cruzeiro do Sul</td>\n",
       "      <td>AC</td>\n",
       "      <td>Brasil</td>\n",
       "      <td>-7.630796</td>\n",
       "      <td>-72.670387</td>\n",
       "      <td>Cruzeiro do Sul/AC</td>\n",
       "      <td>1200203.0</td>\n",
       "    </tr>\n",
       "    <tr>\n",
       "      <th>3</th>\n",
       "      <td>Acrelândia</td>\n",
       "      <td>AC</td>\n",
       "      <td>Brasil</td>\n",
       "      <td>-10.075917</td>\n",
       "      <td>-67.052690</td>\n",
       "      <td>Acrelândia/AC</td>\n",
       "      <td>1200013.0</td>\n",
       "    </tr>\n",
       "    <tr>\n",
       "      <th>4</th>\n",
       "      <td>Senador Guiomard</td>\n",
       "      <td>AC</td>\n",
       "      <td>Brasil</td>\n",
       "      <td>-9.976500</td>\n",
       "      <td>-67.319140</td>\n",
       "      <td>Senador Guiomard/AC</td>\n",
       "      <td>1200450.0</td>\n",
       "    </tr>\n",
       "  </tbody>\n",
       "</table>\n",
       "</div>"
      ],
      "text/plain": [
       "                city state country        lat       long  \\\n",
       "0         Rio Branco    AC  Brasil  -9.976536 -67.822078   \n",
       "1  Plácido de Castro    AC  Brasil -10.323915 -67.182420   \n",
       "2    Cruzeiro do Sul    AC  Brasil  -7.630796 -72.670387   \n",
       "3         Acrelândia    AC  Brasil -10.075917 -67.052690   \n",
       "4   Senador Guiomard    AC  Brasil  -9.976500 -67.319140   \n",
       "\n",
       "              city_name         id  \n",
       "0         Rio Branco/AC  1200401.0  \n",
       "1  Plácido de Castro/AC  1200385.0  \n",
       "2    Cruzeiro do Sul/AC  1200203.0  \n",
       "3         Acrelândia/AC  1200013.0  \n",
       "4   Senador Guiomard/AC  1200450.0  "
      ]
     },
     "execution_count": 6,
     "metadata": {},
     "output_type": "execute_result"
    }
   ],
   "source": [
    "city_df.head()"
   ]
  },
  {
   "cell_type": "markdown",
   "metadata": {},
   "source": [
    "## Upload the cities locations and identifiers to GCloud "
   ]
  },
  {
   "cell_type": "code",
   "execution_count": 8,
   "metadata": {},
   "outputs": [
    {
     "name": "stderr",
     "output_type": "stream",
     "text": [
      "1it [00:03,  3.96s/it]\n",
      "1it [00:04,  4.30s/it]\n"
     ]
    }
   ],
   "source": [
    "\n",
    "pandas_gbq.to_gbq(city_df[[\"id\", \"city\", \"state\", \"country\", \"city_name\"]], \n",
    "                  \"br_general.identifier\", \n",
    "                  project_id=\"epidemicapp-280600\", \n",
    "                  credentials=CREDENTIALS, \n",
    "                  if_exists=\"replace\")\n",
    "\n",
    "pandas_gbq.to_gbq(city_df[[\"id\", \"lat\", \"long\"]], \n",
    "                  \"br_general.locations\", \n",
    "                  project_id=\"epidemicapp-280600\", \n",
    "                  credentials=CREDENTIALS, \n",
    "                  if_exists=\"replace\")\n"
   ]
  },
  {
   "cell_type": "markdown",
   "metadata": {},
   "source": [
    "# Obtaining the social indicators\n",
    "\n",
    "            "
   ]
  },
  {
   "cell_type": "markdown",
   "metadata": {},
   "source": [
    "## Creating the full content dataframe"
   ]
  },
  {
   "cell_type": "code",
   "execution_count": 7,
   "metadata": {},
   "outputs": [],
   "source": [
    "full_content = pd.DataFrame()"
   ]
  },
  {
   "cell_type": "code",
   "execution_count": 33,
   "metadata": {},
   "outputs": [],
   "source": [
    "\n",
    "import numpy as np\n",
    "from tqdm import tqdm\n",
    "from progress.bar import FillingCirclesBar\n",
    "\n",
    "def query_indicator(city_id=None, indicator_name=\"indicator\", indicator=None, research=None, operation=\"mean\"):\n",
    "    ibge_url = \"https://servicodados.ibge.gov.br/api/v1/pesquisas/{}/periodos/all/indicadores/{}/resultados/{}\"\n",
    "    ind_df = pd.DataFrame()\n",
    "    bar = FillingCirclesBar('Processing', max=len(city_id))\n",
    "    for ident in tqdm(city_id):\n",
    "        try:\n",
    "            data = requests.get(ibge_url.format(research, indicator, int(ident))).json()\n",
    "            request_flag = True\n",
    "        except Exception as e:\n",
    "            #print(\"Get request exception at: {}\".format(int(ident)))\n",
    "            request_flag = False\n",
    "        if request_flag and len(data) > 0:\n",
    "            ind_list = []\n",
    "            for content in data[0][\"res\"]:\n",
    "                years_list = list(content[\"res\"].keys())\n",
    "                years_full = list()\n",
    "                for y in years_list:\n",
    "                    if content[\"res\"][y] != None:\n",
    "                        years_full.append(y)\n",
    "                years_list = [int(y) for y in years_full]\n",
    "                try:\n",
    "                    key = str(max(years_list))\n",
    "                    ind_value = float(content[\"res\"][key])\n",
    "                    ind_list.append(ind_value)\n",
    "                except Exception as e:\n",
    "                    pass #print(\"Error at {} => {}\".format(int(ident), e))\n",
    "        \n",
    "            new_df = pd.DataFrame({\n",
    "                indicator_name: np.mean(ind_list),\n",
    "                \"city_id\": [int(ident)],\n",
    "                \"id\": [int(ident)]\n",
    "            })\n",
    "            ind_df = pd.concat((ind_df, new_df))\n",
    "    return ind_df\n",
    "        "
   ]
  },
  {
   "cell_type": "markdown",
   "metadata": {},
   "source": [
    "## IDH Indice de Desenvolvimento Humano\n"
   ]
  },
  {
   "cell_type": "code",
   "execution_count": null,
   "metadata": {},
   "outputs": [],
   "source": [
    "\n",
    "# IBGE API URL for IDH indicator\n",
    "ibge_url = \"https://servicodados.ibge.gov.br/api/v1/pesquisas/23/periodos/all/indicadores/30255/resultados/{}\"\n",
    "\n",
    "idh_df = pd.DataFrame()\n",
    "for city_id in city_df[\"id\"].tolist():\n",
    "    \n",
    "    data = requests.get(ibge_url.format(int(city_id))).json()\n",
    "    \n",
    "    idh_list = []\n",
    "    for content in data[0][\"res\"]:\n",
    "        \n",
    "        years_list = content[\"res\"].keys()\n",
    "        years_list = [int(y) for y in years_list]\n",
    "        \n",
    "        try:\n",
    "            idh_value = float(content[\"res\"][str(max(years_list))])\n",
    "            idh_list.append(idh_value)\n",
    "        except Exception as e:\n",
    "            print(\"Error at {} => {}\".format(int(city_id), e))\n",
    "    \n",
    "    new_df = pd.DataFrame({\n",
    "        \"city_id\": [int(city_id)]*len(idh_list),\n",
    "        \"idh\": idh_list})\n",
    "    idh_df = pd.concat((idh_df, new_df))\n"
   ]
  },
  {
   "cell_type": "markdown",
   "metadata": {},
   "source": [
    "## Several other indicators\n"
   ]
  },
  {
   "cell_type": "code",
   "execution_count": 9,
   "metadata": {},
   "outputs": [
    {
     "name": "stderr",
     "output_type": "stream",
     "text": [
      " 49%|████▉     | 1215/2459 [06:32<06:37,  3.13it/s]/opt/anaconda3/lib/python3.7/site-packages/numpy/core/fromnumeric.py:3118: RuntimeWarning: Mean of empty slice.\n",
      "  out=out, **kwargs)\n",
      "/opt/anaconda3/lib/python3.7/site-packages/numpy/core/_methods.py:85: RuntimeWarning: invalid value encountered in double_scalars\n",
      "  ret = ret.dtype.type(ret / rcount)\n",
      "100%|██████████| 2459/2459 [13:30<00:00,  3.03it/s]\n"
     ]
    },
    {
     "data": {
      "text/html": [
       "<div>\n",
       "<style scoped>\n",
       "    .dataframe tbody tr th:only-of-type {\n",
       "        vertical-align: middle;\n",
       "    }\n",
       "\n",
       "    .dataframe tbody tr th {\n",
       "        vertical-align: top;\n",
       "    }\n",
       "\n",
       "    .dataframe thead th {\n",
       "        text-align: right;\n",
       "    }\n",
       "</style>\n",
       "<table border=\"1\" class=\"dataframe\">\n",
       "  <thead>\n",
       "    <tr style=\"text-align: right;\">\n",
       "      <th></th>\n",
       "      <th>idh</th>\n",
       "      <th>city_id</th>\n",
       "      <th>id</th>\n",
       "    </tr>\n",
       "  </thead>\n",
       "  <tbody>\n",
       "    <tr>\n",
       "      <th>0</th>\n",
       "      <td>0.727</td>\n",
       "      <td>1200401</td>\n",
       "      <td>1200401</td>\n",
       "    </tr>\n",
       "    <tr>\n",
       "      <th>0</th>\n",
       "      <td>0.622</td>\n",
       "      <td>1200385</td>\n",
       "      <td>1200385</td>\n",
       "    </tr>\n",
       "    <tr>\n",
       "      <th>0</th>\n",
       "      <td>0.664</td>\n",
       "      <td>1200203</td>\n",
       "      <td>1200203</td>\n",
       "    </tr>\n",
       "    <tr>\n",
       "      <th>0</th>\n",
       "      <td>0.604</td>\n",
       "      <td>1200013</td>\n",
       "      <td>1200013</td>\n",
       "    </tr>\n",
       "    <tr>\n",
       "      <th>0</th>\n",
       "      <td>0.640</td>\n",
       "      <td>1200450</td>\n",
       "      <td>1200450</td>\n",
       "    </tr>\n",
       "  </tbody>\n",
       "</table>\n",
       "</div>"
      ],
      "text/plain": [
       "     idh  city_id       id\n",
       "0  0.727  1200401  1200401\n",
       "0  0.622  1200385  1200385\n",
       "0  0.664  1200203  1200203\n",
       "0  0.604  1200013  1200013\n",
       "0  0.640  1200450  1200450"
      ]
     },
     "execution_count": 9,
     "metadata": {},
     "output_type": "execute_result"
    }
   ],
   "source": [
    "\n",
    "# IDH - Indice de Desenvolvimento Humano\n",
    "idh_df = query_indicator(city_id=city_df[\"id\"].tolist(), indicator_name=\"idh\", indicator=30255, research=23)\n",
    "idh_df.head()"
   ]
  },
  {
   "cell_type": "code",
   "execution_count": 12,
   "metadata": {},
   "outputs": [
    {
     "name": "stderr",
     "output_type": "stream",
     "text": [
      "100%|██████████| 2459/2459 [14:05<00:00,  2.91it/s]\n"
     ]
    },
    {
     "data": {
      "text/html": [
       "<div>\n",
       "<style scoped>\n",
       "    .dataframe tbody tr th:only-of-type {\n",
       "        vertical-align: middle;\n",
       "    }\n",
       "\n",
       "    .dataframe tbody tr th {\n",
       "        vertical-align: top;\n",
       "    }\n",
       "\n",
       "    .dataframe thead th {\n",
       "        text-align: right;\n",
       "    }\n",
       "</style>\n",
       "<table border=\"1\" class=\"dataframe\">\n",
       "  <thead>\n",
       "    <tr style=\"text-align: right;\">\n",
       "      <th></th>\n",
       "      <th>pib</th>\n",
       "      <th>city_id</th>\n",
       "      <th>id</th>\n",
       "    </tr>\n",
       "  </thead>\n",
       "  <tbody>\n",
       "    <tr>\n",
       "      <th>0</th>\n",
       "      <td>21258.68</td>\n",
       "      <td>1200401</td>\n",
       "      <td>1200401</td>\n",
       "    </tr>\n",
       "    <tr>\n",
       "      <th>0</th>\n",
       "      <td>13030.70</td>\n",
       "      <td>1200385</td>\n",
       "      <td>1200385</td>\n",
       "    </tr>\n",
       "    <tr>\n",
       "      <th>0</th>\n",
       "      <td>15585.70</td>\n",
       "      <td>1200203</td>\n",
       "      <td>1200203</td>\n",
       "    </tr>\n",
       "    <tr>\n",
       "      <th>0</th>\n",
       "      <td>15984.09</td>\n",
       "      <td>1200013</td>\n",
       "      <td>1200013</td>\n",
       "    </tr>\n",
       "    <tr>\n",
       "      <th>0</th>\n",
       "      <td>16692.58</td>\n",
       "      <td>1200450</td>\n",
       "      <td>1200450</td>\n",
       "    </tr>\n",
       "  </tbody>\n",
       "</table>\n",
       "</div>"
      ],
      "text/plain": [
       "        pib  city_id       id\n",
       "0  21258.68  1200401  1200401\n",
       "0  13030.70  1200385  1200385\n",
       "0  15585.70  1200203  1200203\n",
       "0  15984.09  1200013  1200013\n",
       "0  16692.58  1200450  1200450"
      ]
     },
     "execution_count": 12,
     "metadata": {},
     "output_type": "execute_result"
    }
   ],
   "source": [
    "\n",
    "# PIB per capita\n",
    "pib_df = query_indicator(city_id=city_df[\"id\"].tolist(), indicator_name=\"pib\", indicator=47001, research=38)\n",
    "pib_df.head()\n"
   ]
  },
  {
   "cell_type": "code",
   "execution_count": 17,
   "metadata": {},
   "outputs": [
    {
     "name": "stderr",
     "output_type": "stream",
     "text": [
      "100%|██████████| 2459/2459 [14:38<00:00,  2.80it/s] \n",
      "100%|██████████| 2459/2459 [14:21<00:00,  2.85it/s] \n"
     ]
    },
    {
     "data": {
      "text/html": [
       "<div>\n",
       "<style scoped>\n",
       "    .dataframe tbody tr th:only-of-type {\n",
       "        vertical-align: middle;\n",
       "    }\n",
       "\n",
       "    .dataframe tbody tr th {\n",
       "        vertical-align: top;\n",
       "    }\n",
       "\n",
       "    .dataframe thead th {\n",
       "        text-align: right;\n",
       "    }\n",
       "</style>\n",
       "<table border=\"1\" class=\"dataframe\">\n",
       "  <thead>\n",
       "    <tr style=\"text-align: right;\">\n",
       "      <th></th>\n",
       "      <th>ide_bf</th>\n",
       "      <th>city_id</th>\n",
       "      <th>id</th>\n",
       "    </tr>\n",
       "  </thead>\n",
       "  <tbody>\n",
       "    <tr>\n",
       "      <th>0</th>\n",
       "      <td>4.8</td>\n",
       "      <td>1200401</td>\n",
       "      <td>1200401</td>\n",
       "    </tr>\n",
       "    <tr>\n",
       "      <th>0</th>\n",
       "      <td>4.8</td>\n",
       "      <td>1200385</td>\n",
       "      <td>1200385</td>\n",
       "    </tr>\n",
       "    <tr>\n",
       "      <th>0</th>\n",
       "      <td>4.7</td>\n",
       "      <td>1200203</td>\n",
       "      <td>1200203</td>\n",
       "    </tr>\n",
       "    <tr>\n",
       "      <th>0</th>\n",
       "      <td>4.5</td>\n",
       "      <td>1200013</td>\n",
       "      <td>1200013</td>\n",
       "    </tr>\n",
       "    <tr>\n",
       "      <th>0</th>\n",
       "      <td>5.0</td>\n",
       "      <td>1200450</td>\n",
       "      <td>1200450</td>\n",
       "    </tr>\n",
       "  </tbody>\n",
       "</table>\n",
       "</div>"
      ],
      "text/plain": [
       "   ide_bf  city_id       id\n",
       "0     4.8  1200401  1200401\n",
       "0     4.8  1200385  1200385\n",
       "0     4.7  1200203  1200203\n",
       "0     4.5  1200013  1200013\n",
       "0     5.0  1200450  1200450"
      ]
     },
     "execution_count": 17,
     "metadata": {},
     "output_type": "execute_result"
    }
   ],
   "source": [
    "\n",
    "# Indice de desenvolvimento de educação básica - Inicial\n",
    "ide_bi_df = query_indicator(city_id=city_df[\"id\"].tolist(), indicator_name=\"ide_bi\", indicator=78187, research=40)\n",
    "ide_bi_df.head()\n",
    "\n",
    "# Indice de desenvolvimento de educação básica - Final\n",
    "ide_bf_df = query_indicator(city_id=city_df[\"id\"].tolist(), indicator_name=\"ide_bf\", indicator=78192, research=40)\n",
    "ide_bf_df.head()\n"
   ]
  },
  {
   "cell_type": "code",
   "execution_count": 18,
   "metadata": {},
   "outputs": [
    {
     "name": "stderr",
     "output_type": "stream",
     "text": [
      "100%|██████████| 2459/2459 [14:15<00:00,  2.88it/s]\n",
      "100%|██████████| 2459/2459 [14:05<00:00,  2.91it/s]\n"
     ]
    },
    {
     "data": {
      "text/html": [
       "<div>\n",
       "<style scoped>\n",
       "    .dataframe tbody tr th:only-of-type {\n",
       "        vertical-align: middle;\n",
       "    }\n",
       "\n",
       "    .dataframe tbody tr th {\n",
       "        vertical-align: top;\n",
       "    }\n",
       "\n",
       "    .dataframe thead th {\n",
       "        text-align: right;\n",
       "    }\n",
       "</style>\n",
       "<table border=\"1\" class=\"dataframe\">\n",
       "  <thead>\n",
       "    <tr style=\"text-align: right;\">\n",
       "      <th></th>\n",
       "      <th>num_residencias</th>\n",
       "      <th>city_id</th>\n",
       "      <th>id</th>\n",
       "    </tr>\n",
       "  </thead>\n",
       "  <tbody>\n",
       "    <tr>\n",
       "      <th>0</th>\n",
       "      <td>94184.0</td>\n",
       "      <td>1200401</td>\n",
       "      <td>1200401</td>\n",
       "    </tr>\n",
       "    <tr>\n",
       "      <th>0</th>\n",
       "      <td>4748.0</td>\n",
       "      <td>1200385</td>\n",
       "      <td>1200385</td>\n",
       "    </tr>\n",
       "    <tr>\n",
       "      <th>0</th>\n",
       "      <td>18573.0</td>\n",
       "      <td>1200203</td>\n",
       "      <td>1200203</td>\n",
       "    </tr>\n",
       "    <tr>\n",
       "      <th>0</th>\n",
       "      <td>3459.0</td>\n",
       "      <td>1200013</td>\n",
       "      <td>1200013</td>\n",
       "    </tr>\n",
       "    <tr>\n",
       "      <th>0</th>\n",
       "      <td>5589.0</td>\n",
       "      <td>1200450</td>\n",
       "      <td>1200450</td>\n",
       "    </tr>\n",
       "  </tbody>\n",
       "</table>\n",
       "</div>"
      ],
      "text/plain": [
       "   num_residencias  city_id       id\n",
       "0          94184.0  1200401  1200401\n",
       "0           4748.0  1200385  1200385\n",
       "0          18573.0  1200203  1200203\n",
       "0           3459.0  1200013  1200013\n",
       "0           5589.0  1200450  1200450"
      ]
     },
     "execution_count": 18,
     "metadata": {},
     "output_type": "execute_result"
    }
   ],
   "source": [
    "# Censo - População residente\n",
    "ce_pr_df = query_indicator(city_id=city_df[\"id\"].tolist(), indicator_name=\"pop_residente\", indicator=30281, research=43)\n",
    "ce_pr_df.head()\n",
    "\n",
    "# Censo - Residencias\n",
    "ce_re_df = query_indicator(city_id=city_df[\"id\"].tolist(), indicator_name=\"num_residencias\", indicator=30282, research=43)\n",
    "ce_re_df.head()\n"
   ]
  },
  {
   "cell_type": "code",
   "execution_count": 34,
   "metadata": {},
   "outputs": [
    {
     "name": "stderr",
     "output_type": "stream",
     "text": [
      "100%|██████████| 2459/2459 [13:12<00:00,  3.10it/s]\n"
     ]
    },
    {
     "data": {
      "text/html": [
       "<div>\n",
       "<style scoped>\n",
       "    .dataframe tbody tr th:only-of-type {\n",
       "        vertical-align: middle;\n",
       "    }\n",
       "\n",
       "    .dataframe tbody tr th {\n",
       "        vertical-align: top;\n",
       "    }\n",
       "\n",
       "    .dataframe thead th {\n",
       "        text-align: right;\n",
       "    }\n",
       "</style>\n",
       "<table border=\"1\" class=\"dataframe\">\n",
       "  <thead>\n",
       "    <tr style=\"text-align: right;\">\n",
       "      <th></th>\n",
       "      <th>dens_demografica</th>\n",
       "      <th>city_id</th>\n",
       "      <th>id</th>\n",
       "    </tr>\n",
       "  </thead>\n",
       "  <tbody>\n",
       "    <tr>\n",
       "      <th>0</th>\n",
       "      <td>38.03</td>\n",
       "      <td>1200401</td>\n",
       "      <td>1200401</td>\n",
       "    </tr>\n",
       "    <tr>\n",
       "      <th>0</th>\n",
       "      <td>8.86</td>\n",
       "      <td>1200385</td>\n",
       "      <td>1200385</td>\n",
       "    </tr>\n",
       "    <tr>\n",
       "      <th>0</th>\n",
       "      <td>8.94</td>\n",
       "      <td>1200203</td>\n",
       "      <td>1200203</td>\n",
       "    </tr>\n",
       "    <tr>\n",
       "      <th>0</th>\n",
       "      <td>6.94</td>\n",
       "      <td>1200013</td>\n",
       "      <td>1200013</td>\n",
       "    </tr>\n",
       "    <tr>\n",
       "      <th>0</th>\n",
       "      <td>8.69</td>\n",
       "      <td>1200450</td>\n",
       "      <td>1200450</td>\n",
       "    </tr>\n",
       "  </tbody>\n",
       "</table>\n",
       "</div>"
      ],
      "text/plain": [
       "   dens_demografica  city_id       id\n",
       "0             38.03  1200401  1200401\n",
       "0              8.86  1200385  1200385\n",
       "0              8.94  1200203  1200203\n",
       "0              6.94  1200013  1200013\n",
       "0              8.69  1200450  1200450"
      ]
     },
     "execution_count": 34,
     "metadata": {},
     "output_type": "execute_result"
    }
   ],
   "source": [
    "# Densidade demográfica\n",
    "dens_dem_df = query_indicator(city_id=city_df[\"id\"].tolist(), indicator_name=\"dens_demografica\", indicator=29168, research=33)\n",
    "dens_dem_df.head()\n"
   ]
  },
  {
   "cell_type": "markdown",
   "metadata": {},
   "source": [
    "# Upload data to GCloud"
   ]
  },
  {
   "cell_type": "code",
   "execution_count": 35,
   "metadata": {},
   "outputs": [
    {
     "name": "stderr",
     "output_type": "stream",
     "text": [
      "1it [00:07,  7.80s/it]\n",
      "1it [00:06,  6.01s/it]\n",
      "1it [00:05,  5.03s/it]\n",
      "1it [00:08,  8.70s/it]\n",
      "1it [00:05,  5.51s/it]\n",
      "1it [00:08,  8.88s/it]\n",
      "1it [00:04,  4.85s/it]\n"
     ]
    }
   ],
   "source": [
    "\n",
    "pandas_gbq.to_gbq(idh_df, \"br_general.idh\", \n",
    "                  project_id=\"epidemicapp-280600\", credentials=CREDENTIALS, if_exists=\"replace\")\n",
    "pandas_gbq.to_gbq(pib_df, \"br_general.pib\", \n",
    "                  project_id=\"epidemicapp-280600\", credentials=CREDENTIALS, if_exists=\"replace\")\n",
    "pandas_gbq.to_gbq(ide_bi_df, \"br_general.idebi\", \n",
    "                  project_id=\"epidemicapp-280600\", credentials=CREDENTIALS, if_exists=\"replace\")\n",
    "pandas_gbq.to_gbq(ide_bf_df, \"br_general.idebf\", \n",
    "                  project_id=\"epidemicapp-280600\", credentials=CREDENTIALS, if_exists=\"replace\")\n",
    "pandas_gbq.to_gbq(ce_pr_df, \"br_general.censo_pop_res\", \n",
    "                  project_id=\"epidemicapp-280600\", credentials=CREDENTIALS, if_exists=\"replace\")\n",
    "pandas_gbq.to_gbq(ce_re_df, \"br_general.censo_resid\", \n",
    "                  project_id=\"epidemicapp-280600\", credentials=CREDENTIALS, if_exists=\"replace\")\n",
    "pandas_gbq.to_gbq(dens_dem_df, \"br_general.dens_dem\", \n",
    "                  project_id=\"epidemicapp-280600\", credentials=CREDENTIALS, if_exists=\"replace\")\n"
   ]
  }
 ],
 "metadata": {
  "kernelspec": {
   "display_name": "Python 3",
   "language": "python",
   "name": "python3"
  },
  "language_info": {
   "codemirror_mode": {
    "name": "ipython",
    "version": 3
   },
   "file_extension": ".py",
   "mimetype": "text/x-python",
   "name": "python",
   "nbconvert_exporter": "python",
   "pygments_lexer": "ipython3",
   "version": "3.7.4"
  }
 },
 "nbformat": 4,
 "nbformat_minor": 4
}
