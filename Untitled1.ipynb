{
 "cells": [
  {
   "cell_type": "code",
   "execution_count": null,
   "metadata": {},
   "outputs": [],
   "source": []
  },
  {
   "cell_type": "code",
   "execution_count": null,
   "metadata": {},
   "outputs": [],
   "source": []
  },
  {
   "cell_type": "code",
   "execution_count": 13,
   "metadata": {},
   "outputs": [],
   "source": [
    "\n",
    "import nbformat\n",
    "\n",
    "user_table_id = \"marcelolafetansee_20200707004330415583\"\n",
    "notebook_path = \"./app/services/user-process/email_func/nb_model.ipynb\"\n",
    "notebook_save_path = \"./app/services/user-process/email_func/test_nb_model.ipynb\"\n",
    "\n",
    "with open(notebook_path, \"r\", encoding='utf-8') as handle:\n",
    "    nb_str = handle.read()\n",
    "\n",
    "# Including the user table id\n",
    "nb_str = nb_str.replace(\"@$user_id$@\", user_table_id)\n",
    "\n",
    "# Transforming the string into nb object\n",
    "nb = nbformat.reads(nb_str, as_version=4)\n",
    "\n",
    "with open(notebook_save_path, \"w\", encoding='utf-8') as handle:\n",
    "    nbformat.write(nb, handle)\n"
   ]
  },
  {
   "cell_type": "code",
   "execution_count": 11,
   "metadata": {},
   "outputs": [],
   "source": [
    "runned_nb_str = nbformat.writes(nb).encode(\"utf-8\")"
   ]
  },
  {
   "cell_type": "code",
   "execution_count": 12,
   "metadata": {},
   "outputs": [],
   "source": [
    "\n",
    "FROMADDR = 'epidemicmodels.covid@gmail.com'\n",
    "PASSWORD = 'tgpasdlxgugvvopc'\n",
    "\n",
    "import smtplib\n",
    "from email.mime.multipart import MIMEMultipart\n",
    "from email.mime.text import MIMEText\n",
    "from email.mime.image import MIMEImage\n",
    "from email.mime.application import MIMEApplication\n",
    "\n",
    "# set up the SMTP server\n",
    "s = smtplib.SMTP('smtp.gmail.com', 587)\n",
    "s.starttls()\n",
    "s.login(FROMADDR, PASSWORD)\n",
    "\n",
    "\n",
    "msg = MIMEMultipart() # create a message\n",
    "\n",
    "# add in the actual person name to the message template\n",
    "message = \"EpidemicModels Test Body...\" #message_template.substitute(PERSON_NAME=\"EpidemicModels Test\")\n",
    "\n",
    "# setup the parameters of the message\n",
    "msg['From']    = FROMADDR\n",
    "msg['To']      = \"marcelolafeta.nsee@gmail.com\"\n",
    "msg['Subject'] = \"Testing notebook generation...\"\n",
    "\n",
    "# add in the message body\n",
    "msg.attach(MIMEText(message, 'plain'))\n",
    "\n",
    "\n",
    "# msg.attach(MIMEText(nbformat.writes(nb), \"plain\", \"utf-8\"))\n",
    "\n",
    "# with open('example.jpg', 'rb') as fp:\n",
    "#     img = MIMEImage(fp.read())\n",
    "#     img.add_header('Content-Disposition', 'attachment', filename=\"example.jpg\")\n",
    "#     msg.attach(img)\n",
    "\n",
    "nb_attach = MIMEApplication(nbformat.writes(nb).encode(\"utf-8\"))\n",
    "nb_attach.add_header('Content-Disposition', 'attachment', filename=\"ynb_model.ipynb\")\n",
    "msg.attach(nb_attach)\n",
    "\n",
    "# send the message via the server set up earlier.\n",
    "s.send_message(msg)\n",
    "\n",
    "del msg\n",
    "\n"
   ]
  },
  {
   "cell_type": "code",
   "execution_count": 16,
   "metadata": {},
   "outputs": [
    {
     "ename": "SyntaxError",
     "evalue": "invalid syntax (<ipython-input-16-eaf6ce68e54c>, line 1)",
     "output_type": "error",
     "traceback": [
      "\u001b[0;36m  File \u001b[0;32m\"<ipython-input-16-eaf6ce68e54c>\"\u001b[0;36m, line \u001b[0;32m1\u001b[0m\n\u001b[0;31m    from app.services.`user-process`.email_func import *\u001b[0m\n\u001b[0m                      ^\u001b[0m\n\u001b[0;31mSyntaxError\u001b[0m\u001b[0;31m:\u001b[0m invalid syntax\n"
     ]
    }
   ],
   "source": []
  },
  {
   "cell_type": "code",
   "execution_count": null,
   "metadata": {},
   "outputs": [],
   "source": []
  },
  {
   "cell_type": "code",
   "execution_count": null,
   "metadata": {},
   "outputs": [],
   "source": []
  }
 ],
 "metadata": {
  "kernelspec": {
   "display_name": "Python 3",
   "language": "python",
   "name": "python3"
  },
  "language_info": {
   "codemirror_mode": {
    "name": "ipython",
    "version": 3
   },
   "file_extension": ".py",
   "mimetype": "text/x-python",
   "name": "python",
   "nbconvert_exporter": "python",
   "pygments_lexer": "ipython3",
   "version": "3.7.4"
  }
 },
 "nbformat": 4,
 "nbformat_minor": 4
}
