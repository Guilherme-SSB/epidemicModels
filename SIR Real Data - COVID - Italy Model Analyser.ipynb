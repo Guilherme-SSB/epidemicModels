{
 "cells": [
  {
   "cell_type": "markdown",
   "metadata": {},
   "source": [
    "# Os dados\n",
    "\n",
    "Para coletar os dados de outros países, foram utilizadas as APIs dos sites:\n",
    "\n",
    "- [About Corona](https://about-corona.net/dashboard/)\n",
    "- [Europe RestFul](https://restcountries.eu/)"
   ]
  },
  {
   "cell_type": "code",
   "execution_count": null,
   "metadata": {},
   "outputs": [],
   "source": [
    "\n",
    "import requests\n",
    "import pandas as pd\n",
    "\n",
    "covid_api = 'https://corona-api.com/countries/'\n",
    "rest_countries = 'https://restcountries.eu/rest/v2/alpha/'\n",
    "country = 'IT' # Alpha-2 ISO3166\n",
    "\n",
    "data_json =  requests.get(covid_api + country).json()\n",
    "country = requests.get(covid_api + country).json()\n",
    "\n",
    "N = country['data']['population']\n",
    "\n",
    "print(country['data']['name'])\n"
   ]
  },
  {
   "cell_type": "markdown",
   "metadata": {},
   "source": [
    "### Organizando os dados"
   ]
  },
  {
   "cell_type": "code",
   "execution_count": 2,
   "metadata": {},
   "outputs": [
    {
     "data": {
      "text/html": [
       "<div>\n",
       "<style scoped>\n",
       "    .dataframe tbody tr th:only-of-type {\n",
       "        vertical-align: middle;\n",
       "    }\n",
       "\n",
       "    .dataframe tbody tr th {\n",
       "        vertical-align: top;\n",
       "    }\n",
       "\n",
       "    .dataframe thead th {\n",
       "        text-align: right;\n",
       "    }\n",
       "</style>\n",
       "<table border=\"1\" class=\"dataframe\">\n",
       "  <thead>\n",
       "    <tr style=\"text-align: right;\">\n",
       "      <th></th>\n",
       "      <th>date</th>\n",
       "      <th>deaths</th>\n",
       "      <th>confirmed</th>\n",
       "      <th>active</th>\n",
       "      <th>recovered</th>\n",
       "      <th>new_confirmed</th>\n",
       "      <th>new_recovered</th>\n",
       "      <th>new_deaths</th>\n",
       "    </tr>\n",
       "  </thead>\n",
       "  <tbody>\n",
       "    <tr>\n",
       "      <th>0</th>\n",
       "      <td>2020-01-30</td>\n",
       "      <td>0.0</td>\n",
       "      <td>2.000000</td>\n",
       "      <td>2.000000</td>\n",
       "      <td>0.0</td>\n",
       "      <td>2.000000</td>\n",
       "      <td>0.0</td>\n",
       "      <td>0.0</td>\n",
       "    </tr>\n",
       "    <tr>\n",
       "      <th>1</th>\n",
       "      <td>2020-01-31</td>\n",
       "      <td>0.0</td>\n",
       "      <td>2.000000</td>\n",
       "      <td>2.000000</td>\n",
       "      <td>0.0</td>\n",
       "      <td>0.000000</td>\n",
       "      <td>0.0</td>\n",
       "      <td>0.0</td>\n",
       "    </tr>\n",
       "    <tr>\n",
       "      <th>2</th>\n",
       "      <td>2020-02-01</td>\n",
       "      <td>0.0</td>\n",
       "      <td>2.142857</td>\n",
       "      <td>2.142857</td>\n",
       "      <td>0.0</td>\n",
       "      <td>0.142857</td>\n",
       "      <td>0.0</td>\n",
       "      <td>0.0</td>\n",
       "    </tr>\n",
       "    <tr>\n",
       "      <th>3</th>\n",
       "      <td>2020-02-02</td>\n",
       "      <td>0.0</td>\n",
       "      <td>2.285714</td>\n",
       "      <td>2.285714</td>\n",
       "      <td>0.0</td>\n",
       "      <td>0.285714</td>\n",
       "      <td>0.0</td>\n",
       "      <td>0.0</td>\n",
       "    </tr>\n",
       "    <tr>\n",
       "      <th>4</th>\n",
       "      <td>2020-02-03</td>\n",
       "      <td>0.0</td>\n",
       "      <td>2.428571</td>\n",
       "      <td>2.428571</td>\n",
       "      <td>0.0</td>\n",
       "      <td>0.428571</td>\n",
       "      <td>0.0</td>\n",
       "      <td>0.0</td>\n",
       "    </tr>\n",
       "  </tbody>\n",
       "</table>\n",
       "</div>"
      ],
      "text/plain": [
       "        date  deaths  confirmed    active  recovered  new_confirmed  \\\n",
       "0 2020-01-30     0.0   2.000000  2.000000        0.0       2.000000   \n",
       "1 2020-01-31     0.0   2.000000  2.000000        0.0       0.000000   \n",
       "2 2020-02-01     0.0   2.142857  2.142857        0.0       0.142857   \n",
       "3 2020-02-02     0.0   2.285714  2.285714        0.0       0.285714   \n",
       "4 2020-02-03     0.0   2.428571  2.428571        0.0       0.428571   \n",
       "\n",
       "   new_recovered  new_deaths  \n",
       "0            0.0         0.0  \n",
       "1            0.0         0.0  \n",
       "2            0.0         0.0  \n",
       "3            0.0         0.0  \n",
       "4            0.0         0.0  "
      ]
     },
     "execution_count": 2,
     "metadata": {},
     "output_type": "execute_result"
    }
   ],
   "source": [
    "\n",
    "from datetime import datetime\n",
    "\n",
    "df = pd.DataFrame(data_json['data']['timeline'])\n",
    "df = df.sort_values('date').reset_index()\n",
    "\n",
    "from datetime import datetime, timedelta\n",
    "df['date'] = [datetime.fromisoformat(f) for f in df['date']]\n",
    "df = df.drop_duplicates(subset='date', keep = 'last')\n",
    "\n",
    "# Criando o vetor de tempo\n",
    "first_date = df['date'].iloc[0]\n",
    "size_days = (df['date'].iloc[-1] - df['date'].iloc[0]).days\n",
    "date_vec = [first_date + timedelta(days=k) for k in range(size_days)]\n",
    "\n",
    "new_df = pd.DataFrame(date_vec, columns=['date'])\n",
    "new_df = pd.merge(new_df, df, how='left', on= 'date')\n",
    "new_df = new_df.drop(columns= ['index',  'updated_at', 'is_in_progress'])\n",
    "\n",
    "for col in new_df.columns[1:]:\n",
    "    new_df[col] = new_df[col].interpolate(method='polynomial', order=1)\n",
    "df = new_df.dropna()\n",
    "\n",
    "df.head()"
   ]
  },
  {
   "cell_type": "markdown",
   "metadata": {},
   "source": [
    "### Visualizando os dados"
   ]
  },
  {
   "cell_type": "code",
   "execution_count": 3,
   "metadata": {},
   "outputs": [
    {
     "data": {
      "text/html": [
       "\n",
       "    <div class=\"bk-root\">\n",
       "        <a href=\"https://bokeh.org\" target=\"_blank\" class=\"bk-logo bk-logo-small bk-logo-notebook\"></a>\n",
       "        <span id=\"1001\">Loading BokehJS ...</span>\n",
       "    </div>"
      ]
     },
     "metadata": {},
     "output_type": "display_data"
    },
    {
     "data": {
      "application/javascript": [
       "\n",
       "(function(root) {\n",
       "  function now() {\n",
       "    return new Date();\n",
       "  }\n",
       "\n",
       "  var force = true;\n",
       "\n",
       "  if (typeof root._bokeh_onload_callbacks === \"undefined\" || force === true) {\n",
       "    root._bokeh_onload_callbacks = [];\n",
       "    root._bokeh_is_loading = undefined;\n",
       "  }\n",
       "\n",
       "  var JS_MIME_TYPE = 'application/javascript';\n",
       "  var HTML_MIME_TYPE = 'text/html';\n",
       "  var EXEC_MIME_TYPE = 'application/vnd.bokehjs_exec.v0+json';\n",
       "  var CLASS_NAME = 'output_bokeh rendered_html';\n",
       "\n",
       "  /**\n",
       "   * Render data to the DOM node\n",
       "   */\n",
       "  function render(props, node) {\n",
       "    var script = document.createElement(\"script\");\n",
       "    node.appendChild(script);\n",
       "  }\n",
       "\n",
       "  /**\n",
       "   * Handle when an output is cleared or removed\n",
       "   */\n",
       "  function handleClearOutput(event, handle) {\n",
       "    var cell = handle.cell;\n",
       "\n",
       "    var id = cell.output_area._bokeh_element_id;\n",
       "    var server_id = cell.output_area._bokeh_server_id;\n",
       "    // Clean up Bokeh references\n",
       "    if (id != null && id in Bokeh.index) {\n",
       "      Bokeh.index[id].model.document.clear();\n",
       "      delete Bokeh.index[id];\n",
       "    }\n",
       "\n",
       "    if (server_id !== undefined) {\n",
       "      // Clean up Bokeh references\n",
       "      var cmd = \"from bokeh.io.state import curstate; print(curstate().uuid_to_server['\" + server_id + \"'].get_sessions()[0].document.roots[0]._id)\";\n",
       "      cell.notebook.kernel.execute(cmd, {\n",
       "        iopub: {\n",
       "          output: function(msg) {\n",
       "            var id = msg.content.text.trim();\n",
       "            if (id in Bokeh.index) {\n",
       "              Bokeh.index[id].model.document.clear();\n",
       "              delete Bokeh.index[id];\n",
       "            }\n",
       "          }\n",
       "        }\n",
       "      });\n",
       "      // Destroy server and session\n",
       "      var cmd = \"import bokeh.io.notebook as ion; ion.destroy_server('\" + server_id + \"')\";\n",
       "      cell.notebook.kernel.execute(cmd);\n",
       "    }\n",
       "  }\n",
       "\n",
       "  /**\n",
       "   * Handle when a new output is added\n",
       "   */\n",
       "  function handleAddOutput(event, handle) {\n",
       "    var output_area = handle.output_area;\n",
       "    var output = handle.output;\n",
       "\n",
       "    // limit handleAddOutput to display_data with EXEC_MIME_TYPE content only\n",
       "    if ((output.output_type != \"display_data\") || (!output.data.hasOwnProperty(EXEC_MIME_TYPE))) {\n",
       "      return\n",
       "    }\n",
       "\n",
       "    var toinsert = output_area.element.find(\".\" + CLASS_NAME.split(' ')[0]);\n",
       "\n",
       "    if (output.metadata[EXEC_MIME_TYPE][\"id\"] !== undefined) {\n",
       "      toinsert[toinsert.length - 1].firstChild.textContent = output.data[JS_MIME_TYPE];\n",
       "      // store reference to embed id on output_area\n",
       "      output_area._bokeh_element_id = output.metadata[EXEC_MIME_TYPE][\"id\"];\n",
       "    }\n",
       "    if (output.metadata[EXEC_MIME_TYPE][\"server_id\"] !== undefined) {\n",
       "      var bk_div = document.createElement(\"div\");\n",
       "      bk_div.innerHTML = output.data[HTML_MIME_TYPE];\n",
       "      var script_attrs = bk_div.children[0].attributes;\n",
       "      for (var i = 0; i < script_attrs.length; i++) {\n",
       "        toinsert[toinsert.length - 1].firstChild.setAttribute(script_attrs[i].name, script_attrs[i].value);\n",
       "        toinsert[toinsert.length - 1].firstChild.textContent = bk_div.children[0].textContent\n",
       "      }\n",
       "      // store reference to server id on output_area\n",
       "      output_area._bokeh_server_id = output.metadata[EXEC_MIME_TYPE][\"server_id\"];\n",
       "    }\n",
       "  }\n",
       "\n",
       "  function register_renderer(events, OutputArea) {\n",
       "\n",
       "    function append_mime(data, metadata, element) {\n",
       "      // create a DOM node to render to\n",
       "      var toinsert = this.create_output_subarea(\n",
       "        metadata,\n",
       "        CLASS_NAME,\n",
       "        EXEC_MIME_TYPE\n",
       "      );\n",
       "      this.keyboard_manager.register_events(toinsert);\n",
       "      // Render to node\n",
       "      var props = {data: data, metadata: metadata[EXEC_MIME_TYPE]};\n",
       "      render(props, toinsert[toinsert.length - 1]);\n",
       "      element.append(toinsert);\n",
       "      return toinsert\n",
       "    }\n",
       "\n",
       "    /* Handle when an output is cleared or removed */\n",
       "    events.on('clear_output.CodeCell', handleClearOutput);\n",
       "    events.on('delete.Cell', handleClearOutput);\n",
       "\n",
       "    /* Handle when a new output is added */\n",
       "    events.on('output_added.OutputArea', handleAddOutput);\n",
       "\n",
       "    /**\n",
       "     * Register the mime type and append_mime function with output_area\n",
       "     */\n",
       "    OutputArea.prototype.register_mime_type(EXEC_MIME_TYPE, append_mime, {\n",
       "      /* Is output safe? */\n",
       "      safe: true,\n",
       "      /* Index of renderer in `output_area.display_order` */\n",
       "      index: 0\n",
       "    });\n",
       "  }\n",
       "\n",
       "  // register the mime type if in Jupyter Notebook environment and previously unregistered\n",
       "  if (root.Jupyter !== undefined) {\n",
       "    var events = require('base/js/events');\n",
       "    var OutputArea = require('notebook/js/outputarea').OutputArea;\n",
       "\n",
       "    if (OutputArea.prototype.mime_types().indexOf(EXEC_MIME_TYPE) == -1) {\n",
       "      register_renderer(events, OutputArea);\n",
       "    }\n",
       "  }\n",
       "\n",
       "  \n",
       "  if (typeof (root._bokeh_timeout) === \"undefined\" || force === true) {\n",
       "    root._bokeh_timeout = Date.now() + 5000;\n",
       "    root._bokeh_failed_load = false;\n",
       "  }\n",
       "\n",
       "  var NB_LOAD_WARNING = {'data': {'text/html':\n",
       "     \"<div style='background-color: #fdd'>\\n\"+\n",
       "     \"<p>\\n\"+\n",
       "     \"BokehJS does not appear to have successfully loaded. If loading BokehJS from CDN, this \\n\"+\n",
       "     \"may be due to a slow or bad network connection. Possible fixes:\\n\"+\n",
       "     \"</p>\\n\"+\n",
       "     \"<ul>\\n\"+\n",
       "     \"<li>re-rerun `output_notebook()` to attempt to load from CDN again, or</li>\\n\"+\n",
       "     \"<li>use INLINE resources instead, as so:</li>\\n\"+\n",
       "     \"</ul>\\n\"+\n",
       "     \"<code>\\n\"+\n",
       "     \"from bokeh.resources import INLINE\\n\"+\n",
       "     \"output_notebook(resources=INLINE)\\n\"+\n",
       "     \"</code>\\n\"+\n",
       "     \"</div>\"}};\n",
       "\n",
       "  function display_loaded() {\n",
       "    var el = document.getElementById(\"1001\");\n",
       "    if (el != null) {\n",
       "      el.textContent = \"BokehJS is loading...\";\n",
       "    }\n",
       "    if (root.Bokeh !== undefined) {\n",
       "      if (el != null) {\n",
       "        el.textContent = \"BokehJS \" + root.Bokeh.version + \" successfully loaded.\";\n",
       "      }\n",
       "    } else if (Date.now() < root._bokeh_timeout) {\n",
       "      setTimeout(display_loaded, 100)\n",
       "    }\n",
       "  }\n",
       "\n",
       "\n",
       "  function run_callbacks() {\n",
       "    try {\n",
       "      root._bokeh_onload_callbacks.forEach(function(callback) {\n",
       "        if (callback != null)\n",
       "          callback();\n",
       "      });\n",
       "    } finally {\n",
       "      delete root._bokeh_onload_callbacks\n",
       "    }\n",
       "    console.debug(\"Bokeh: all callbacks have finished\");\n",
       "  }\n",
       "\n",
       "  function load_libs(css_urls, js_urls, callback) {\n",
       "    if (css_urls == null) css_urls = [];\n",
       "    if (js_urls == null) js_urls = [];\n",
       "\n",
       "    root._bokeh_onload_callbacks.push(callback);\n",
       "    if (root._bokeh_is_loading > 0) {\n",
       "      console.debug(\"Bokeh: BokehJS is being loaded, scheduling callback at\", now());\n",
       "      return null;\n",
       "    }\n",
       "    if (js_urls == null || js_urls.length === 0) {\n",
       "      run_callbacks();\n",
       "      return null;\n",
       "    }\n",
       "    console.debug(\"Bokeh: BokehJS not loaded, scheduling load and callback at\", now());\n",
       "    root._bokeh_is_loading = css_urls.length + js_urls.length;\n",
       "\n",
       "    function on_load() {\n",
       "      root._bokeh_is_loading--;\n",
       "      if (root._bokeh_is_loading === 0) {\n",
       "        console.debug(\"Bokeh: all BokehJS libraries/stylesheets loaded\");\n",
       "        run_callbacks()\n",
       "      }\n",
       "    }\n",
       "\n",
       "    function on_error() {\n",
       "      console.error(\"failed to load \" + url);\n",
       "    }\n",
       "\n",
       "    for (var i = 0; i < css_urls.length; i++) {\n",
       "      var url = css_urls[i];\n",
       "      const element = document.createElement(\"link\");\n",
       "      element.onload = on_load;\n",
       "      element.onerror = on_error;\n",
       "      element.rel = \"stylesheet\";\n",
       "      element.type = \"text/css\";\n",
       "      element.href = url;\n",
       "      console.debug(\"Bokeh: injecting link tag for BokehJS stylesheet: \", url);\n",
       "      document.body.appendChild(element);\n",
       "    }\n",
       "\n",
       "    const hashes = {\"https://cdn.bokeh.org/bokeh/release/bokeh-2.0.1.min.js\": \"JpP8FXbgAZLkfur7LiK3j9AGBhHNIvF742meBJrjO2ShJDhCG2I1uVvW+0DUtrmc\", \"https://cdn.bokeh.org/bokeh/release/bokeh-widgets-2.0.1.min.js\": \"xZlADit0Q04ISQEdKg2k3L4W9AwQBAuDs9nJL9fM/WwzL1tEU9VPNezOFX0nLEAz\", \"https://cdn.bokeh.org/bokeh/release/bokeh-tables-2.0.1.min.js\": \"4BuPRZkdMKSnj3zoxiNrQ86XgNw0rYmBOxe7nshquXwwcauupgBF2DHLVG1WuZlV\", \"https://cdn.bokeh.org/bokeh/release/bokeh-gl-2.0.1.min.js\": \"Dv1SQ87hmDqK6S5OhBf0bCuwAEvL5QYL0PuR/F1SPVhCS/r/abjkbpKDYL2zeM19\"};\n",
       "\n",
       "    for (var i = 0; i < js_urls.length; i++) {\n",
       "      var url = js_urls[i];\n",
       "      var element = document.createElement('script');\n",
       "      element.onload = on_load;\n",
       "      element.onerror = on_error;\n",
       "      element.async = false;\n",
       "      element.src = url;\n",
       "      if (url in hashes) {\n",
       "        element.crossOrigin = \"anonymous\";\n",
       "        element.integrity = \"sha384-\" + hashes[url];\n",
       "      }\n",
       "      console.debug(\"Bokeh: injecting script tag for BokehJS library: \", url);\n",
       "      document.head.appendChild(element);\n",
       "    }\n",
       "  };var element = document.getElementById(\"1001\");\n",
       "  if (element == null) {\n",
       "    console.error(\"Bokeh: ERROR: autoload.js configured with elementid '1001' but no matching script tag was found. \")\n",
       "    return false;\n",
       "  }\n",
       "\n",
       "  function inject_raw_css(css) {\n",
       "    const element = document.createElement(\"style\");\n",
       "    element.appendChild(document.createTextNode(css));\n",
       "    document.body.appendChild(element);\n",
       "  }\n",
       "\n",
       "  \n",
       "  var js_urls = [\"https://cdn.bokeh.org/bokeh/release/bokeh-2.0.1.min.js\", \"https://cdn.bokeh.org/bokeh/release/bokeh-widgets-2.0.1.min.js\", \"https://cdn.bokeh.org/bokeh/release/bokeh-tables-2.0.1.min.js\", \"https://cdn.bokeh.org/bokeh/release/bokeh-gl-2.0.1.min.js\"];\n",
       "  var css_urls = [];\n",
       "  \n",
       "\n",
       "  var inline_js = [\n",
       "    function(Bokeh) {\n",
       "      Bokeh.set_log_level(\"info\");\n",
       "    },\n",
       "    function(Bokeh) {\n",
       "    \n",
       "    \n",
       "    }\n",
       "  ];\n",
       "\n",
       "  function run_inline_js() {\n",
       "    \n",
       "    if (root.Bokeh !== undefined || force === true) {\n",
       "      \n",
       "    for (var i = 0; i < inline_js.length; i++) {\n",
       "      inline_js[i].call(root, root.Bokeh);\n",
       "    }\n",
       "    if (force === true) {\n",
       "        display_loaded();\n",
       "      }} else if (Date.now() < root._bokeh_timeout) {\n",
       "      setTimeout(run_inline_js, 100);\n",
       "    } else if (!root._bokeh_failed_load) {\n",
       "      console.log(\"Bokeh: BokehJS failed to load within specified timeout.\");\n",
       "      root._bokeh_failed_load = true;\n",
       "    } else if (force !== true) {\n",
       "      var cell = $(document.getElementById(\"1001\")).parents('.cell').data().cell;\n",
       "      cell.output_area.append_execute_result(NB_LOAD_WARNING)\n",
       "    }\n",
       "\n",
       "  }\n",
       "\n",
       "  if (root._bokeh_is_loading === 0) {\n",
       "    console.debug(\"Bokeh: BokehJS loaded, going straight to plotting\");\n",
       "    run_inline_js();\n",
       "  } else {\n",
       "    load_libs(css_urls, js_urls, function() {\n",
       "      console.debug(\"Bokeh: BokehJS plotting callback run at\", now());\n",
       "      run_inline_js();\n",
       "    });\n",
       "  }\n",
       "}(window));"
      ],
      "application/vnd.bokehjs_load.v0+json": "\n(function(root) {\n  function now() {\n    return new Date();\n  }\n\n  var force = true;\n\n  if (typeof root._bokeh_onload_callbacks === \"undefined\" || force === true) {\n    root._bokeh_onload_callbacks = [];\n    root._bokeh_is_loading = undefined;\n  }\n\n  \n\n  \n  if (typeof (root._bokeh_timeout) === \"undefined\" || force === true) {\n    root._bokeh_timeout = Date.now() + 5000;\n    root._bokeh_failed_load = false;\n  }\n\n  var NB_LOAD_WARNING = {'data': {'text/html':\n     \"<div style='background-color: #fdd'>\\n\"+\n     \"<p>\\n\"+\n     \"BokehJS does not appear to have successfully loaded. If loading BokehJS from CDN, this \\n\"+\n     \"may be due to a slow or bad network connection. Possible fixes:\\n\"+\n     \"</p>\\n\"+\n     \"<ul>\\n\"+\n     \"<li>re-rerun `output_notebook()` to attempt to load from CDN again, or</li>\\n\"+\n     \"<li>use INLINE resources instead, as so:</li>\\n\"+\n     \"</ul>\\n\"+\n     \"<code>\\n\"+\n     \"from bokeh.resources import INLINE\\n\"+\n     \"output_notebook(resources=INLINE)\\n\"+\n     \"</code>\\n\"+\n     \"</div>\"}};\n\n  function display_loaded() {\n    var el = document.getElementById(\"1001\");\n    if (el != null) {\n      el.textContent = \"BokehJS is loading...\";\n    }\n    if (root.Bokeh !== undefined) {\n      if (el != null) {\n        el.textContent = \"BokehJS \" + root.Bokeh.version + \" successfully loaded.\";\n      }\n    } else if (Date.now() < root._bokeh_timeout) {\n      setTimeout(display_loaded, 100)\n    }\n  }\n\n\n  function run_callbacks() {\n    try {\n      root._bokeh_onload_callbacks.forEach(function(callback) {\n        if (callback != null)\n          callback();\n      });\n    } finally {\n      delete root._bokeh_onload_callbacks\n    }\n    console.debug(\"Bokeh: all callbacks have finished\");\n  }\n\n  function load_libs(css_urls, js_urls, callback) {\n    if (css_urls == null) css_urls = [];\n    if (js_urls == null) js_urls = [];\n\n    root._bokeh_onload_callbacks.push(callback);\n    if (root._bokeh_is_loading > 0) {\n      console.debug(\"Bokeh: BokehJS is being loaded, scheduling callback at\", now());\n      return null;\n    }\n    if (js_urls == null || js_urls.length === 0) {\n      run_callbacks();\n      return null;\n    }\n    console.debug(\"Bokeh: BokehJS not loaded, scheduling load and callback at\", now());\n    root._bokeh_is_loading = css_urls.length + js_urls.length;\n\n    function on_load() {\n      root._bokeh_is_loading--;\n      if (root._bokeh_is_loading === 0) {\n        console.debug(\"Bokeh: all BokehJS libraries/stylesheets loaded\");\n        run_callbacks()\n      }\n    }\n\n    function on_error() {\n      console.error(\"failed to load \" + url);\n    }\n\n    for (var i = 0; i < css_urls.length; i++) {\n      var url = css_urls[i];\n      const element = document.createElement(\"link\");\n      element.onload = on_load;\n      element.onerror = on_error;\n      element.rel = \"stylesheet\";\n      element.type = \"text/css\";\n      element.href = url;\n      console.debug(\"Bokeh: injecting link tag for BokehJS stylesheet: \", url);\n      document.body.appendChild(element);\n    }\n\n    const hashes = {\"https://cdn.bokeh.org/bokeh/release/bokeh-2.0.1.min.js\": \"JpP8FXbgAZLkfur7LiK3j9AGBhHNIvF742meBJrjO2ShJDhCG2I1uVvW+0DUtrmc\", \"https://cdn.bokeh.org/bokeh/release/bokeh-widgets-2.0.1.min.js\": \"xZlADit0Q04ISQEdKg2k3L4W9AwQBAuDs9nJL9fM/WwzL1tEU9VPNezOFX0nLEAz\", \"https://cdn.bokeh.org/bokeh/release/bokeh-tables-2.0.1.min.js\": \"4BuPRZkdMKSnj3zoxiNrQ86XgNw0rYmBOxe7nshquXwwcauupgBF2DHLVG1WuZlV\", \"https://cdn.bokeh.org/bokeh/release/bokeh-gl-2.0.1.min.js\": \"Dv1SQ87hmDqK6S5OhBf0bCuwAEvL5QYL0PuR/F1SPVhCS/r/abjkbpKDYL2zeM19\"};\n\n    for (var i = 0; i < js_urls.length; i++) {\n      var url = js_urls[i];\n      var element = document.createElement('script');\n      element.onload = on_load;\n      element.onerror = on_error;\n      element.async = false;\n      element.src = url;\n      if (url in hashes) {\n        element.crossOrigin = \"anonymous\";\n        element.integrity = \"sha384-\" + hashes[url];\n      }\n      console.debug(\"Bokeh: injecting script tag for BokehJS library: \", url);\n      document.head.appendChild(element);\n    }\n  };var element = document.getElementById(\"1001\");\n  if (element == null) {\n    console.error(\"Bokeh: ERROR: autoload.js configured with elementid '1001' but no matching script tag was found. \")\n    return false;\n  }\n\n  function inject_raw_css(css) {\n    const element = document.createElement(\"style\");\n    element.appendChild(document.createTextNode(css));\n    document.body.appendChild(element);\n  }\n\n  \n  var js_urls = [\"https://cdn.bokeh.org/bokeh/release/bokeh-2.0.1.min.js\", \"https://cdn.bokeh.org/bokeh/release/bokeh-widgets-2.0.1.min.js\", \"https://cdn.bokeh.org/bokeh/release/bokeh-tables-2.0.1.min.js\", \"https://cdn.bokeh.org/bokeh/release/bokeh-gl-2.0.1.min.js\"];\n  var css_urls = [];\n  \n\n  var inline_js = [\n    function(Bokeh) {\n      Bokeh.set_log_level(\"info\");\n    },\n    function(Bokeh) {\n    \n    \n    }\n  ];\n\n  function run_inline_js() {\n    \n    if (root.Bokeh !== undefined || force === true) {\n      \n    for (var i = 0; i < inline_js.length; i++) {\n      inline_js[i].call(root, root.Bokeh);\n    }\n    if (force === true) {\n        display_loaded();\n      }} else if (Date.now() < root._bokeh_timeout) {\n      setTimeout(run_inline_js, 100);\n    } else if (!root._bokeh_failed_load) {\n      console.log(\"Bokeh: BokehJS failed to load within specified timeout.\");\n      root._bokeh_failed_load = true;\n    } else if (force !== true) {\n      var cell = $(document.getElementById(\"1001\")).parents('.cell').data().cell;\n      cell.output_area.append_execute_result(NB_LOAD_WARNING)\n    }\n\n  }\n\n  if (root._bokeh_is_loading === 0) {\n    console.debug(\"Bokeh: BokehJS loaded, going straight to plotting\");\n    run_inline_js();\n  } else {\n    load_libs(css_urls, js_urls, function() {\n      console.debug(\"Bokeh: BokehJS plotting callback run at\", now());\n      run_inline_js();\n    });\n  }\n}(window));"
     },
     "metadata": {},
     "output_type": "display_data"
    },
    {
     "data": {
      "text/html": [
       "\n",
       "\n",
       "\n",
       "\n",
       "\n",
       "\n",
       "  <div class=\"bk-root\" id=\"14dc9778-8850-41f1-aaa7-927e92a56fd6\" data-root-id=\"1003\"></div>\n"
      ]
     },
     "metadata": {},
     "output_type": "display_data"
    },
    {
     "data": {
      "application/javascript": [
       "(function(root) {\n",
       "  function embed_document(root) {\n",
       "    \n",
       "  var docs_json = {\"75f7d3db-4bde-4452-9684-a1c0e1326ab9\":{\"roots\":{\"references\":[{\"attributes\":{\"below\":[{\"id\":\"1014\"}],\"center\":[{\"id\":\"1017\"},{\"id\":\"1021\"},{\"id\":\"1045\"}],\"left\":[{\"id\":\"1018\"}],\"plot_height\":500,\"renderers\":[{\"id\":\"1026\"},{\"id\":\"1050\"},{\"id\":\"1075\"},{\"id\":\"1100\"}],\"title\":{\"id\":\"1004\"},\"toolbar\":{\"id\":\"1022\"},\"toolbar_location\":null,\"x_range\":{\"id\":\"1006\"},\"x_scale\":{\"id\":\"1010\"},\"y_range\":{\"id\":\"1008\"},\"y_scale\":{\"id\":\"1012\"}},\"id\":\"1003\",\"subtype\":\"Figure\",\"type\":\"Plot\"},{\"attributes\":{\"data\":{\"Ativo\":{\"__ndarray__\":\"AAAAAAAAAEAAAAAAAAAAQEmSJEmSJAFAkiRJkiRJAkDbtm3btm0DQCRJkiRJkgRAbNu2bdu2BUC2bdu2bdsGQAAAAAAAAAhAJEmSJEmSEEBIkiRJkiQVQG7btm3bthlAkSRJkiRJHkDbtm3btm0hQG3btm3btiNAAAAAAAAAJkCSJEmSJEkoQCRJkiRJkipAtm3btm3bLEBJkiRJkiQvQG3btm3btjBAt23btm3bMUAAAAAAAAAzQAAAAAAAgE1AAAAAAADAYkAAAAAAAKBrQAAAAAAAcHNAAAAAAABge0AAAAAAAIiCQAAAAAAAqIlAAAAAAAB0kEAAAAAAAKSYQAAAAAAArJxAAAAAAACuoUAAAAAAACSlQAAAAAAAwKlAAAAAAACYrkAAAAAAAMWzQAAAAAAA87hAAAAAAAAxv0AAAAAAAC3BQAAAAAAAr8RAAAAAAEDyyEAAAAAAgDXNQAAAAADAHtRAAAAAAIBT1UAAAAAAQIjWQAAAAACAc9lAAAAAAIAJ3EAAAAAAwDTgQAAAAACg0uJAAAAAACDX5EAAAAAAwMXmQAAAAABAnuhAAAAAAMBh6kAAAAAAIBbsQAAAAACgR+5AAAAAAOA28EAAAAAAEBvxQAAAAACACfJAAAAAAIBw8kAAAAAAMPTyQAAAAADAq/NAAAAAAJBG9EAAAAAAwNj0QAAAAAAgjfVAAAAAAOBG9kAAAAAAMMD2QAAAAAAw9/ZAAAAAAOBB90AAAAAA0Kb3QAAAAAAQ/vdAAAAAANB6+EAAAAAA0Pb4QAAAAAAATPlAAAAAADB2+UAAAAAAoLz5QAAAAADwBvpAAAAAACAd+kAAAAAAsE/6QAAAAAAQbvpAAAAAANBs+kAAAAAA0Ev6QAAAAAAwS/pAAAAAAAAW+kAAAAAA8AH6QAAAAABw1/lAAAAAAHDn+UAAAAAAUNX5QAAAAABQr/lAAAAAABCN+UAAAAAA8Mr4QAAAAADwpPhAAAAAAACW+EAAAAAAMHX4QAAAAADAaPhAAAAAADAK+EAAAAAAgFj2QAAAAACA4fVAAAAAAJB59UAAAAAAoLb0QAAAAADAV/RAAAAAAIAj9EAAAAAAINfzQAAAAACQJ/NAAAAAAICp8kAAAAAAYJjxQAAAAACwIvFAAAAAAPCv8EAAAAAAkD/wQAAAAAAgze9AAAAAAACk7kAAAAAAAMTtQAAAAABA9+xAAAAAAAAz7EAAAAAAQKLrQAAAAACAAOtAAAAAAMDZ6UAAAAAAwOLoQAAAAABAbudAAAAAAOCL5kAAAAAAYFXlQA==\",\"dtype\":\"float64\",\"shape\":[122]},\"Data\":{\"__ndarray__\":\"AABA9Tv/dkIAAABbjv92QgAAwMDg/3ZCAACAJjMAd0IAAECMhQB3QgAAAPLXAHdCAADAVyoBd0IAAIC9fAF3QgAAQCPPAXdCAAAAiSECd0IAAMDucwJ3QgAAgFTGAndCAABAuhgDd0IAAAAgawN3QgAAwIW9A3dCAACA6w8Ed0IAAEBRYgR3QgAAALe0BHdCAADAHAcFd0IAAICCWQV3QgAAQOirBXdCAAAATv4Fd0IAAMCzUAZ3QgAAgBmjBndCAABAf/UGd0IAAADlRwd3QgAAwEqaB3dCAACAsOwHd0IAAEAWPwh3QgAAAHyRCHdCAADA4eMId0IAAIBHNgl3QgAAQK2ICXdCAAAAE9sJd0IAAMB4LQp3QgAAgN5/CndCAABARNIKd0IAAACqJAt3QgAAwA93C3dCAACAdckLd0IAAEDbGwx3QgAAAEFuDHdCAADApsAMd0IAAIAMEw13QgAAQHJlDXdCAAAA2LcNd0IAAMA9Cg53QgAAgKNcDndCAABACa8Od0IAAABvAQ93QgAAwNRTD3dCAACAOqYPd0IAAECg+A93QgAAAAZLEHdCAADAa50Qd0IAAIDR7xB3QgAAQDdCEXdCAAAAnZQRd0IAAMAC5xF3QgAAgGg5EndCAABAzosSd0IAAAA03hJ3QgAAwJkwE3dCAACA/4ITd0IAAEBl1RN3QgAAAMsnFHdCAADAMHoUd0IAAICWzBR3QgAAQPweFXdCAAAAYnEVd0IAAMDHwxV3QgAAgC0WFndCAABAk2gWd0IAAAD5uhZ3QgAAwF4NF3dCAACAxF8Xd0IAAEAqshd3QgAAAJAEGHdCAADA9VYYd0IAAIBbqRh3QgAAQMH7GHdCAAAAJ04Zd0IAAMCMoBl3QgAAgPLyGXdCAABAWEUad0IAAAC+lxp3QgAAwCPqGndCAACAiTwbd0IAAEDvjht3QgAAAFXhG3dCAADAujMcd0IAAIAghhx3QgAAQIbYHHdCAAAA7Codd0IAAMBRfR13QgAAgLfPHXdCAABAHSIed0IAAACDdB53QgAAwOjGHndCAACAThkfd0IAAEC0ax93QgAAABq+H3dCAADAfxAgd0IAAIDlYiB3QgAAQEu1IHdCAAAAsQchd0IAAMAWWiF3QgAAgHysIXdCAABA4v4hd0IAAABIUSJ3QgAAwK2jIndCAACAE/Yid0IAAEB5SCN3QgAAAN+aI3dCAADARO0jd0IAAICqPyR3QgAAQBCSJHdCAAAAduQkd0IAAMDbNiV3QgAAgEGJJXdCAABAp9sld0IAAAANLiZ3Qg==\",\"dtype\":\"float64\",\"shape\":[122]},\"Infectados Acc\":{\"__ndarray__\":\"AAAAAAAAAEAAAAAAAAAAQEmSJEmSJAFAkiRJkiRJAkDbtm3btm0DQCRJkiRJkgRAbNu2bdu2BUC2bdu2bdsGQAAAAAAAAAhAtm3btm3bEEBt27Zt27YVQCRJkiRJkhpA2rZt27ZtH0BJkiRJkiQiQCRJkiRJkiRAAAAAAAAAJ0Datm3btm0pQLZt27Zt2ytAkiRJkiRJLkC3bdu2bVswQCRJkiRJkjFAkiRJkiTJMkAAAAAAAAA0QAAAAAAAAE9AAAAAAABgY0AAAAAAAKBsQAAAAAAAIHRAAAAAAABQfEAAAAAAAHiEQAAAAAAAwItAAAAAAACgkUAAAAAAAHiaQAAAAAAA0J9AAAAAAACMo0AAAAAAACKoQAAAAAAAJK5AAAAAAAAcskAAAAAAAPu2QAAAAAAAz7xAAAAAAADqwUAAAAAAgNLDQAAAAAAAV8hAAAAAAIBqzUAAAAAAAD/RQAAAAADAKthAAAAAAOC+2UAAAAAAAFPbQAAAAACAxN5AAAAAACBw4UAAAAAAYAnkQAAAAACg9eZAAAAAAEAp6kAAAAAAQODsQAAAAADgNu9AAAAAAIDj8EAAAAAAICnyQAAAAADQrPNAAAAAACAe9UAAAAAAgJP2QAAAAACQ2fdAAAAAALDW+EAAAAAAANT5QAAAAADg/vpAAAAAAKAi/EAAAAAAMEH9QAAAAACAbf5AAAAAAEB7/0AAAAAAGC4AQQAAAAAQjQBBAAAAAPAEAUEAAAAAUIgBQQAAAADIAwJBAAAAAHiWAkEAAAAAWBYDQQAAAADgeANBAAAAAMDVA0EAAAAAGCkEQQAAAABonwRBAAAAAJAMBUEAAAAAqHkFQQAAAADg2AVBAAAAAGAfBkEAAAAAqHQGQQAAAAD43QZBAAAAAKgwB0EAAAAAEI8HQQAAAAC42AdBAAAAAFghCEEAAAAAsFcIQQAAAAAImQhBAAAAADjaCEEAAAAAuBQJQQAAAAAgUglBAAAAAICNCUEAAAAA6LgJQQAAAAAQ3wlBAAAAAKgACkEAAAAAyC0KQQAAAACQWQpBAAAAAAiDCkEAAAAA4KQKQQAAAADwvQpBAAAAADDVCkEAAAAAAAELQQAAAADAHAtBAAAAAMA7C0EAAAAAaFQLQQAAAADAbwtBAAAAANiEC0EAAAAA8JILQQAAAABYrAtBAAAAACDBC0EAAAAAMNULQQAAAACQ6QtBAAAAAHj+C0EAAAAAEA8MQQAAAABwGAxBAAAAANgkDEEAAAAAGDcMQQAAAACgSQxBAAAAAMBZDEEAAAAAwGYMQQ==\",\"dtype\":\"float64\",\"shape\":[122]},\"Mortes\":{\"__ndarray__\":\"AAAAAAAAAAAAAAAAAAAAAAAAAAAAAAAAAAAAAAAAAAAAAAAAAAAAAAAAAAAAAAAAAAAAAAAAAAAAAAAAAAAAAAAAAAAAAAAAkiRJkiRJsj+SJEmSJEnCP9u2bdu2bcs/kiRJkiRJ0j+2bdu2bdvWP9u2bdu2bds/AAAAAAAA4D+SJEmSJEniPyRJkiRJkuQ/tm3btm3b5j9JkiRJkiTpP9u2bdu2bes/bdu2bdu27T8AAAAAAADwPwAAAAAAAABAAAAAAAAACEAAAAAAAAAcQAAAAAAAACRAAAAAAAAAKEAAAAAAAAAxQAAAAAAAADVAAAAAAAAAPUAAAAAAAABBQAAAAAAAAEpAAAAAAADAU0AAAAAAAMBaQAAAAAAAgGJAAAAAAACgaEAAAAAAACBtQAAAAAAA4HZAAAAAAADwfEAAAAAAALiDQAAAAAAA2IlAAAAAAABakEAAAAAAAMiTQAAAAAAARJxAAAAAAAD+nkAAAAAAANygQAAAAAAAjqNAAAAAAABEp0AAAAAAAJqqQAAAAAAAgK9AAAAAAADZskAAAAAAAGS1QAAAAAAAvbdAAAAAAACkukAAAAAAAE+9QAAAAACAC8BAAAAAAADXwUAAAAAAgJPDQAAAAACADcVAAAAAAICjxkAAAAAAAEbIQAAAAACAsclAAAAAAIAty0AAAAAAgKzMQAAAAAAAAc5AAAAAAIAHz0AAAAAAwCLQQAAAAADAudBAAAAAAEBB0UAAAAAAwNnRQAAAAABAaNJAAAAAAAAD00AAAAAAwG7TQAAAAABA/NNAAAAAAMCS1EAAAAAAQCPVQAAAAACAptVAAAAAAEA21kAAAAAAwK7WQAAAAAAAG9dAAAAAAICM10AAAAAAABLYQAAAAABAf9hAAAAAAEDz2EAAAAAAQFzZQAAAAAAAxNlAAAAAAAAF2kAAAAAAQFjaQAAAAADAt9pAAAAAAIAI20AAAAAAwE/bQAAAAAAAk9tAAAAAAIAJ3EAAAAAAADXcQAAAAADAZdxAAAAAAMCg3EAAAAAAAP3cQAAAAACAQd1AAAAAAEB+3UAAAAAAwK7dQAAAAAAA2N1AAAAAAMAE3kAAAAAAwC/eQAAAAACAYN5AAAAAAACi3kAAAAAAgN7eQAAAAADABN9AAAAAAAAp30AAAAAAwEHfQAAAAABAat9AAAAAAICS30AAAAAAgLnfQAAAAAAA2t9AAAAAAMD330AAAAAAIALgQAAAAACgDeBAAAAAAGAX4EAAAAAAACbgQAAAAADALuBAAAAAAKA54EAAAAAAgEfgQA==\",\"dtype\":\"float64\",\"shape\":[122]},\"Recuperados\":{\"__ndarray__\":\"AAAAAAAAAAAAAAAAAAAAAAAAAAAAAAAAAAAAAAAAAAAAAAAAAAAAAAAAAAAAAAAAAAAAAAAAAAAAAAAAAAAAAAAAAAAAAAAAAAAAAAAAAAAAAAAAAAAAAAAAAAAAAAAAAAAAAAAAAAAAAAAAAAAAAAAAAAAAAAAAAAAAAAAAAAAAAAAAAAAAAAAAAAAAAAAAAAAAAAAAAAAAAAAAAAAAAAAAAAAAAAAAAAAAAAAAAAAAAAAAAAAAAAAAAAAAAPA/AAAAAAAAAEAAAAAAAADwPwAAAAAAAPA/AAAAAAAACEAAAAAAAIBGQAAAAAAAAEdAAAAAAAAAR0AAAAAAAMBUQAAAAAAAoGJAAAAAAAAAZEAAAAAAAEBxQAAAAAAA4HlAAAAAAABYgEAAAAAAAGiCQAAAAAAAcINAAAAAAACghkAAAAAAAKCGQAAAAAAAVJBAAAAAAABok0AAAAAAAHyWQAAAAAAAPqJAAAAAAADco0AAAAAAAHqlQAAAAAAA+qZAAAAAAAByr0AAAAAAAFixQAAAAAAAWLFAAAAAAAC4t0AAAAAAAHC7QAAAAAAACL1AAAAAAABDwEAAAAAAAEnCQAAAAACAPMRAAAAAAABjxUAAAAAAADDIQAAAAAAAc8lAAAAAAACOzEAAAAAAgLjOQAAAAADAc9BAAAAAAIDZ0UAAAAAAgEvTQAAAAAAAgdRAAAAAAMBN1UAAAAAAQE3WQAAAAAAA0tdAAAAAAMDe2UAAAAAAgM3bQAAAAADAvd1AAAAAAIDF30AAAAAAYLTgQAAAAABgTeFAAAAAAEAh4kAAAAAAgJniQAAAAACAnONAAAAAAODc5EAAAAAA4O/lQAAAAADg+eZAAAAAAKDd50AAAAAAADLpQAAAAADgoepAAAAAAAAd7EAAAAAAQIrtQAAAAAAA0u5AAAAAAAC070AAAAAAAETwQAAAAADQ1PBAAAAAAEBl8UAAAAAAkIryQAAAAACQGvNAAAAAAKCC80AAAAAAYO/zQAAAAADwO/RAAAAAAPDO9EAAAAAA0MP2QAAAAABAgfdAAAAAAPAs+EAAAAAAcCf5QAAAAAAgrvlAAAAAALAF+kAAAAAA8J76QAAAAADQeftAAAAAAIAl/EAAAAAA0Fj9QAAAAACg+/1AAAAAAICP/kAAAAAA4BX/QAAAAACQl/9AAAAAANAlAEEAAAAAAG0AQQAAAACAsABBAAAAAMDyAEEAAAAA+CUBQQAAAADoVAFBAAAAAJCoAUEAAAAA6PQBQQAAAABgYgJBAAAAAGCoAkEAAAAAiP8CQQ==\",\"dtype\":\"float64\",\"shape\":[122]},\"d\":[\"30\",\"31\",\"01\",\"02\",\"03\",\"04\",\"05\",\"06\",\"07\",\"08\",\"09\",\"10\",\"11\",\"12\",\"13\",\"14\",\"15\",\"16\",\"17\",\"18\",\"19\",\"20\",\"21\",\"22\",\"23\",\"24\",\"25\",\"26\",\"27\",\"28\",\"29\",\"01\",\"02\",\"03\",\"04\",\"05\",\"06\",\"07\",\"08\",\"09\",\"10\",\"11\",\"12\",\"13\",\"14\",\"15\",\"16\",\"17\",\"18\",\"19\",\"20\",\"21\",\"22\",\"23\",\"24\",\"25\",\"26\",\"27\",\"28\",\"29\",\"30\",\"31\",\"01\",\"02\",\"03\",\"04\",\"05\",\"06\",\"07\",\"08\",\"09\",\"10\",\"11\",\"12\",\"13\",\"14\",\"15\",\"16\",\"17\",\"18\",\"19\",\"20\",\"21\",\"22\",\"23\",\"24\",\"25\",\"26\",\"27\",\"28\",\"29\",\"30\",\"01\",\"02\",\"03\",\"04\",\"05\",\"06\",\"07\",\"08\",\"09\",\"10\",\"11\",\"12\",\"13\",\"14\",\"15\",\"16\",\"17\",\"18\",\"19\",\"20\",\"21\",\"22\",\"23\",\"24\",\"25\",\"26\",\"27\",\"28\",\"29\",\"30\"],\"m\":[\"01\",\"01\",\"02\",\"02\",\"02\",\"02\",\"02\",\"02\",\"02\",\"02\",\"02\",\"02\",\"02\",\"02\",\"02\",\"02\",\"02\",\"02\",\"02\",\"02\",\"02\",\"02\",\"02\",\"02\",\"02\",\"02\",\"02\",\"02\",\"02\",\"02\",\"02\",\"03\",\"03\",\"03\",\"03\",\"03\",\"03\",\"03\",\"03\",\"03\",\"03\",\"03\",\"03\",\"03\",\"03\",\"03\",\"03\",\"03\",\"03\",\"03\",\"03\",\"03\",\"03\",\"03\",\"03\",\"03\",\"03\",\"03\",\"03\",\"03\",\"03\",\"03\",\"04\",\"04\",\"04\",\"04\",\"04\",\"04\",\"04\",\"04\",\"04\",\"04\",\"04\",\"04\",\"04\",\"04\",\"04\",\"04\",\"04\",\"04\",\"04\",\"04\",\"04\",\"04\",\"04\",\"04\",\"04\",\"04\",\"04\",\"04\",\"04\",\"04\",\"05\",\"05\",\"05\",\"05\",\"05\",\"05\",\"05\",\"05\",\"05\",\"05\",\"05\",\"05\",\"05\",\"05\",\"05\",\"05\",\"05\",\"05\",\"05\",\"05\",\"05\",\"05\",\"05\",\"05\",\"05\",\"05\",\"05\",\"05\",\"05\",\"05\"],\"y\":[\"2020\",\"2020\",\"2020\",\"2020\",\"2020\",\"2020\",\"2020\",\"2020\",\"2020\",\"2020\",\"2020\",\"2020\",\"2020\",\"2020\",\"2020\",\"2020\",\"2020\",\"2020\",\"2020\",\"2020\",\"2020\",\"2020\",\"2020\",\"2020\",\"2020\",\"2020\",\"2020\",\"2020\",\"2020\",\"2020\",\"2020\",\"2020\",\"2020\",\"2020\",\"2020\",\"2020\",\"2020\",\"2020\",\"2020\",\"2020\",\"2020\",\"2020\",\"2020\",\"2020\",\"2020\",\"2020\",\"2020\",\"2020\",\"2020\",\"2020\",\"2020\",\"2020\",\"2020\",\"2020\",\"2020\",\"2020\",\"2020\",\"2020\",\"2020\",\"2020\",\"2020\",\"2020\",\"2020\",\"2020\",\"2020\",\"2020\",\"2020\",\"2020\",\"2020\",\"2020\",\"2020\",\"2020\",\"2020\",\"2020\",\"2020\",\"2020\",\"2020\",\"2020\",\"2020\",\"2020\",\"2020\",\"2020\",\"2020\",\"2020\",\"2020\",\"2020\",\"2020\",\"2020\",\"2020\",\"2020\",\"2020\",\"2020\",\"2020\",\"2020\",\"2020\",\"2020\",\"2020\",\"2020\",\"2020\",\"2020\",\"2020\",\"2020\",\"2020\",\"2020\",\"2020\",\"2020\",\"2020\",\"2020\",\"2020\",\"2020\",\"2020\",\"2020\",\"2020\",\"2020\",\"2020\",\"2020\",\"2020\",\"2020\",\"2020\",\"2020\",\"2020\",\"2020\"]},\"selected\":{\"id\":\"1057\"},\"selection_policy\":{\"id\":\"1058\"}},\"id\":\"1002\",\"type\":\"ColumnDataSource\"},{\"attributes\":{\"days\":[1,2,3,4,5,6,7,8,9,10,11,12,13,14,15,16,17,18,19,20,21,22,23,24,25,26,27,28,29,30,31]},\"id\":\"1036\",\"type\":\"DaysTicker\"},{\"attributes\":{\"days\":[1,4,7,10,13,16,19,22,25,28]},\"id\":\"1037\",\"type\":\"DaysTicker\"},{\"attributes\":{\"label\":{\"value\":\"Infectados Acc\"},\"renderers\":[{\"id\":\"1075\"}]},\"id\":\"1096\",\"type\":\"LegendItem\"},{\"attributes\":{\"line_cap\":\"round\",\"line_color\":\"#c62828\",\"line_width\":5,\"x\":{\"field\":\"Data\"},\"y\":{\"field\":\"Ativo\"}},\"id\":\"1024\",\"type\":\"Line\"},{\"attributes\":{\"source\":{\"id\":\"1002\"}},\"id\":\"1101\",\"type\":\"CDSView\"},{\"attributes\":{\"days\":[1,8,15,22]},\"id\":\"1038\",\"type\":\"DaysTicker\"},{\"attributes\":{},\"id\":\"1008\",\"type\":\"DataRange1d\"},{\"attributes\":{\"data_source\":{\"id\":\"1002\"},\"glyph\":{\"id\":\"1098\"},\"hover_glyph\":null,\"muted_glyph\":null,\"nonselection_glyph\":{\"id\":\"1099\"},\"selection_glyph\":null,\"view\":{\"id\":\"1101\"}},\"id\":\"1100\",\"type\":\"GlyphRenderer\"},{\"attributes\":{\"source\":{\"id\":\"1002\"}},\"id\":\"1076\",\"type\":\"CDSView\"},{\"attributes\":{\"days\":[1,15]},\"id\":\"1039\",\"type\":\"DaysTicker\"},{\"attributes\":{\"text\":\"Evolu\\u00e7\\u00e3o do COVID - Italy\"},\"id\":\"1004\",\"type\":\"Title\"},{\"attributes\":{\"axis_label\":\"Indiv\\u00edduos\",\"formatter\":{\"id\":\"1029\"},\"ticker\":{\"id\":\"1019\"}},\"id\":\"1018\",\"type\":\"LinearAxis\"},{\"attributes\":{\"line_alpha\":0.1,\"line_cap\":\"round\",\"line_color\":\"#c62828\",\"line_width\":5,\"x\":{\"field\":\"Data\"},\"y\":{\"field\":\"Ativo\"}},\"id\":\"1025\",\"type\":\"Line\"},{\"attributes\":{\"line_cap\":\"round\",\"line_color\":\"#512da8\",\"line_width\":5,\"x\":{\"field\":\"Data\"},\"y\":{\"field\":\"Mortes\"}},\"id\":\"1048\",\"type\":\"Line\"},{\"attributes\":{\"label\":{\"value\":\"Recuperados\"},\"renderers\":[{\"id\":\"1100\"}]},\"id\":\"1121\",\"type\":\"LegendItem\"},{\"attributes\":{\"line_alpha\":0.1,\"line_cap\":\"round\",\"line_color\":\"#0288d1\",\"line_width\":5,\"x\":{\"field\":\"Data\"},\"y\":{\"field\":\"Infectados Acc\"}},\"id\":\"1074\",\"type\":\"Line\"},{\"attributes\":{\"months\":[0,1,2,3,4,5,6,7,8,9,10,11]},\"id\":\"1040\",\"type\":\"MonthsTicker\"},{\"attributes\":{},\"id\":\"1006\",\"type\":\"DataRange1d\"},{\"attributes\":{},\"id\":\"1029\",\"type\":\"BasicTickFormatter\"},{\"attributes\":{\"months\":[0,2,4,6,8,10]},\"id\":\"1041\",\"type\":\"MonthsTicker\"},{\"attributes\":{},\"id\":\"1012\",\"type\":\"LinearScale\"},{\"attributes\":{\"months\":[0,4,8]},\"id\":\"1042\",\"type\":\"MonthsTicker\"},{\"attributes\":{\"axis_label\":\"Dias\",\"formatter\":{\"id\":\"1031\"},\"ticker\":{\"id\":\"1015\"}},\"id\":\"1014\",\"type\":\"DatetimeAxis\"},{\"attributes\":{\"data_source\":{\"id\":\"1002\"},\"glyph\":{\"id\":\"1024\"},\"hover_glyph\":null,\"muted_glyph\":null,\"nonselection_glyph\":{\"id\":\"1025\"},\"selection_glyph\":null,\"view\":{\"id\":\"1027\"}},\"id\":\"1026\",\"type\":\"GlyphRenderer\"},{\"attributes\":{\"months\":[0,6]},\"id\":\"1043\",\"type\":\"MonthsTicker\"},{\"attributes\":{\"callback\":null,\"renderers\":[{\"id\":\"1050\"},{\"id\":\"1026\"},{\"id\":\"1075\"},{\"id\":\"1100\"}],\"tooltips\":[[\"Indiv\\u00edduos\",\"$y{i}\"],[\"Data\",\"@d/@m/@y\"]]},\"id\":\"1122\",\"type\":\"HoverTool\"},{\"attributes\":{\"num_minor_ticks\":5,\"tickers\":[{\"id\":\"1033\"},{\"id\":\"1034\"},{\"id\":\"1035\"},{\"id\":\"1036\"},{\"id\":\"1037\"},{\"id\":\"1038\"},{\"id\":\"1039\"},{\"id\":\"1040\"},{\"id\":\"1041\"},{\"id\":\"1042\"},{\"id\":\"1043\"},{\"id\":\"1044\"}]},\"id\":\"1015\",\"type\":\"DatetimeTicker\"},{\"attributes\":{},\"id\":\"1031\",\"type\":\"DatetimeTickFormatter\"},{\"attributes\":{},\"id\":\"1058\",\"type\":\"UnionRenderers\"},{\"attributes\":{},\"id\":\"1044\",\"type\":\"YearsTicker\"},{\"attributes\":{\"axis\":{\"id\":\"1014\"},\"grid_line_alpha\":0,\"ticker\":null},\"id\":\"1017\",\"type\":\"Grid\"},{\"attributes\":{\"label\":{\"value\":\"Infectados\"},\"renderers\":[{\"id\":\"1026\"}]},\"id\":\"1046\",\"type\":\"LegendItem\"},{\"attributes\":{\"source\":{\"id\":\"1002\"}},\"id\":\"1027\",\"type\":\"CDSView\"},{\"attributes\":{},\"id\":\"1057\",\"type\":\"Selection\"},{\"attributes\":{\"click_policy\":\"hide\",\"items\":[{\"id\":\"1046\"},{\"id\":\"1071\"},{\"id\":\"1096\"},{\"id\":\"1121\"}],\"location\":\"top_left\"},\"id\":\"1045\",\"type\":\"Legend\"},{\"attributes\":{},\"id\":\"1019\",\"type\":\"BasicTicker\"},{\"attributes\":{\"axis\":{\"id\":\"1018\"},\"band_fill_alpha\":0.1,\"band_fill_color\":\"olive\",\"dimension\":1,\"grid_line_alpha\":0,\"ticker\":null},\"id\":\"1021\",\"type\":\"Grid\"},{\"attributes\":{\"mantissas\":[1,2,5],\"max_interval\":500.0,\"num_minor_ticks\":0},\"id\":\"1033\",\"type\":\"AdaptiveTicker\"},{\"attributes\":{\"active_drag\":\"auto\",\"active_inspect\":\"auto\",\"active_multi\":null,\"active_scroll\":\"auto\",\"active_tap\":\"auto\",\"tools\":[{\"id\":\"1122\"}]},\"id\":\"1022\",\"type\":\"Toolbar\"},{\"attributes\":{\"source\":{\"id\":\"1002\"}},\"id\":\"1051\",\"type\":\"CDSView\"},{\"attributes\":{\"data_source\":{\"id\":\"1002\"},\"glyph\":{\"id\":\"1048\"},\"hover_glyph\":null,\"muted_glyph\":null,\"nonselection_glyph\":{\"id\":\"1049\"},\"selection_glyph\":null,\"view\":{\"id\":\"1051\"}},\"id\":\"1050\",\"type\":\"GlyphRenderer\"},{\"attributes\":{},\"id\":\"1010\",\"type\":\"LinearScale\"},{\"attributes\":{\"line_alpha\":0.1,\"line_cap\":\"round\",\"line_color\":\"#512da8\",\"line_width\":5,\"x\":{\"field\":\"Data\"},\"y\":{\"field\":\"Mortes\"}},\"id\":\"1049\",\"type\":\"Line\"},{\"attributes\":{\"base\":24,\"mantissas\":[1,2,4,6,8,12],\"max_interval\":43200000.0,\"min_interval\":3600000.0,\"num_minor_ticks\":0},\"id\":\"1035\",\"type\":\"AdaptiveTicker\"},{\"attributes\":{\"data_source\":{\"id\":\"1002\"},\"glyph\":{\"id\":\"1073\"},\"hover_glyph\":null,\"muted_glyph\":null,\"nonselection_glyph\":{\"id\":\"1074\"},\"selection_glyph\":null,\"view\":{\"id\":\"1076\"}},\"id\":\"1075\",\"type\":\"GlyphRenderer\"},{\"attributes\":{\"line_cap\":\"round\",\"line_color\":\"#0288d1\",\"line_width\":5,\"x\":{\"field\":\"Data\"},\"y\":{\"field\":\"Infectados Acc\"}},\"id\":\"1073\",\"type\":\"Line\"},{\"attributes\":{\"base\":60,\"mantissas\":[1,2,5,10,15,20,30],\"max_interval\":1800000.0,\"min_interval\":1000.0,\"num_minor_ticks\":0},\"id\":\"1034\",\"type\":\"AdaptiveTicker\"},{\"attributes\":{\"line_alpha\":0.1,\"line_cap\":\"round\",\"line_color\":\"#388e3c\",\"line_width\":5,\"x\":{\"field\":\"Data\"},\"y\":{\"field\":\"Recuperados\"}},\"id\":\"1099\",\"type\":\"Line\"},{\"attributes\":{\"line_cap\":\"round\",\"line_color\":\"#388e3c\",\"line_width\":5,\"x\":{\"field\":\"Data\"},\"y\":{\"field\":\"Recuperados\"}},\"id\":\"1098\",\"type\":\"Line\"},{\"attributes\":{\"label\":{\"value\":\"Mortes\"},\"renderers\":[{\"id\":\"1050\"}]},\"id\":\"1071\",\"type\":\"LegendItem\"}],\"root_ids\":[\"1003\"]},\"title\":\"Bokeh Application\",\"version\":\"2.0.1\"}};\n",
       "  var render_items = [{\"docid\":\"75f7d3db-4bde-4452-9684-a1c0e1326ab9\",\"root_ids\":[\"1003\"],\"roots\":{\"1003\":\"14dc9778-8850-41f1-aaa7-927e92a56fd6\"}}];\n",
       "  root.Bokeh.embed.embed_items_notebook(docs_json, render_items);\n",
       "\n",
       "  }\n",
       "  if (root.Bokeh !== undefined) {\n",
       "    embed_document(root);\n",
       "  } else {\n",
       "    var attempts = 0;\n",
       "    var timer = setInterval(function(root) {\n",
       "      if (root.Bokeh !== undefined) {\n",
       "        clearInterval(timer);\n",
       "        embed_document(root);\n",
       "      } else {\n",
       "        attempts++;\n",
       "        if (attempts > 100) {\n",
       "          clearInterval(timer);\n",
       "          console.log(\"Bokeh: ERROR: Unable to run BokehJS code because BokehJS library is missing\");\n",
       "        }\n",
       "      }\n",
       "    }, 10, root)\n",
       "  }\n",
       "})(window);"
      ],
      "application/vnd.bokehjs_exec.v0+json": ""
     },
     "metadata": {
      "application/vnd.bokehjs_exec.v0+json": {
       "id": "1003"
      }
     },
     "output_type": "display_data"
    }
   ],
   "source": [
    "\n",
    "from bokeh.models   import Legend, ColumnDataSource, RangeTool, LinearAxis, Range1d, HoverTool\n",
    "from bokeh.palettes import brewer, Inferno256\n",
    "from bokeh.plotting import figure, show\n",
    "from bokeh.layouts  import column\n",
    "from bokeh.io       import output_notebook\n",
    "\n",
    "output_notebook()\n",
    "\n",
    "import numpy as np\n",
    "\n",
    "# Criando os valores para legenda no plot\n",
    "year =  [str(int(d.year)) for d in df['date'] ]\n",
    "month = [(\"0\"+str(int(d.month)))[-2:] for d in df['date'] ]\n",
    "day =   [(\"0\"+str(int(d.day)))[-2:] for d in df['date'] ]\n",
    "\n",
    "# Criando a fonte de dados\n",
    "source = ColumnDataSource(data={\n",
    "    'Data'       : df['date'].values,\n",
    "    'd': day, 'm': month, 'y': year,\n",
    "    'Infectados Acc' : df['confirmed'].values,\n",
    "    'Mortes'     : df['deaths'].values,\n",
    "    'Ativo'     : df['active'].values,\n",
    "    'Recuperados': df['recovered'].values\n",
    "})\n",
    "\n",
    "\n",
    "# Criando a figura\n",
    "p = figure(plot_height=500,\n",
    "           plot_width=600,\n",
    "           x_axis_type=\"datetime\", \n",
    "           tools=\"\", \n",
    "           #y_axis_type=\"log\",\n",
    "           toolbar_location=None,\n",
    "           title=\"Evolução do COVID - \" + country['data']['name'])\n",
    "\n",
    "# Preparando o estilo\n",
    "p.grid.grid_line_alpha = 0\n",
    "p.ygrid.band_fill_color = \"olive\"\n",
    "p.ygrid.band_fill_alpha = 0.1\n",
    "p.yaxis.axis_label = \"Indivíduos\"\n",
    "p.xaxis.axis_label = \"Dias\"\n",
    "\n",
    "# Incluindo as curvas\n",
    "i_p = p.line(x='Data', y='Ativo',\n",
    "             legend_label=\"Infectados\", \n",
    "             line_cap=\"round\", line_width=5, color=\"#c62828\", source=source)\n",
    "m_p = p.line(x='Data', y='Mortes',\n",
    "             legend_label=\"Mortes\",\n",
    "             line_cap=\"round\", line_width=5, color=\"#512da8\", source=source)\n",
    "c_p = p.line(x='Data', y='Infectados Acc',\n",
    "             legend_label=\"Infectados Acc\",\n",
    "             line_cap=\"round\", line_width=5, color=\"#0288d1\", source=source)\n",
    "r_p = p.line(x='Data', y='Recuperados',\n",
    "             legend_label=\"Recuperados\",\n",
    "             line_cap=\"round\", line_width=5, color=\"#388e3c\", source=source)\n",
    "\n",
    "# Colocando as legendas\n",
    "p.legend.click_policy=\"hide\"\n",
    "# p.legend.location = \"top_left\"\n",
    "p.legend.location = \"top_left\"\n",
    "\n",
    "# Incluindo a ferramenta de hover\n",
    "p.add_tools(HoverTool(\n",
    "    tooltips=[\n",
    "        ( 'Indivíduos', '$y{i}'),\n",
    "        ( 'Data',       '@d/@m/@y' ),\n",
    "    ],\n",
    "    renderers=[\n",
    "        m_p, i_p, c_p, r_p\n",
    "    ]\n",
    "))\n",
    "\n",
    "show(p)"
   ]
  },
  {
   "cell_type": "markdown",
   "metadata": {},
   "source": [
    "## Verificando os dados"
   ]
  },
  {
   "cell_type": "code",
   "execution_count": 4,
   "metadata": {},
   "outputs": [
    {
     "name": "stdout",
     "output_type": "stream",
     "text": [
      "Erro entre casos acumulados e valores de confirmados: 4.0\n"
     ]
    }
   ],
   "source": [
    "\n",
    "dif_I = np.diff(df['active'])\n",
    "cum = []\n",
    "cum.append(dif_I[0])\n",
    "\n",
    "for k, i in enumerate(dif_I):\n",
    "    cum.append(cum[-1] + i)\n",
    "    \n",
    "cum = np.array(cum)\n",
    "cum += df['deaths'].to_numpy() + df['recovered'].to_numpy()\n",
    "\n",
    "print(\"Erro entre casos acumulados e valores de confirmados: {}\".format(\n",
    "        round(sum((cum - df['confirmed'].values)**2 / len(cum)),2) ) ) \n"
   ]
  },
  {
   "cell_type": "markdown",
   "metadata": {},
   "source": [
    "## Criando os dados SIR"
   ]
  },
  {
   "cell_type": "code",
   "execution_count": 41,
   "metadata": {},
   "outputs": [],
   "source": [
    "\n",
    "I = df['active'].to_numpy()\n",
    "R = df['recovered'].to_numpy()\n",
    "M = df['deaths'].to_numpy()\n",
    "S = N - R - I\n",
    "\n",
    "# Creating the time vector\n",
    "t = np.linspace(0, len(I), len(I))\n",
    "\n",
    "\n",
    "Sd, Id, Md, Rd, td = S, I, M, R, t"
   ]
  },
  {
   "cell_type": "code",
   "execution_count": 42,
   "metadata": {},
   "outputs": [
    {
     "data": {
      "text/html": [
       "\n",
       "\n",
       "\n",
       "\n",
       "\n",
       "\n",
       "  <div class=\"bk-root\" id=\"a4b16a69-70a1-4bc2-a255-7c87b6fcf3dd\" data-root-id=\"5690\"></div>\n"
      ]
     },
     "metadata": {},
     "output_type": "display_data"
    },
    {
     "data": {
      "application/javascript": [
       "(function(root) {\n",
       "  function embed_document(root) {\n",
       "    \n",
       "  var docs_json = {\"640766ef-2e8e-4756-9fec-135232756add\":{\"roots\":{\"references\":[{\"attributes\":{\"below\":[{\"id\":\"5701\"}],\"center\":[{\"id\":\"5704\"},{\"id\":\"5708\"},{\"id\":\"5732\"}],\"left\":[{\"id\":\"5705\"}],\"plot_height\":500,\"renderers\":[{\"id\":\"5713\"},{\"id\":\"5737\"},{\"id\":\"5762\"},{\"id\":\"5789\"},{\"id\":\"5818\"}],\"title\":{\"id\":\"5691\"},\"toolbar\":{\"id\":\"5709\"},\"toolbar_location\":null,\"x_range\":{\"id\":\"5693\"},\"x_scale\":{\"id\":\"5697\"},\"y_range\":{\"id\":\"5695\"},\"y_scale\":{\"id\":\"5699\"}},\"id\":\"5690\",\"subtype\":\"Figure\",\"type\":\"Plot\"},{\"attributes\":{\"data_source\":{\"id\":\"5786\"},\"glyph\":{\"id\":\"5787\"},\"hover_glyph\":null,\"muted_glyph\":null,\"nonselection_glyph\":{\"id\":\"5788\"},\"selection_glyph\":null,\"view\":{\"id\":\"5790\"}},\"id\":\"5789\",\"type\":\"GlyphRenderer\"},{\"attributes\":{\"label\":{\"value\":\"Infectados\"},\"renderers\":[{\"id\":\"5713\"}]},\"id\":\"5733\",\"type\":\"LegendItem\"},{\"attributes\":{\"data_source\":{\"id\":\"5710\"},\"glyph\":{\"id\":\"5711\"},\"hover_glyph\":null,\"muted_glyph\":null,\"nonselection_glyph\":{\"id\":\"5712\"},\"selection_glyph\":null,\"view\":{\"id\":\"5714\"}},\"id\":\"5713\",\"type\":\"GlyphRenderer\"},{\"attributes\":{\"num_minor_ticks\":10},\"id\":\"5706\",\"type\":\"LogTicker\"},{\"attributes\":{\"fill_alpha\":{\"value\":0.2},\"fill_color\":{\"value\":\"#1a237e\"},\"line_color\":{\"value\":\"#1f77b4\"},\"line_width\":{\"value\":0},\"x\":{\"field\":\"x\"},\"y\":{\"field\":\"y\"}},\"id\":\"5816\",\"type\":\"Scatter\"},{\"attributes\":{},\"id\":\"5718\",\"type\":\"DatetimeTickFormatter\"},{\"attributes\":{\"axis_label\":\"Indiv\\u00edduos\",\"formatter\":{\"id\":\"5716\"},\"ticker\":{\"id\":\"5706\"}},\"id\":\"5705\",\"type\":\"LogAxis\"},{\"attributes\":{\"fill_alpha\":{\"value\":0.1},\"fill_color\":{\"value\":\"#e91e63\"},\"line_alpha\":{\"value\":0.1},\"line_color\":{\"value\":\"#1f77b4\"},\"line_width\":{\"value\":0},\"x\":{\"field\":\"x\"},\"y\":{\"field\":\"y\"}},\"id\":\"5788\",\"type\":\"Scatter\"},{\"attributes\":{\"fill_alpha\":{\"value\":0.2},\"fill_color\":{\"value\":\"#e91e63\"},\"line_color\":{\"value\":\"#1f77b4\"},\"line_width\":{\"value\":0},\"x\":{\"field\":\"x\"},\"y\":{\"field\":\"y\"}},\"id\":\"5787\",\"type\":\"Scatter\"},{\"attributes\":{\"ticker\":null},\"id\":\"5716\",\"type\":\"LogTickFormatter\"},{\"attributes\":{\"line_cap\":\"round\",\"line_color\":\"#388e3c\",\"line_width\":5,\"x\":{\"field\":\"x\"},\"y\":{\"field\":\"y\"}},\"id\":\"5760\",\"type\":\"Line\"},{\"attributes\":{\"source\":{\"id\":\"5786\"}},\"id\":\"5790\",\"type\":\"CDSView\"},{\"attributes\":{\"active_drag\":\"auto\",\"active_inspect\":\"auto\",\"active_multi\":null,\"active_scroll\":\"auto\",\"active_tap\":\"auto\"},\"id\":\"5709\",\"type\":\"Toolbar\"},{\"attributes\":{\"label\":{\"value\":\"Infectados - Reamostrados\"},\"renderers\":[{\"id\":\"5789\"}]},\"id\":\"5814\",\"type\":\"LegendItem\"},{\"attributes\":{\"data\":{\"x\":{\"__ndarray__\":\"AAAAAAAAAAA5zdfq2SHwPznN1+rZIQBA1rND4MYyCEA5zdfq2SEQQIfAjWVQKhRA1rND4MYyGEAkp/laPTscQDnN1+rZISBA4MYyKBUmIkCHwI1lUCokQC666KKLLiZA1rND4MYyKEB9rZ4dAjcqQCSn+Vo9OyxAy6BUmHg/LkA5zdfq2SEwQA1KhYn3IzFA4MYyKBUmMkC0Q+DGMigzQIfAjWVQKjRAWz07BG4sNUAuuuiiiy42QAI3lkGpMDdA1rND4MYyOECpMPF+5DQ5QH2tnh0CNzpAUCpMvB85O0Akp/laPTs8QPcjp/laPT1Ay6BUmHg/PkCeHQI3lkE/QDnN1+rZIUBAo4suuuiiQEANSoWJ9yNBQHYI3FgGpUFA4MYyKBUmQkBKhYn3I6dCQLRD4MYyKENAHQI3lkGpQ0CHwI1lUCpEQPF+5DRfq0RAWz07BG4sRUDF+5HTfK1FQC666KKLLkZAmHg/cpqvRkACN5ZBqTBHQGz17BC4sUdA1rND4MYySEA/cpqv1bNIQKkw8X7kNElAE+9HTvO1SUB9rZ4dAjdKQOZr9ewQuEpAUCpMvB85S0C66KKLLrpLQCSn+Vo9O0xAjmVQKky8TED3I6f5Wj1NQGHi/chpvk1Ay6BUmHg/TkA1X6tnh8BOQJ4dAjeWQU9ACNxYBqXCT0A5zdfq2SFQQG4sg1JhYlBAo4suuuiiUEDY6tkhcONQQA1KhYn3I1FAQakw8X5kUUB2CNxYBqVRQKtnh8CN5VFA4MYyKBUmUkAVJt6PnGZSQEqFifcjp1JAf+Q0X6vnUkC0Q+DGMihTQOmiiy66aFNAHQI3lkGpU0BSYeL9yOlTQIfAjWVQKlRAvB85zddqVEDxfuQ0X6tUQCbej5zm61RAWz07BG4sVUCQnOZr9WxVQMX7kdN8rVVA+Vo9OwTuVUAuuuiiiy5WQGMZlAoTb1ZAmHg/cpqvVkDN1+rZIfBWQAI3lkGpMFdAN5ZBqTBxV0Bs9ewQuLFXQKFUmHg/8ldA1rND4MYyWEAKE+9HTnNYQD9ymq/Vs1hAdNFFF130WECpMPF+5DRZQN6PnOZrdVlAE+9HTvO1WUBITvO1evZZQH2tnh0CN1pAsgxKhYl3WkDma/XsELhaQBvLoFSY+FpAUCpMvB85W0CFifcjp3lbQLrooosuultA70dO87X6W0Akp/laPTtcQFkGpcLEe1xAjmVQKky8XEDCxPuR0/xcQPcjp/laPV1ALINSYeJ9XUBh4v3Iab5dQJZBqTDx/l1Ay6BUmHg/XkAAAAAAAIBeQA==\",\"dtype\":\"float64\",\"shape\":[122]},\"y\":{\"__ndarray__\":\"AAAAAAAAAEAAAAAAAAAAQEmSJEmSJAFAkiRJkiRJAkDbtm3btm0DQCRJkiRJkgRAbNu2bdu2BUC2bdu2bdsGQAAAAAAAAAhAJEmSJEmSEEBIkiRJkiQVQG7btm3bthlAkSRJkiRJHkDbtm3btm0hQG3btm3btiNAAAAAAAAAJkCSJEmSJEkoQCRJkiRJkipAtm3btm3bLEBJkiRJkiQvQG3btm3btjBAt23btm3bMUAAAAAAAAAzQAAAAAAAgE1AAAAAAADAYkAAAAAAAKBrQAAAAAAAcHNAAAAAAABge0AAAAAAAIiCQAAAAAAAqIlAAAAAAAB0kEAAAAAAAKSYQAAAAAAArJxAAAAAAACuoUAAAAAAACSlQAAAAAAAwKlAAAAAAACYrkAAAAAAAMWzQAAAAAAA87hAAAAAAAAxv0AAAAAAAC3BQAAAAAAAr8RAAAAAAEDyyEAAAAAAgDXNQAAAAADAHtRAAAAAAIBT1UAAAAAAQIjWQAAAAACAc9lAAAAAAIAJ3EAAAAAAwDTgQAAAAACg0uJAAAAAACDX5EAAAAAAwMXmQAAAAABAnuhAAAAAAMBh6kAAAAAAIBbsQAAAAACgR+5AAAAAAOA28EAAAAAAEBvxQAAAAACACfJAAAAAAIBw8kAAAAAAMPTyQAAAAADAq/NAAAAAAJBG9EAAAAAAwNj0QAAAAAAgjfVAAAAAAOBG9kAAAAAAMMD2QAAAAAAw9/ZAAAAAAOBB90AAAAAA0Kb3QAAAAAAQ/vdAAAAAANB6+EAAAAAA0Pb4QAAAAAAATPlAAAAAADB2+UAAAAAAoLz5QAAAAADwBvpAAAAAACAd+kAAAAAAsE/6QAAAAAAQbvpAAAAAANBs+kAAAAAA0Ev6QAAAAAAwS/pAAAAAAAAW+kAAAAAA8AH6QAAAAABw1/lAAAAAAHDn+UAAAAAAUNX5QAAAAABQr/lAAAAAABCN+UAAAAAA8Mr4QAAAAADwpPhAAAAAAACW+EAAAAAAMHX4QAAAAADAaPhAAAAAADAK+EAAAAAAgFj2QAAAAACA4fVAAAAAAJB59UAAAAAAoLb0QAAAAADAV/RAAAAAAIAj9EAAAAAAINfzQAAAAACQJ/NAAAAAAICp8kAAAAAAYJjxQAAAAACwIvFAAAAAAPCv8EAAAAAAkD/wQAAAAAAgze9AAAAAAACk7kAAAAAAAMTtQAAAAABA9+xAAAAAAAAz7EAAAAAAQKLrQAAAAACAAOtAAAAAAMDZ6UAAAAAAwOLoQAAAAABAbudAAAAAAOCL5kAAAAAAYFXlQA==\",\"dtype\":\"float64\",\"shape\":[122]}},\"selected\":{\"id\":\"5744\"},\"selection_policy\":{\"id\":\"5745\"}},\"id\":\"5710\",\"type\":\"ColumnDataSource\"},{\"attributes\":{\"mantissas\":[1,2,5],\"max_interval\":500.0,\"num_minor_ticks\":0},\"id\":\"5720\",\"type\":\"AdaptiveTicker\"},{\"attributes\":{\"line_cap\":\"round\",\"line_color\":\"#512da8\",\"line_width\":5,\"x\":{\"field\":\"x\"},\"y\":{\"field\":\"y\"}},\"id\":\"5735\",\"type\":\"Line\"},{\"attributes\":{},\"id\":\"5832\",\"type\":\"UnionRenderers\"},{\"attributes\":{\"label\":{\"value\":\"Removidos - Reamostrados\"},\"renderers\":[{\"id\":\"5818\"}]},\"id\":\"5845\",\"type\":\"LegendItem\"},{\"attributes\":{\"data\":{\"x\":{\"__ndarray__\":\"AAAAAAAAAAA5zdfq2SHwPznN1+rZIQBA1rND4MYyCEA5zdfq2SEQQIfAjWVQKhRA1rND4MYyGEAkp/laPTscQDnN1+rZISBA4MYyKBUmIkCHwI1lUCokQC666KKLLiZA1rND4MYyKEB9rZ4dAjcqQCSn+Vo9OyxAy6BUmHg/LkA5zdfq2SEwQA1KhYn3IzFA4MYyKBUmMkC0Q+DGMigzQIfAjWVQKjRAWz07BG4sNUAuuuiiiy42QAI3lkGpMDdA1rND4MYyOECpMPF+5DQ5QH2tnh0CNzpAUCpMvB85O0Akp/laPTs8QPcjp/laPT1Ay6BUmHg/PkCeHQI3lkE/QDnN1+rZIUBAo4suuuiiQEANSoWJ9yNBQHYI3FgGpUFA4MYyKBUmQkBKhYn3I6dCQLRD4MYyKENAHQI3lkGpQ0CHwI1lUCpEQPF+5DRfq0RAWz07BG4sRUDF+5HTfK1FQC666KKLLkZAmHg/cpqvRkACN5ZBqTBHQGz17BC4sUdA1rND4MYySEA/cpqv1bNIQKkw8X7kNElAE+9HTvO1SUB9rZ4dAjdKQOZr9ewQuEpAUCpMvB85S0C66KKLLrpLQCSn+Vo9O0xAjmVQKky8TED3I6f5Wj1NQGHi/chpvk1Ay6BUmHg/TkA1X6tnh8BOQJ4dAjeWQU9ACNxYBqXCT0A5zdfq2SFQQG4sg1JhYlBAo4suuuiiUEDY6tkhcONQQA1KhYn3I1FAQakw8X5kUUB2CNxYBqVRQKtnh8CN5VFA4MYyKBUmUkAVJt6PnGZSQEqFifcjp1JAf+Q0X6vnUkC0Q+DGMihTQOmiiy66aFNAHQI3lkGpU0BSYeL9yOlTQIfAjWVQKlRAvB85zddqVEDxfuQ0X6tUQCbej5zm61RAWz07BG4sVUCQnOZr9WxVQMX7kdN8rVVA+Vo9OwTuVUAuuuiiiy5WQGMZlAoTb1ZAmHg/cpqvVkDN1+rZIfBWQAI3lkGpMFdAN5ZBqTBxV0Bs9ewQuLFXQKFUmHg/8ldA1rND4MYyWEAKE+9HTnNYQD9ymq/Vs1hAdNFFF130WECpMPF+5DRZQN6PnOZrdVlAE+9HTvO1WUBITvO1evZZQH2tnh0CN1pAsgxKhYl3WkDma/XsELhaQBvLoFSY+FpAUCpMvB85W0CFifcjp3lbQLrooosuultA70dO87X6W0Akp/laPTtcQFkGpcLEe1xAjmVQKky8XEDCxPuR0/xcQPcjp/laPV1ALINSYeJ9XUBh4v3Iab5dQJZBqTDx/l1Ay6BUmHg/XkAAAAAAAIBeQA==\",\"dtype\":\"float64\",\"shape\":[122]},\"y\":{\"__ndarray__\":\"AAAAAAAAAEAAAAAAAAAAQEmSJEmSJAFAkiRJkiRJAkDbtm3btm0DQCRJkiRJkgRAbNu2bdu2BUC2bdu2bdsGQAAAAAAAAAhAJEmSJEmSEEBIkiRJkiQVQG7btm3bthlAkSRJkiRJHkDbtm3btm0hQG3btm3btiNAAAAAAAAAJkCSJEmSJEkoQCRJkiRJkipAtm3btm3bLEBJkiRJkiQvQG3btm3btjBAt23btm3bMUAAAAAAAAAzQAAAAAAAgE1AAAAAAADAYkAAAAAAAKBrQAAAAAAAcHNAAAAAAABge0AAAAAAAIiCQAAAAAAAqIlAAAAAAAB0kEAAAAAAAKSYQAAAAAAArJxAAAAAAACuoUAAAAAAACSlQAAAAAAAwKlAAAAAAACYrkAAAAAAAMWzQAAAAAAA87hAAAAAAAAxv0AAAAAAAC3BQAAAAAAAr8RAAAAAAEDyyEAAAAAAgDXNQAAAAADAHtRAAAAAAIBT1UAAAAAAQIjWQAAAAACAc9lAAAAAAIAJ3EAAAAAAwDTgQAAAAACg0uJAAAAAACDX5EAAAAAAwMXmQAAAAABAnuhAAAAAAMBh6kAAAAAAIBbsQAAAAACgR+5AAAAAAOA28EAAAAAAEBvxQAAAAACACfJAAAAAAIBw8kAAAAAAMPTyQAAAAADAq/NAAAAAAJBG9EAAAAAAwNj0QAAAAAAgjfVAAAAAAOBG9kAAAAAAMMD2QAAAAAAw9/ZAAAAAAOBB90AAAAAA0Kb3QAAAAAAQ/vdAAAAAANB6+EAAAAAA0Pb4QAAAAAAATPlAAAAAADB2+UAAAAAAoLz5QAAAAADwBvpAAAAAACAd+kAAAAAAsE/6QAAAAAAQbvpAAAAAANBs+kAAAAAA0Ev6QAAAAAAwS/pAAAAAAAAW+kAAAAAA8AH6QAAAAABw1/lAAAAAAHDn+UAAAAAAUNX5QAAAAABQr/lAAAAAABCN+UAAAAAA8Mr4QAAAAADwpPhAAAAAAACW+EAAAAAAMHX4QAAAAADAaPhAAAAAADAK+EAAAAAAgFj2QAAAAACA4fVAAAAAAJB59UAAAAAAoLb0QAAAAADAV/RAAAAAAIAj9EAAAAAAINfzQAAAAACQJ/NAAAAAAICp8kAAAAAAYJjxQAAAAACwIvFAAAAAAPCv8EAAAAAAkD/wQAAAAAAgze9AAAAAAACk7kAAAAAAAMTtQAAAAABA9+xAAAAAAAAz7EAAAAAAQKLrQAAAAACAAOtAAAAAAMDZ6UAAAAAAwOLoQAAAAABAbudAAAAAAOCL5kAAAAAAYFXlQA==\",\"dtype\":\"float64\",\"shape\":[122]}},\"selected\":{\"id\":\"5831\"},\"selection_policy\":{\"id\":\"5832\"}},\"id\":\"5786\",\"type\":\"ColumnDataSource\"},{\"attributes\":{\"months\":[0,1,2,3,4,5,6,7,8,9,10,11]},\"id\":\"5727\",\"type\":\"MonthsTicker\"},{\"attributes\":{},\"id\":\"5772\",\"type\":\"UnionRenderers\"},{\"attributes\":{\"label\":{\"value\":\"Mortes\"},\"renderers\":[{\"id\":\"5737\"}]},\"id\":\"5758\",\"type\":\"LegendItem\"},{\"attributes\":{\"line_cap\":\"round\",\"line_color\":\"#c62828\",\"line_width\":5,\"x\":{\"field\":\"x\"},\"y\":{\"field\":\"y\"}},\"id\":\"5711\",\"type\":\"Line\"},{\"attributes\":{\"days\":[1,15]},\"id\":\"5726\",\"type\":\"DaysTicker\"},{\"attributes\":{\"text\":\"Evolu\\u00e7\\u00e3o do COVID - Italy\"},\"id\":\"5691\",\"type\":\"Title\"},{\"attributes\":{\"data_source\":{\"id\":\"5815\"},\"glyph\":{\"id\":\"5816\"},\"hover_glyph\":null,\"muted_glyph\":null,\"nonselection_glyph\":{\"id\":\"5817\"},\"selection_glyph\":null,\"view\":{\"id\":\"5819\"}},\"id\":\"5818\",\"type\":\"GlyphRenderer\"},{\"attributes\":{},\"id\":\"5697\",\"type\":\"LinearScale\"},{\"attributes\":{},\"id\":\"5771\",\"type\":\"Selection\"},{\"attributes\":{},\"id\":\"5693\",\"type\":\"DataRange1d\"},{\"attributes\":{\"days\":[1,4,7,10,13,16,19,22,25,28]},\"id\":\"5724\",\"type\":\"DaysTicker\"},{\"attributes\":{\"months\":[0,4,8]},\"id\":\"5729\",\"type\":\"MonthsTicker\"},{\"attributes\":{\"data_source\":{\"id\":\"5734\"},\"glyph\":{\"id\":\"5735\"},\"hover_glyph\":null,\"muted_glyph\":null,\"nonselection_glyph\":{\"id\":\"5736\"},\"selection_glyph\":null,\"view\":{\"id\":\"5738\"}},\"id\":\"5737\",\"type\":\"GlyphRenderer\"},{\"attributes\":{\"line_alpha\":0.1,\"line_cap\":\"round\",\"line_color\":\"#388e3c\",\"line_width\":5,\"x\":{\"field\":\"x\"},\"y\":{\"field\":\"y\"}},\"id\":\"5761\",\"type\":\"Line\"},{\"attributes\":{\"days\":[1,2,3,4,5,6,7,8,9,10,11,12,13,14,15,16,17,18,19,20,21,22,23,24,25,26,27,28,29,30,31]},\"id\":\"5723\",\"type\":\"DaysTicker\"},{\"attributes\":{\"click_policy\":\"hide\",\"items\":[{\"id\":\"5733\"},{\"id\":\"5758\"},{\"id\":\"5785\"},{\"id\":\"5814\"},{\"id\":\"5845\"}],\"location\":\"bottom_right\"},\"id\":\"5732\",\"type\":\"Legend\"},{\"attributes\":{},\"id\":\"5801\",\"type\":\"UnionRenderers\"},{\"attributes\":{\"data_source\":{\"id\":\"5759\"},\"glyph\":{\"id\":\"5760\"},\"hover_glyph\":null,\"muted_glyph\":null,\"nonselection_glyph\":{\"id\":\"5761\"},\"selection_glyph\":null,\"view\":{\"id\":\"5763\"}},\"id\":\"5762\",\"type\":\"GlyphRenderer\"},{\"attributes\":{},\"id\":\"6087\",\"type\":\"UnionRenderers\"},{\"attributes\":{\"base\":60,\"mantissas\":[1,2,5,10,15,20,30],\"max_interval\":1800000.0,\"min_interval\":1000.0,\"num_minor_ticks\":0},\"id\":\"5721\",\"type\":\"AdaptiveTicker\"},{\"attributes\":{},\"id\":\"5695\",\"type\":\"DataRange1d\"},{\"attributes\":{\"source\":{\"id\":\"5759\"}},\"id\":\"5763\",\"type\":\"CDSView\"},{\"attributes\":{},\"id\":\"6086\",\"type\":\"Selection\"},{\"attributes\":{},\"id\":\"5745\",\"type\":\"UnionRenderers\"},{\"attributes\":{},\"id\":\"5831\",\"type\":\"Selection\"},{\"attributes\":{\"base\":24,\"mantissas\":[1,2,4,6,8,12],\"max_interval\":43200000.0,\"min_interval\":3600000.0,\"num_minor_ticks\":0},\"id\":\"5722\",\"type\":\"AdaptiveTicker\"},{\"attributes\":{\"data\":{\"x\":{\"__ndarray__\":\"AAAAAAAAAAA5zdfq2SHwPznN1+rZIQBA1rND4MYyCEA5zdfq2SEQQIfAjWVQKhRA1rND4MYyGEAkp/laPTscQDnN1+rZISBA4MYyKBUmIkCHwI1lUCokQC666KKLLiZA1rND4MYyKEB9rZ4dAjcqQCSn+Vo9OyxAy6BUmHg/LkA5zdfq2SEwQA1KhYn3IzFA4MYyKBUmMkC0Q+DGMigzQIfAjWVQKjRAWz07BG4sNUAuuuiiiy42QAI3lkGpMDdA1rND4MYyOECpMPF+5DQ5QH2tnh0CNzpAUCpMvB85O0Akp/laPTs8QPcjp/laPT1Ay6BUmHg/PkCeHQI3lkE/QDnN1+rZIUBAo4suuuiiQEANSoWJ9yNBQHYI3FgGpUFA4MYyKBUmQkBKhYn3I6dCQLRD4MYyKENAHQI3lkGpQ0CHwI1lUCpEQPF+5DRfq0RAWz07BG4sRUDF+5HTfK1FQC666KKLLkZAmHg/cpqvRkACN5ZBqTBHQGz17BC4sUdA1rND4MYySEA/cpqv1bNIQKkw8X7kNElAE+9HTvO1SUB9rZ4dAjdKQOZr9ewQuEpAUCpMvB85S0C66KKLLrpLQCSn+Vo9O0xAjmVQKky8TED3I6f5Wj1NQGHi/chpvk1Ay6BUmHg/TkA1X6tnh8BOQJ4dAjeWQU9ACNxYBqXCT0A5zdfq2SFQQG4sg1JhYlBAo4suuuiiUEDY6tkhcONQQA1KhYn3I1FAQakw8X5kUUB2CNxYBqVRQKtnh8CN5VFA4MYyKBUmUkAVJt6PnGZSQEqFifcjp1JAf+Q0X6vnUkC0Q+DGMihTQOmiiy66aFNAHQI3lkGpU0BSYeL9yOlTQIfAjWVQKlRAvB85zddqVEDxfuQ0X6tUQCbej5zm61RAWz07BG4sVUCQnOZr9WxVQMX7kdN8rVVA+Vo9OwTuVUAuuuiiiy5WQGMZlAoTb1ZAmHg/cpqvVkDN1+rZIfBWQAI3lkGpMFdAN5ZBqTBxV0Bs9ewQuLFXQKFUmHg/8ldA1rND4MYyWEAKE+9HTnNYQD9ymq/Vs1hAdNFFF130WECpMPF+5DRZQN6PnOZrdVlAE+9HTvO1WUBITvO1evZZQH2tnh0CN1pAsgxKhYl3WkDma/XsELhaQBvLoFSY+FpAUCpMvB85W0CFifcjp3lbQLrooosuultA70dO87X6W0Akp/laPTtcQFkGpcLEe1xAjmVQKky8XEDCxPuR0/xcQPcjp/laPV1ALINSYeJ9XUBh4v3Iab5dQJZBqTDx/l1Ay6BUmHg/XkAAAAAAAIBeQA==\",\"dtype\":\"float64\",\"shape\":[122]},\"y\":{\"__ndarray__\":\"AAAAAAAAAAAAAAAAAAAAAAAAAAAAAAAAAAAAAAAAAAAAAAAAAAAAAAAAAAAAAAAAAAAAAAAAAAAAAAAAAAAAAAAAAAAAAAAAkiRJkiRJsj+SJEmSJEnCP9u2bdu2bcs/kiRJkiRJ0j+2bdu2bdvWP9u2bdu2bds/AAAAAAAA4D+SJEmSJEniPyRJkiRJkuQ/tm3btm3b5j9JkiRJkiTpP9u2bdu2bes/bdu2bdu27T8AAAAAAADwPwAAAAAAAABAAAAAAAAACEAAAAAAAAAcQAAAAAAAACRAAAAAAAAAKEAAAAAAAAAxQAAAAAAAADVAAAAAAAAAPUAAAAAAAABBQAAAAAAAAEpAAAAAAADAU0AAAAAAAMBaQAAAAAAAgGJAAAAAAACgaEAAAAAAACBtQAAAAAAA4HZAAAAAAADwfEAAAAAAALiDQAAAAAAA2IlAAAAAAABakEAAAAAAAMiTQAAAAAAARJxAAAAAAAD+nkAAAAAAANygQAAAAAAAjqNAAAAAAABEp0AAAAAAAJqqQAAAAAAAgK9AAAAAAADZskAAAAAAAGS1QAAAAAAAvbdAAAAAAACkukAAAAAAAE+9QAAAAACAC8BAAAAAAADXwUAAAAAAgJPDQAAAAACADcVAAAAAAICjxkAAAAAAAEbIQAAAAACAsclAAAAAAIAty0AAAAAAgKzMQAAAAAAAAc5AAAAAAIAHz0AAAAAAwCLQQAAAAADAudBAAAAAAEBB0UAAAAAAwNnRQAAAAABAaNJAAAAAAAAD00AAAAAAwG7TQAAAAABA/NNAAAAAAMCS1EAAAAAAQCPVQAAAAACAptVAAAAAAEA21kAAAAAAwK7WQAAAAAAAG9dAAAAAAICM10AAAAAAABLYQAAAAABAf9hAAAAAAEDz2EAAAAAAQFzZQAAAAAAAxNlAAAAAAAAF2kAAAAAAQFjaQAAAAADAt9pAAAAAAIAI20AAAAAAwE/bQAAAAAAAk9tAAAAAAIAJ3EAAAAAAADXcQAAAAADAZdxAAAAAAMCg3EAAAAAAAP3cQAAAAACAQd1AAAAAAEB+3UAAAAAAwK7dQAAAAAAA2N1AAAAAAMAE3kAAAAAAwC/eQAAAAACAYN5AAAAAAACi3kAAAAAAgN7eQAAAAADABN9AAAAAAAAp30AAAAAAwEHfQAAAAABAat9AAAAAAICS30AAAAAAgLnfQAAAAAAA2t9AAAAAAMD330AAAAAAIALgQAAAAACgDeBAAAAAAGAX4EAAAAAAACbgQAAAAADALuBAAAAAAKA54EAAAAAAgEfgQA==\",\"dtype\":\"float64\",\"shape\":[122]}},\"selected\":{\"id\":\"5771\"},\"selection_policy\":{\"id\":\"5772\"}},\"id\":\"5734\",\"type\":\"ColumnDataSource\"},{\"attributes\":{},\"id\":\"5699\",\"type\":\"LogScale\"},{\"attributes\":{\"label\":{\"value\":\"Recuperados\"},\"renderers\":[{\"id\":\"5762\"}]},\"id\":\"5785\",\"type\":\"LegendItem\"},{\"attributes\":{\"months\":[0,2,4,6,8,10]},\"id\":\"5728\",\"type\":\"MonthsTicker\"},{\"attributes\":{\"source\":{\"id\":\"5734\"}},\"id\":\"5738\",\"type\":\"CDSView\"},{\"attributes\":{\"data\":{\"x\":{\"__ndarray__\":\"AAAAAAAAAAA5zdfq2SHwPznN1+rZIQBA1rND4MYyCEA5zdfq2SEQQIfAjWVQKhRA1rND4MYyGEAkp/laPTscQDnN1+rZISBA4MYyKBUmIkCHwI1lUCokQC666KKLLiZA1rND4MYyKEB9rZ4dAjcqQCSn+Vo9OyxAy6BUmHg/LkA5zdfq2SEwQA1KhYn3IzFA4MYyKBUmMkC0Q+DGMigzQIfAjWVQKjRAWz07BG4sNUAuuuiiiy42QAI3lkGpMDdA1rND4MYyOECpMPF+5DQ5QH2tnh0CNzpAUCpMvB85O0Akp/laPTs8QPcjp/laPT1Ay6BUmHg/PkCeHQI3lkE/QDnN1+rZIUBAo4suuuiiQEANSoWJ9yNBQHYI3FgGpUFA4MYyKBUmQkBKhYn3I6dCQLRD4MYyKENAHQI3lkGpQ0CHwI1lUCpEQPF+5DRfq0RAWz07BG4sRUDF+5HTfK1FQC666KKLLkZAmHg/cpqvRkACN5ZBqTBHQGz17BC4sUdA1rND4MYySEA/cpqv1bNIQKkw8X7kNElAE+9HTvO1SUB9rZ4dAjdKQOZr9ewQuEpAUCpMvB85S0C66KKLLrpLQCSn+Vo9O0xAjmVQKky8TED3I6f5Wj1NQGHi/chpvk1Ay6BUmHg/TkA1X6tnh8BOQJ4dAjeWQU9ACNxYBqXCT0A5zdfq2SFQQG4sg1JhYlBAo4suuuiiUEDY6tkhcONQQA1KhYn3I1FAQakw8X5kUUB2CNxYBqVRQKtnh8CN5VFA4MYyKBUmUkAVJt6PnGZSQEqFifcjp1JAf+Q0X6vnUkC0Q+DGMihTQOmiiy66aFNAHQI3lkGpU0BSYeL9yOlTQIfAjWVQKlRAvB85zddqVEDxfuQ0X6tUQCbej5zm61RAWz07BG4sVUCQnOZr9WxVQMX7kdN8rVVA+Vo9OwTuVUAuuuiiiy5WQGMZlAoTb1ZAmHg/cpqvVkDN1+rZIfBWQAI3lkGpMFdAN5ZBqTBxV0Bs9ewQuLFXQKFUmHg/8ldA1rND4MYyWEAKE+9HTnNYQD9ymq/Vs1hAdNFFF130WECpMPF+5DRZQN6PnOZrdVlAE+9HTvO1WUBITvO1evZZQH2tnh0CN1pAsgxKhYl3WkDma/XsELhaQBvLoFSY+FpAUCpMvB85W0CFifcjp3lbQLrooosuultA70dO87X6W0Akp/laPTtcQFkGpcLEe1xAjmVQKky8XEDCxPuR0/xcQPcjp/laPV1ALINSYeJ9XUBh4v3Iab5dQJZBqTDx/l1Ay6BUmHg/XkAAAAAAAIBeQA==\",\"dtype\":\"float64\",\"shape\":[122]},\"y\":{\"__ndarray__\":\"AAAAAAAAAAAAAAAAAAAAAAAAAAAAAAAAAAAAAAAAAAAAAAAAAAAAAAAAAAAAAAAAAAAAAAAAAAAAAAAAAAAAAAAAAAAAAAAAAAAAAAAAAAAAAAAAAAAAAAAAAAAAAAAAAAAAAAAAAAAAAAAAAAAAAAAAAAAAAAAAAAAAAAAAAAAAAAAAAAAAAAAAAAAAAAAAAAAAAAAAAAAAAAAAAAAAAAAAAAAAAAAAAAAAAAAAAAAAAAAAAAAAAAAAAAAAAPA/AAAAAAAAAEAAAAAAAADwPwAAAAAAAPA/AAAAAAAACEAAAAAAAIBGQAAAAAAAAEdAAAAAAAAAR0AAAAAAAMBUQAAAAAAAoGJAAAAAAAAAZEAAAAAAAEBxQAAAAAAA4HlAAAAAAABYgEAAAAAAAGiCQAAAAAAAcINAAAAAAACghkAAAAAAAKCGQAAAAAAAVJBAAAAAAABok0AAAAAAAHyWQAAAAAAAPqJAAAAAAADco0AAAAAAAHqlQAAAAAAA+qZAAAAAAAByr0AAAAAAAFixQAAAAAAAWLFAAAAAAAC4t0AAAAAAAHC7QAAAAAAACL1AAAAAAABDwEAAAAAAAEnCQAAAAACAPMRAAAAAAABjxUAAAAAAADDIQAAAAAAAc8lAAAAAAACOzEAAAAAAgLjOQAAAAADAc9BAAAAAAIDZ0UAAAAAAgEvTQAAAAAAAgdRAAAAAAMBN1UAAAAAAQE3WQAAAAAAA0tdAAAAAAMDe2UAAAAAAgM3bQAAAAADAvd1AAAAAAIDF30AAAAAAYLTgQAAAAABgTeFAAAAAAEAh4kAAAAAAgJniQAAAAACAnONAAAAAAODc5EAAAAAA4O/lQAAAAADg+eZAAAAAAKDd50AAAAAAADLpQAAAAADgoepAAAAAAAAd7EAAAAAAQIrtQAAAAAAA0u5AAAAAAAC070AAAAAAAETwQAAAAADQ1PBAAAAAAEBl8UAAAAAAkIryQAAAAACQGvNAAAAAAKCC80AAAAAAYO/zQAAAAADwO/RAAAAAAPDO9EAAAAAA0MP2QAAAAABAgfdAAAAAAPAs+EAAAAAAcCf5QAAAAAAgrvlAAAAAALAF+kAAAAAA8J76QAAAAADQeftAAAAAAIAl/EAAAAAA0Fj9QAAAAACg+/1AAAAAAICP/kAAAAAA4BX/QAAAAACQl/9AAAAAANAlAEEAAAAAAG0AQQAAAACAsABBAAAAAMDyAEEAAAAA+CUBQQAAAADoVAFBAAAAAJCoAUEAAAAA6PQBQQAAAABgYgJBAAAAAGCoAkEAAAAAiP8CQQ==\",\"dtype\":\"float64\",\"shape\":[122]}},\"selected\":{\"id\":\"5800\"},\"selection_policy\":{\"id\":\"5801\"}},\"id\":\"5759\",\"type\":\"ColumnDataSource\"},{\"attributes\":{\"fill_alpha\":{\"value\":0.1},\"fill_color\":{\"value\":\"#1a237e\"},\"line_alpha\":{\"value\":0.1},\"line_color\":{\"value\":\"#1f77b4\"},\"line_width\":{\"value\":0},\"x\":{\"field\":\"x\"},\"y\":{\"field\":\"y\"}},\"id\":\"5817\",\"type\":\"Scatter\"},{\"attributes\":{},\"id\":\"5744\",\"type\":\"Selection\"},{\"attributes\":{\"axis_label\":\"Dias\",\"formatter\":{\"id\":\"5718\"},\"ticker\":{\"id\":\"5702\"}},\"id\":\"5701\",\"type\":\"DatetimeAxis\"},{\"attributes\":{\"source\":{\"id\":\"5710\"}},\"id\":\"5714\",\"type\":\"CDSView\"},{\"attributes\":{\"line_alpha\":0.1,\"line_cap\":\"round\",\"line_color\":\"#512da8\",\"line_width\":5,\"x\":{\"field\":\"x\"},\"y\":{\"field\":\"y\"}},\"id\":\"5736\",\"type\":\"Line\"},{\"attributes\":{\"days\":[1,8,15,22]},\"id\":\"5725\",\"type\":\"DaysTicker\"},{\"attributes\":{\"axis\":{\"id\":\"5701\"},\"grid_line_alpha\":0,\"ticker\":null},\"id\":\"5704\",\"type\":\"Grid\"},{\"attributes\":{\"data\":{\"x\":{\"__ndarray__\":\"AAAAAAAAAAA5zdfq2SHwPznN1+rZIQBA1rND4MYyCEA5zdfq2SEQQIfAjWVQKhRA1rND4MYyGEAkp/laPTscQDnN1+rZISBA4MYyKBUmIkCHwI1lUCokQC666KKLLiZA1rND4MYyKEB9rZ4dAjcqQCSn+Vo9OyxAy6BUmHg/LkA5zdfq2SEwQA1KhYn3IzFA4MYyKBUmMkC0Q+DGMigzQIfAjWVQKjRAWz07BG4sNUAuuuiiiy42QAI3lkGpMDdA1rND4MYyOECpMPF+5DQ5QH2tnh0CNzpAUCpMvB85O0Akp/laPTs8QPcjp/laPT1Ay6BUmHg/PkCeHQI3lkE/QDnN1+rZIUBAo4suuuiiQEANSoWJ9yNBQHYI3FgGpUFA4MYyKBUmQkBKhYn3I6dCQLRD4MYyKENAHQI3lkGpQ0CHwI1lUCpEQPF+5DRfq0RAWz07BG4sRUDF+5HTfK1FQC666KKLLkZAmHg/cpqvRkACN5ZBqTBHQGz17BC4sUdA1rND4MYySEA/cpqv1bNIQKkw8X7kNElAE+9HTvO1SUB9rZ4dAjdKQOZr9ewQuEpAUCpMvB85S0C66KKLLrpLQCSn+Vo9O0xAjmVQKky8TED3I6f5Wj1NQGHi/chpvk1Ay6BUmHg/TkA1X6tnh8BOQJ4dAjeWQU9ACNxYBqXCT0A5zdfq2SFQQG4sg1JhYlBAo4suuuiiUEDY6tkhcONQQA1KhYn3I1FAQakw8X5kUUB2CNxYBqVRQKtnh8CN5VFA4MYyKBUmUkAVJt6PnGZSQEqFifcjp1JAf+Q0X6vnUkC0Q+DGMihTQOmiiy66aFNAHQI3lkGpU0BSYeL9yOlTQIfAjWVQKlRAvB85zddqVEDxfuQ0X6tUQCbej5zm61RAWz07BG4sVUCQnOZr9WxVQMX7kdN8rVVA+Vo9OwTuVUAuuuiiiy5WQGMZlAoTb1ZAmHg/cpqvVkDN1+rZIfBWQAI3lkGpMFdAN5ZBqTBxV0Bs9ewQuLFXQKFUmHg/8ldA1rND4MYyWEAKE+9HTnNYQD9ymq/Vs1hAdNFFF130WECpMPF+5DRZQN6PnOZrdVlAE+9HTvO1WUBITvO1evZZQH2tnh0CN1pAsgxKhYl3WkDma/XsELhaQBvLoFSY+FpAUCpMvB85W0CFifcjp3lbQLrooosuultA70dO87X6W0Akp/laPTtcQFkGpcLEe1xAjmVQKky8XEDCxPuR0/xcQPcjp/laPV1ALINSYeJ9XUBh4v3Iab5dQJZBqTDx/l1Ay6BUmHg/XkAAAAAAAIBeQA==\",\"dtype\":\"float64\",\"shape\":[122]},\"y\":{\"__ndarray__\":\"AAAAAAAAAAAAAAAAAAAAAAAAAAAAAAAAAAAAAAAAAAAAAAAAAAAAAAAAAAAAAAAAAAAAAAAAAAAAAAAAAAAAAAAAAAAAAAAAAAAAAAAAAAAAAAAAAAAAAAAAAAAAAAAAAAAAAAAAAAAAAAAAAAAAAAAAAAAAAAAAAAAAAAAAAAAAAAAAAAAAAAAAAAAAAAAAAAAAAAAAAAAAAAAAAAAAAAAAAAAAAAAAAAAAAAAAAAAAAAAAAAAAAAAAAAAAAPA/AAAAAAAAAEAAAAAAAADwPwAAAAAAAPA/AAAAAAAACEAAAAAAAIBGQAAAAAAAAEdAAAAAAAAAR0AAAAAAAMBUQAAAAAAAoGJAAAAAAAAAZEAAAAAAAEBxQAAAAAAA4HlAAAAAAABYgEAAAAAAAGiCQAAAAAAAcINAAAAAAACghkAAAAAAAKCGQAAAAAAAVJBAAAAAAABok0AAAAAAAHyWQAAAAAAAPqJAAAAAAADco0AAAAAAAHqlQAAAAAAA+qZAAAAAAAByr0AAAAAAAFixQAAAAAAAWLFAAAAAAAC4t0AAAAAAAHC7QAAAAAAACL1AAAAAAABDwEAAAAAAAEnCQAAAAACAPMRAAAAAAABjxUAAAAAAADDIQAAAAAAAc8lAAAAAAACOzEAAAAAAgLjOQAAAAADAc9BAAAAAAIDZ0UAAAAAAgEvTQAAAAAAAgdRAAAAAAMBN1UAAAAAAQE3WQAAAAAAA0tdAAAAAAMDe2UAAAAAAgM3bQAAAAADAvd1AAAAAAIDF30AAAAAAYLTgQAAAAABgTeFAAAAAAEAh4kAAAAAAgJniQAAAAACAnONAAAAAAODc5EAAAAAA4O/lQAAAAADg+eZAAAAAAKDd50AAAAAAADLpQAAAAADgoepAAAAAAAAd7EAAAAAAQIrtQAAAAAAA0u5AAAAAAAC070AAAAAAAETwQAAAAADQ1PBAAAAAAEBl8UAAAAAAkIryQAAAAACQGvNAAAAAAKCC80AAAAAAYO/zQAAAAADwO/RAAAAAAPDO9EAAAAAA0MP2QAAAAABAgfdAAAAAAPAs+EAAAAAAcCf5QAAAAAAgrvlAAAAAALAF+kAAAAAA8J76QAAAAADQeftAAAAAAIAl/EAAAAAA0Fj9QAAAAACg+/1AAAAAAICP/kAAAAAA4BX/QAAAAACQl/9AAAAAANAlAEEAAAAAAG0AQQAAAACAsABBAAAAAMDyAEEAAAAA+CUBQQAAAADoVAFBAAAAAJCoAUEAAAAA6PQBQQAAAABgYgJBAAAAAGCoAkEAAAAAiP8CQQ==\",\"dtype\":\"float64\",\"shape\":[122]}},\"selected\":{\"id\":\"6086\"},\"selection_policy\":{\"id\":\"6087\"}},\"id\":\"5815\",\"type\":\"ColumnDataSource\"},{\"attributes\":{\"line_alpha\":0.1,\"line_cap\":\"round\",\"line_color\":\"#c62828\",\"line_width\":5,\"x\":{\"field\":\"x\"},\"y\":{\"field\":\"y\"}},\"id\":\"5712\",\"type\":\"Line\"},{\"attributes\":{\"months\":[0,6]},\"id\":\"5730\",\"type\":\"MonthsTicker\"},{\"attributes\":{\"source\":{\"id\":\"5815\"}},\"id\":\"5819\",\"type\":\"CDSView\"},{\"attributes\":{},\"id\":\"5800\",\"type\":\"Selection\"},{\"attributes\":{},\"id\":\"5731\",\"type\":\"YearsTicker\"},{\"attributes\":{\"num_minor_ticks\":5,\"tickers\":[{\"id\":\"5720\"},{\"id\":\"5721\"},{\"id\":\"5722\"},{\"id\":\"5723\"},{\"id\":\"5724\"},{\"id\":\"5725\"},{\"id\":\"5726\"},{\"id\":\"5727\"},{\"id\":\"5728\"},{\"id\":\"5729\"},{\"id\":\"5730\"},{\"id\":\"5731\"}]},\"id\":\"5702\",\"type\":\"DatetimeTicker\"},{\"attributes\":{\"axis\":{\"id\":\"5705\"},\"band_fill_alpha\":0.1,\"band_fill_color\":\"olive\",\"dimension\":1,\"grid_line_alpha\":0,\"ticker\":null},\"id\":\"5708\",\"type\":\"Grid\"}],\"root_ids\":[\"5690\"]},\"title\":\"Bokeh Application\",\"version\":\"2.0.1\"}};\n",
       "  var render_items = [{\"docid\":\"640766ef-2e8e-4756-9fec-135232756add\",\"root_ids\":[\"5690\"],\"roots\":{\"5690\":\"a4b16a69-70a1-4bc2-a255-7c87b6fcf3dd\"}}];\n",
       "  root.Bokeh.embed.embed_items_notebook(docs_json, render_items);\n",
       "\n",
       "  }\n",
       "  if (root.Bokeh !== undefined) {\n",
       "    embed_document(root);\n",
       "  } else {\n",
       "    var attempts = 0;\n",
       "    var timer = setInterval(function(root) {\n",
       "      if (root.Bokeh !== undefined) {\n",
       "        clearInterval(timer);\n",
       "        embed_document(root);\n",
       "      } else {\n",
       "        attempts++;\n",
       "        if (attempts > 100) {\n",
       "          clearInterval(timer);\n",
       "          console.log(\"Bokeh: ERROR: Unable to run BokehJS code because BokehJS library is missing\");\n",
       "        }\n",
       "      }\n",
       "    }, 10, root)\n",
       "  }\n",
       "})(window);"
      ],
      "application/vnd.bokehjs_exec.v0+json": ""
     },
     "metadata": {
      "application/vnd.bokehjs_exec.v0+json": {
       "id": "5690"
      }
     },
     "output_type": "display_data"
    }
   ],
   "source": [
    "\n",
    "p = figure(plot_height=500,\n",
    "           plot_width=600,\n",
    "           x_axis_type=\"datetime\", \n",
    "           tools=\"\", \n",
    "           y_axis_type=\"log\",\n",
    "           toolbar_location=None,\n",
    "           title=\"Evolução do COVID - \" + country['data']['name'])\n",
    "\n",
    "# Preparando o estilo\n",
    "p.grid.grid_line_alpha = 0\n",
    "p.ygrid.band_fill_color = \"olive\"\n",
    "p.ygrid.band_fill_alpha = 0.1\n",
    "p.yaxis.axis_label = \"Indivíduos\"\n",
    "p.xaxis.axis_label = \"Dias\"\n",
    "\n",
    "# Incluindo as curvas\n",
    "p.line(t, I,\n",
    "       legend_label=\"Infectados\", \n",
    "       line_cap=\"round\", line_width=5, color=\"#c62828\")\n",
    "p.line(t, M,\n",
    "       legend_label=\"Mortes\",\n",
    "       line_cap=\"round\", line_width=5, color=\"#512da8\")\n",
    "p.line(t, R,\n",
    "       legend_label=\"Recuperados\",\n",
    "       line_cap=\"round\", line_width=5, color=\"#388e3c\")\n",
    "\n",
    "# Colocando as legendas\n",
    "p.legend.click_policy=\"hide\"\n",
    "# p.legend.location = \"top_left\"\n",
    "p.legend.location = \"bottom_right\"\n",
    "\n",
    "p.scatter(td, Id,\n",
    "          legend_label=\"Infectados - Reamostrados\", \n",
    "          fill_color=\"#e91e63\", fill_alpha=0.2, line_width=0, size=4)\n",
    "p.scatter(td, Rd,\n",
    "          legend_label=\"Removidos - Reamostrados\", \n",
    "          fill_color=\"#1a237e\", fill_alpha=0.2, line_width=0, size=4)\n",
    "\n",
    "show(p)"
   ]
  },
  {
   "cell_type": "code",
   "execution_count": 43,
   "metadata": {},
   "outputs": [
    {
     "name": "stdout",
     "output_type": "stream",
     "text": [
      "R negatives:  0  first at  0.0  last at  122.0\n",
      "I negatives:  0  first at  0.0  last at  122.0\n",
      "M negatives:  0  first at  0.0  last at  122.0\n",
      "S negatives:  0  first at  0.0  last at  122.0\n"
     ]
    }
   ],
   "source": [
    "\n",
    "ponder = 1\n",
    "R_neg, I_neg = Rd < 0, Id < 0\n",
    "M_neg, S_neg = M < 0, Sd < 0\n",
    "\n",
    "print(\"R negatives: \", sum(R_neg), \" first at \", \n",
    "      np.argmax(R_neg)/ponder, \" last at \", (len(R_neg) - np.argmax(R_neg[::-1]))/ponder)\n",
    "print(\"I negatives: \", sum(I_neg), \" first at \", \n",
    "      np.argmax(I_neg)/ponder, \" last at \", (len(I_neg) - np.argmax(I_neg[::-1]))/ponder)\n",
    "print(\"M negatives: \", sum(M_neg), \" first at \", \n",
    "      np.argmax(M_neg)/ponder, \" last at \", (len(M_neg) - np.argmax(M_neg[::-1]))/ponder)\n",
    "print(\"S negatives: \", sum(S_neg), \" first at \", \n",
    "      np.argmax(S_neg)/ponder, \" last at \", (len(S_neg) - np.argmax(S_neg[::-1]))/ponder)\n"
   ]
  },
  {
   "cell_type": "markdown",
   "metadata": {},
   "source": [
    "# Estimando utilizando todos os dados"
   ]
  },
  {
   "cell_type": "code",
   "execution_count": 44,
   "metadata": {
    "scrolled": false
   },
   "outputs": [
    {
     "name": "stdout",
     "output_type": "stream",
     "text": [
      "\t ├─ S(0) ─ I(0) ─ R(0) ─  [60340326.0, 1.0, 2.0, 0.0]\n",
      "\t ├─ beta ─   1   r ─   0.14285714285714285\n",
      "\t ├─ beta bound ─   1e-05  ─  100\n",
      "\t ├─ r bound ─   1.4285714285714284e-06  ─  14.285714285714285\n",
      "\t ├─ sigma bound ─   0.001  ─  5.0\n",
      "\t ├─ equation weights ─   [0.0017941069791369705, 1, 0.6955915519202226]\n",
      "\t ├─ Running on ─  differential_evolution SciPy Search Algorithm\n",
      "\t └─ Defined at:  67.44558593889269  ─  0.02247075292469657 \n",
      "\n"
     ]
    }
   ],
   "source": [
    "\n",
    "from models import *\n",
    "\n",
    "dataset = dict(S=Sd, I=Id, R=Rd)\n",
    "\n",
    "# Create the model\n",
    "sir_model = ss.SIR(pop=N, focus=[\"S\", \"E\", \"I\", \"R\"])\n",
    "\n",
    "# Adjust the parameters\n",
    "sir_model.fit(dataset, td,\n",
    "              search_pop=True,\n",
    "              #Ro_bounds=[0.5, 3.0],\n",
    "              pop_sens=[0.001,0.01],\n",
    "              sigma_sens=[0.001, 5.0],\n",
    "              beta_sens=[100000,100], \n",
    "              r_sens=[100000,100])\n"
   ]
  },
  {
   "cell_type": "code",
   "execution_count": 63,
   "metadata": {},
   "outputs": [],
   "source": [
    "\n",
    "# Predict the model\n",
    "sim_res = sir_model.predict((sir_model.parameters[3]*Sd[0], 5.0, Id[0], Rd[0]), td)\n"
   ]
  },
  {
   "cell_type": "code",
   "execution_count": 64,
   "metadata": {},
   "outputs": [
    {
     "data": {
      "text/plain": [
       "array([6.74455859e+01, 2.24707529e-02, 4.99999987e+00, 3.04945885e-03])"
      ]
     },
     "execution_count": 64,
     "metadata": {},
     "output_type": "execute_result"
    }
   ],
   "source": [
    "sir_model.parameters"
   ]
  },
  {
   "cell_type": "code",
   "execution_count": 65,
   "metadata": {},
   "outputs": [
    {
     "data": {
      "text/plain": [
       "9.152899311924653"
      ]
     },
     "execution_count": 65,
     "metadata": {},
     "output_type": "execute_result"
    }
   ],
   "source": [
    "sir_model.parameters[0] * sir_model.parameters[3] / sir_model.parameters[1]\n",
    "# sir_model.parameters[0] * 0.0035 / sir_model.parameters[1]"
   ]
  },
  {
   "cell_type": "code",
   "execution_count": 66,
   "metadata": {},
   "outputs": [
    {
     "data": {
      "text/plain": [
       "44.502291638877224"
      ]
     },
     "execution_count": 66,
     "metadata": {},
     "output_type": "execute_result"
    }
   ],
   "source": [
    "1 / sir_model.parameters[1]"
   ]
  },
  {
   "cell_type": "code",
   "execution_count": 67,
   "metadata": {
    "scrolled": true
   },
   "outputs": [
    {
     "name": "stdout",
     "output_type": "stream",
     "text": [
      "S error mean: nan  and std in: nan\n",
      "I error mean: nan  and std in: nan\n",
      "R error mean: nan  and std in: nan\n"
     ]
    }
   ],
   "source": [
    "\n",
    "se = sir_model.acc_error[\"S\"]\n",
    "ie = sir_model.acc_error[\"I\"]\n",
    "re = sir_model.acc_error[\"R\"]\n",
    "\n",
    "print(\"S error mean:\", np.mean(se), \" and std in:\", np.std(se))\n",
    "print(\"I error mean:\", np.mean(ie), \" and std in:\", np.std(ie))\n",
    "print(\"R error mean:\", np.mean(re), \" and std in:\", np.std(re))\n"
   ]
  },
  {
   "cell_type": "code",
   "execution_count": null,
   "metadata": {},
   "outputs": [],
   "source": []
  },
  {
   "cell_type": "code",
   "execution_count": 69,
   "metadata": {},
   "outputs": [
    {
     "data": {
      "text/html": [
       "\n",
       "\n",
       "\n",
       "\n",
       "\n",
       "\n",
       "  <div class=\"bk-root\" id=\"deb595c3-0970-4d25-9e4c-4a73ca5f8126\" data-root-id=\"9581\"></div>\n"
      ]
     },
     "metadata": {},
     "output_type": "display_data"
    },
    {
     "data": {
      "application/javascript": [
       "(function(root) {\n",
       "  function embed_document(root) {\n",
       "    \n",
       "  var docs_json = {\"77fe666d-f37d-4a29-9a18-ba6c8efb2d7f\":{\"roots\":{\"references\":[{\"attributes\":{\"below\":[{\"id\":\"9592\"}],\"center\":[{\"id\":\"9595\"},{\"id\":\"9599\"},{\"id\":\"9611\"}],\"left\":[{\"id\":\"9596\"}],\"plot_height\":500,\"renderers\":[{\"id\":\"9604\"},{\"id\":\"9616\"},{\"id\":\"9629\"},{\"id\":\"9644\"},{\"id\":\"9661\"},{\"id\":\"9680\"}],\"title\":{\"id\":\"9582\"},\"toolbar\":{\"id\":\"9600\"},\"toolbar_location\":null,\"x_range\":{\"id\":\"9584\"},\"x_scale\":{\"id\":\"9588\"},\"y_range\":{\"id\":\"9586\"},\"y_scale\":{\"id\":\"9590\"}},\"id\":\"9581\",\"subtype\":\"Figure\",\"type\":\"Plot\"},{\"attributes\":{\"line_color\":\"#c2185b\",\"line_width\":4,\"x\":{\"field\":\"x\"},\"y\":{\"field\":\"y\"}},\"id\":\"9602\",\"type\":\"Line\"},{\"attributes\":{\"data\":{\"x\":{\"__ndarray__\":\"AAAAAAAAAAA5zdfq2SHwPznN1+rZIQBA1rND4MYyCEA5zdfq2SEQQIfAjWVQKhRA1rND4MYyGEAkp/laPTscQDnN1+rZISBA4MYyKBUmIkCHwI1lUCokQC666KKLLiZA1rND4MYyKEB9rZ4dAjcqQCSn+Vo9OyxAy6BUmHg/LkA5zdfq2SEwQA1KhYn3IzFA4MYyKBUmMkC0Q+DGMigzQIfAjWVQKjRAWz07BG4sNUAuuuiiiy42QAI3lkGpMDdA1rND4MYyOECpMPF+5DQ5QH2tnh0CNzpAUCpMvB85O0Akp/laPTs8QPcjp/laPT1Ay6BUmHg/PkCeHQI3lkE/QDnN1+rZIUBAo4suuuiiQEANSoWJ9yNBQHYI3FgGpUFA4MYyKBUmQkBKhYn3I6dCQLRD4MYyKENAHQI3lkGpQ0CHwI1lUCpEQPF+5DRfq0RAWz07BG4sRUDF+5HTfK1FQC666KKLLkZAmHg/cpqvRkACN5ZBqTBHQGz17BC4sUdA1rND4MYySEA/cpqv1bNIQKkw8X7kNElAE+9HTvO1SUB9rZ4dAjdKQOZr9ewQuEpAUCpMvB85S0C66KKLLrpLQCSn+Vo9O0xAjmVQKky8TED3I6f5Wj1NQGHi/chpvk1Ay6BUmHg/TkA1X6tnh8BOQJ4dAjeWQU9ACNxYBqXCT0A5zdfq2SFQQG4sg1JhYlBAo4suuuiiUEDY6tkhcONQQA1KhYn3I1FAQakw8X5kUUB2CNxYBqVRQKtnh8CN5VFA4MYyKBUmUkAVJt6PnGZSQEqFifcjp1JAf+Q0X6vnUkC0Q+DGMihTQOmiiy66aFNAHQI3lkGpU0BSYeL9yOlTQIfAjWVQKlRAvB85zddqVEDxfuQ0X6tUQCbej5zm61RAWz07BG4sVUCQnOZr9WxVQMX7kdN8rVVA+Vo9OwTuVUAuuuiiiy5WQGMZlAoTb1ZAmHg/cpqvVkDN1+rZIfBWQAI3lkGpMFdAN5ZBqTBxV0Bs9ewQuLFXQKFUmHg/8ldA1rND4MYyWEAKE+9HTnNYQD9ymq/Vs1hAdNFFF130WECpMPF+5DRZQN6PnOZrdVlAE+9HTvO1WUBITvO1evZZQH2tnh0CN1pAsgxKhYl3WkDma/XsELhaQBvLoFSY+FpAUCpMvB85W0CFifcjp3lbQLrooosuultA70dO87X6W0Akp/laPTtcQFkGpcLEe1xAjmVQKky8XEDCxPuR0/xcQPcjp/laPV1ALINSYeJ9XUBh4v3Iab5dQJZBqTDx/l1Ay6BUmHg/XkAAAAAAAIBeQA==\",\"dtype\":\"float64\",\"shape\":[122]},\"y\":{\"__ndarray__\":\"AAAAAAAAAAAAAAAAAAAAAAAAAAAAAAAAAAAAAAAAAAAAAAAAAAAAAAAAAAAAAAAAAAAAAAAAAAAAAAAAAAAAAAAAAAAAAAAAAAAAAAAAAAAAAAAAAAAAAAAAAAAAAAAAAAAAAAAAAAAAAAAAAAAAAAAAAAAAAAAAAAAAAAAAAAAAAAAAAAAAAAAAAAAAAAAAAAAAAAAAAAAAAAAAAAAAAAAAAAAAAAAAAAAAAAAAAAAAAAAAAAAAAAAAAAAAAPA/AAAAAAAAAEAAAAAAAADwPwAAAAAAAPA/AAAAAAAACEAAAAAAAIBGQAAAAAAAAEdAAAAAAAAAR0AAAAAAAMBUQAAAAAAAoGJAAAAAAAAAZEAAAAAAAEBxQAAAAAAA4HlAAAAAAABYgEAAAAAAAGiCQAAAAAAAcINAAAAAAACghkAAAAAAAKCGQAAAAAAAVJBAAAAAAABok0AAAAAAAHyWQAAAAAAAPqJAAAAAAADco0AAAAAAAHqlQAAAAAAA+qZAAAAAAAByr0AAAAAAAFixQAAAAAAAWLFAAAAAAAC4t0AAAAAAAHC7QAAAAAAACL1AAAAAAABDwEAAAAAAAEnCQAAAAACAPMRAAAAAAABjxUAAAAAAADDIQAAAAAAAc8lAAAAAAACOzEAAAAAAgLjOQAAAAADAc9BAAAAAAIDZ0UAAAAAAgEvTQAAAAAAAgdRAAAAAAMBN1UAAAAAAQE3WQAAAAAAA0tdAAAAAAMDe2UAAAAAAgM3bQAAAAADAvd1AAAAAAIDF30AAAAAAYLTgQAAAAABgTeFAAAAAAEAh4kAAAAAAgJniQAAAAACAnONAAAAAAODc5EAAAAAA4O/lQAAAAADg+eZAAAAAAKDd50AAAAAAADLpQAAAAADgoepAAAAAAAAd7EAAAAAAQIrtQAAAAAAA0u5AAAAAAAC070AAAAAAAETwQAAAAADQ1PBAAAAAAEBl8UAAAAAAkIryQAAAAACQGvNAAAAAAKCC80AAAAAAYO/zQAAAAADwO/RAAAAAAPDO9EAAAAAA0MP2QAAAAABAgfdAAAAAAPAs+EAAAAAAcCf5QAAAAAAgrvlAAAAAALAF+kAAAAAA8J76QAAAAADQeftAAAAAAIAl/EAAAAAA0Fj9QAAAAACg+/1AAAAAAICP/kAAAAAA4BX/QAAAAACQl/9AAAAAANAlAEEAAAAAAG0AQQAAAACAsABBAAAAAMDyAEEAAAAA+CUBQQAAAADoVAFBAAAAAJCoAUEAAAAA6PQBQQAAAABgYgJBAAAAAGCoAkEAAAAAiP8CQQ==\",\"dtype\":\"float64\",\"shape\":[122]}},\"selected\":{\"id\":\"9638\"},\"selection_policy\":{\"id\":\"9639\"}},\"id\":\"9613\",\"type\":\"ColumnDataSource\"},{\"attributes\":{},\"id\":\"9624\",\"type\":\"UnionRenderers\"},{\"attributes\":{\"text\":\"Evolu\\u00e7\\u00e3o do COVID - Italy\"},\"id\":\"9582\",\"type\":\"Title\"},{\"attributes\":{},\"id\":\"9609\",\"type\":\"BasicTickFormatter\"},{\"attributes\":{},\"id\":\"9674\",\"type\":\"Selection\"},{\"attributes\":{\"data_source\":{\"id\":\"9677\"},\"glyph\":{\"id\":\"9678\"},\"hover_glyph\":null,\"muted_glyph\":null,\"nonselection_glyph\":{\"id\":\"9679\"},\"selection_glyph\":null,\"view\":{\"id\":\"9681\"}},\"id\":\"9680\",\"type\":\"GlyphRenderer\"},{\"attributes\":{\"data\":{\"x\":{\"__ndarray__\":\"AAAAAAAAAAA5zdfq2SHwPznN1+rZIQBA1rND4MYyCEA5zdfq2SEQQIfAjWVQKhRA1rND4MYyGEAkp/laPTscQDnN1+rZISBA4MYyKBUmIkCHwI1lUCokQC666KKLLiZA1rND4MYyKEB9rZ4dAjcqQCSn+Vo9OyxAy6BUmHg/LkA5zdfq2SEwQA1KhYn3IzFA4MYyKBUmMkC0Q+DGMigzQIfAjWVQKjRAWz07BG4sNUAuuuiiiy42QAI3lkGpMDdA1rND4MYyOECpMPF+5DQ5QH2tnh0CNzpAUCpMvB85O0Akp/laPTs8QPcjp/laPT1Ay6BUmHg/PkCeHQI3lkE/QDnN1+rZIUBAo4suuuiiQEANSoWJ9yNBQHYI3FgGpUFA4MYyKBUmQkBKhYn3I6dCQLRD4MYyKENAHQI3lkGpQ0CHwI1lUCpEQPF+5DRfq0RAWz07BG4sRUDF+5HTfK1FQC666KKLLkZAmHg/cpqvRkACN5ZBqTBHQGz17BC4sUdA1rND4MYySEA/cpqv1bNIQKkw8X7kNElAE+9HTvO1SUB9rZ4dAjdKQOZr9ewQuEpAUCpMvB85S0C66KKLLrpLQCSn+Vo9O0xAjmVQKky8TED3I6f5Wj1NQGHi/chpvk1Ay6BUmHg/TkA1X6tnh8BOQJ4dAjeWQU9ACNxYBqXCT0A5zdfq2SFQQG4sg1JhYlBAo4suuuiiUEDY6tkhcONQQA1KhYn3I1FAQakw8X5kUUB2CNxYBqVRQKtnh8CN5VFA4MYyKBUmUkAVJt6PnGZSQEqFifcjp1JAf+Q0X6vnUkC0Q+DGMihTQOmiiy66aFNAHQI3lkGpU0BSYeL9yOlTQIfAjWVQKlRAvB85zddqVEDxfuQ0X6tUQCbej5zm61RAWz07BG4sVUCQnOZr9WxVQMX7kdN8rVVA+Vo9OwTuVUAuuuiiiy5WQGMZlAoTb1ZAmHg/cpqvVkDN1+rZIfBWQAI3lkGpMFdAN5ZBqTBxV0Bs9ewQuLFXQKFUmHg/8ldA1rND4MYyWEAKE+9HTnNYQD9ymq/Vs1hAdNFFF130WECpMPF+5DRZQN6PnOZrdVlAE+9HTvO1WUBITvO1evZZQH2tnh0CN1pAsgxKhYl3WkDma/XsELhaQBvLoFSY+FpAUCpMvB85W0CFifcjp3lbQLrooosuultA70dO87X6W0Akp/laPTtcQFkGpcLEe1xAjmVQKky8XEDCxPuR0/xcQPcjp/laPV1ALINSYeJ9XUBh4v3Iab5dQJZBqTDx/l1Ay6BUmHg/XkAAAAAAAIBeQA==\",\"dtype\":\"float64\",\"shape\":[122]},\"y\":{\"__ndarray__\":\"AAAAAAAAFEBQncoTKZXVP4aZJOy93tc/xjSWOBKA3D/VNr/dLQXhPy4Sg2MnVOQ/699qqLpH6D+RUcZc4P/sP8rzWoFiUfE/NZtoUP6u9D/Ul9pH+LP4P5BSw1jKgP0/1ZAv9BueAUBOoY3cQQoFQP7a7V5wIAlACOBhoJQBDkCjhEkDeuoRQDu0CwaxZBVAyIsas1eLGUCNg7uDrn8eQCFFm5qnNCJAJkIrCK67JUDHfOR68vApQAZkZBzF9S5AtfMYjNl4MkCNZfSz0Qk2QNAyOySQSTpAWc7Sz+hYP0B4DCLsSq9CQN8DQe0UREZA2us2PI6FSkC7RbkB95JPQKSU9uJWyFJAWXH5z2VUVkAK8JZd3IVaQLq/ahFVeF9Ax28IsHylYkBiL34XQhBmQBJg1YyED2pAHvuZSbK3bkDl9RFwDA9yQMRK2AQHLHVAAr7bh9e8eEBTBD3mD8p8QNvUU87NrIBATpys76Q2g0BejUckigCGQGWmyQeeBIlAUZyo+jc4jED3wxlSJIuPQMTM+7mgc5FAr3uwWVsYk0DZduHafKOUQK7OP3dgA5ZAIv9L9Woml0BKCufcwPyXQL4f8PYKephAsKVgfPiWmEC9slHMMFKYQAXmfeJ/sJdAhnHj3TK8lkA0lXkmyIOVQJHjQpE5GJRAtBe/IjSLkkAQoWYIh+2QQCwGup70m45AjvodJT5xi0BtOuKdIm2IQLJBfKclnIVA5OnmwsEFg0DJt3BsT62AQOLTidf1JX1AjsQQclRpeUBV8QhChR12QOlv2tyOOXNAYp82nqSzcEDCmR/epgNtQNhj0fjsNGlA3lpUfgDpZUA/IXAcRg9jQN8j2kPFmGBAICzT6VfwXECN+p4mfUNZQBL5VvB3FlZA51bU33ZXU0CwxyZCEfdQQJS9Ngn/z01A/gPFz649SkDKjLQomyNHQPBQXbT6cERAPFZeg20XQkCWK8ltpQpAQDU8uZQzgDxA2NM0/opdOUB9RCKN3J02QESfXy/oMzRABCmcM08UMkBbsSJ6TTUwQAPqPEr6HC1AyPdAl0YxKkDceMK4CJsnQEzyPRl+TyVABhhUqllFI0B2AIJOjnQhQC9O+X5CrB9AUq0+iAbIHEDA4Oc83zEaQIoyRbSf4BdATCTZd0fMFUCqchdg2e0TQPiNFmY4PxJAN/pWhAm7EECCm/CnM7kOQMvt+ceQPwxAEdBJR+YBCkCZ2YXgzPkHQPWRquCdIQZAFQ7jp1p0BEAx8RKKl+0CQCoMM4RpiQFA7P4gblZEAECMr9AUjjb+Pw==\",\"dtype\":\"float64\",\"shape\":[122]}},\"selected\":{\"id\":\"9695\"},\"selection_policy\":{\"id\":\"9696\"}},\"id\":\"9658\",\"type\":\"ColumnDataSource\"},{\"attributes\":{\"label\":{\"value\":\"Susceptible - Modelo\"},\"renderers\":[{\"id\":\"9680\"}]},\"id\":\"9697\",\"type\":\"LegendItem\"},{\"attributes\":{\"source\":{\"id\":\"9601\"}},\"id\":\"9605\",\"type\":\"CDSView\"},{\"attributes\":{},\"id\":\"9639\",\"type\":\"UnionRenderers\"},{\"attributes\":{},\"id\":\"10062\",\"type\":\"Selection\"},{\"attributes\":{},\"id\":\"9586\",\"type\":\"DataRange1d\"},{\"attributes\":{\"data\":{\"x\":{\"__ndarray__\":\"AAAAAAAAAAA5zdfq2SHwPznN1+rZIQBA1rND4MYyCEA5zdfq2SEQQIfAjWVQKhRA1rND4MYyGEAkp/laPTscQDnN1+rZISBA4MYyKBUmIkCHwI1lUCokQC666KKLLiZA1rND4MYyKEB9rZ4dAjcqQCSn+Vo9OyxAy6BUmHg/LkA5zdfq2SEwQA1KhYn3IzFA4MYyKBUmMkC0Q+DGMigzQIfAjWVQKjRAWz07BG4sNUAuuuiiiy42QAI3lkGpMDdA1rND4MYyOECpMPF+5DQ5QH2tnh0CNzpAUCpMvB85O0Akp/laPTs8QPcjp/laPT1Ay6BUmHg/PkCeHQI3lkE/QDnN1+rZIUBAo4suuuiiQEANSoWJ9yNBQHYI3FgGpUFA4MYyKBUmQkBKhYn3I6dCQLRD4MYyKENAHQI3lkGpQ0CHwI1lUCpEQPF+5DRfq0RAWz07BG4sRUDF+5HTfK1FQC666KKLLkZAmHg/cpqvRkACN5ZBqTBHQGz17BC4sUdA1rND4MYySEA/cpqv1bNIQKkw8X7kNElAE+9HTvO1SUB9rZ4dAjdKQOZr9ewQuEpAUCpMvB85S0C66KKLLrpLQCSn+Vo9O0xAjmVQKky8TED3I6f5Wj1NQGHi/chpvk1Ay6BUmHg/TkA1X6tnh8BOQJ4dAjeWQU9ACNxYBqXCT0A5zdfq2SFQQG4sg1JhYlBAo4suuuiiUEDY6tkhcONQQA1KhYn3I1FAQakw8X5kUUB2CNxYBqVRQKtnh8CN5VFA4MYyKBUmUkAVJt6PnGZSQEqFifcjp1JAf+Q0X6vnUkC0Q+DGMihTQOmiiy66aFNAHQI3lkGpU0BSYeL9yOlTQIfAjWVQKlRAvB85zddqVEDxfuQ0X6tUQCbej5zm61RAWz07BG4sVUCQnOZr9WxVQMX7kdN8rVVA+Vo9OwTuVUAuuuiiiy5WQGMZlAoTb1ZAmHg/cpqvVkDN1+rZIfBWQAI3lkGpMFdAN5ZBqTBxV0Bs9ewQuLFXQKFUmHg/8ldA1rND4MYyWEAKE+9HTnNYQD9ymq/Vs1hAdNFFF130WECpMPF+5DRZQN6PnOZrdVlAE+9HTvO1WUBITvO1evZZQH2tnh0CN1pAsgxKhYl3WkDma/XsELhaQBvLoFSY+FpAUCpMvB85W0CFifcjp3lbQLrooosuultA70dO87X6W0Akp/laPTtcQFkGpcLEe1xAjmVQKky8XEDCxPuR0/xcQPcjp/laPV1ALINSYeJ9XUBh4v3Iab5dQJZBqTDx/l1Ay6BUmHg/XkAAAAAAAIBeQA==\",\"dtype\":\"float64\",\"shape\":[122]},\"y\":{\"__ndarray__\":\"AAAAAAAAAAC0BhulzVrCP0Ox+FP8otU/C79BflhD4j9KQ4cnuCfrPy5VVyRR4/I/O2StWA47+T/wXr0vOWcAQHhy0Ztr7QRA1XBxTMFUCkAV+3uNfWQQQHcQi78sPxRADi0XVaHZGEC5BVU4HVkeQD8srNAOdSJA4FSz7OBgJkBCLHeDuw8rQDUUb5u9UzBA0FNPcamqM0BKGDwNm6c3QGkXsoDEajxAqrDNn0gNQUDEFRoHbHJEQOcmHWMjgEhANpDkQQlXTUAjgO0h/o5RQNSla4enAVVAKQp5ARgfWUBcz4wRKQheQFrZmXn48WFAswtke3RwZUAoFjUyI5tpQLyeLIDGkm5AcTXUoxg/ckCKBkyrqsV1QOTx3mk8+HlAplBr5cr2fkBsUANHeXOCQE5Kyvdk+oVAFKG8u+cpikA6J6rd8h+PQMhUcZOVf5JAbX6mrbP3lUC0rJ1dEQ+aQFA4uopr355A+w7zh8tCokD/RO96vZClQEem+kHwaqlA1we/SQbkrUCdXp+LxYexQEHYGFO8gLRAAVYKfcrmt0DG3LFLVcO7QHsGAgRpD8BAfkT1WSaAwkCca8/2eDbFQLOUehXUM8hAc0oBRmJ4y0AB1gKt8gLPQA5uYAV+aNFA1JZezlpv00CkgveRoZPVQNCRAXl30tdApL72zLUo2kARrjZfC5PcQM3vf60bDt9AN9r+3UzL4EAIsDe/rhTiQGhN5725YeNAtjYOfROx5EBZDeizgwHmQAEA4/X0UedARK63BnSh6EBMKF0qLu/pQCmfi89uOutAyCVD4JyC7ECP3rvwN8ftQGlE13TVB+9A8oY7Cw8i8ECuNVie5b3wQF6DC2ZSV/FASzx3kT/u8UBJCTyonILyQEuiGMJdFPNAWUtk2Hqj80CMcugu7y/0QM8keNG4ufRAfXjhI9hA9UB3T9yBT8X1QJz01uwiR/ZAOA/CxVfG9kAWnSaR9EL3QEH1EMQAvfdAhnyMmIQ0+EDoVZHoiKn4QP/FdQ4XHPlA00cSyjiM+UAsQOYp+Pn5QNILqHdfZfpAavm9J3nO+kBYHDPLTzX7QHiMywPumftAOozneV78+0BbJfPTq1z8QOx5J6/guvxAyeJvmQcX/UC7ZkUMK3H9QIjmX2hVyf1AamYd8pAf/kA914XO53P+QNig1QBkxv5AdXt7aA8X/0B6OHm/82X/QH/WGpkas/9AXTL2YI3+/0B0DxWtKiQAQXLoac89SABBVmTZj4RrAEFhavpRA44AQV5hkmS+rwBBtyibAbrQAEEfyVVO+vAAQQ==\",\"dtype\":\"float64\",\"shape\":[122]}},\"selected\":{\"id\":\"9674\"},\"selection_policy\":{\"id\":\"9675\"}},\"id\":\"9641\",\"type\":\"ColumnDataSource\"},{\"attributes\":{\"source\":{\"id\":\"9658\"}},\"id\":\"9662\",\"type\":\"CDSView\"},{\"attributes\":{},\"id\":\"9696\",\"type\":\"UnionRenderers\"},{\"attributes\":{},\"id\":\"9584\",\"type\":\"DataRange1d\"},{\"attributes\":{\"line_color\":\"#5e35b1\",\"line_dash\":[6],\"line_width\":3,\"x\":{\"field\":\"x\"},\"y\":{\"field\":\"y\"}},\"id\":\"9627\",\"type\":\"Line\"},{\"attributes\":{},\"id\":\"9638\",\"type\":\"Selection\"},{\"attributes\":{\"data_source\":{\"id\":\"9658\"},\"glyph\":{\"id\":\"9659\"},\"hover_glyph\":null,\"muted_glyph\":null,\"nonselection_glyph\":{\"id\":\"9660\"},\"selection_glyph\":null,\"view\":{\"id\":\"9662\"}},\"id\":\"9661\",\"type\":\"GlyphRenderer\"},{\"attributes\":{\"source\":{\"id\":\"9626\"}},\"id\":\"9630\",\"type\":\"CDSView\"},{\"attributes\":{\"line_alpha\":0.1,\"line_color\":\"#c2185b\",\"line_width\":4,\"x\":{\"field\":\"x\"},\"y\":{\"field\":\"y\"}},\"id\":\"9603\",\"type\":\"Line\"},{\"attributes\":{\"active_drag\":\"auto\",\"active_inspect\":\"auto\",\"active_multi\":null,\"active_scroll\":\"auto\",\"active_tap\":\"auto\"},\"id\":\"9600\",\"type\":\"Toolbar\"},{\"attributes\":{},\"id\":\"9588\",\"type\":\"LinearScale\"},{\"attributes\":{\"data_source\":{\"id\":\"9601\"},\"glyph\":{\"id\":\"9602\"},\"hover_glyph\":null,\"muted_glyph\":null,\"nonselection_glyph\":{\"id\":\"9603\"},\"selection_glyph\":null,\"view\":{\"id\":\"9605\"}},\"id\":\"9604\",\"type\":\"GlyphRenderer\"},{\"attributes\":{\"data_source\":{\"id\":\"9626\"},\"glyph\":{\"id\":\"9627\"},\"hover_glyph\":null,\"muted_glyph\":null,\"nonselection_glyph\":{\"id\":\"9628\"},\"selection_glyph\":null,\"view\":{\"id\":\"9630\"}},\"id\":\"9629\",\"type\":\"GlyphRenderer\"},{\"attributes\":{},\"id\":\"9607\",\"type\":\"BasicTickFormatter\"},{\"attributes\":{\"line_alpha\":0.1,\"line_color\":\"#1565c0\",\"line_dash\":[6],\"line_width\":3,\"x\":{\"field\":\"x\"},\"y\":{\"field\":\"y\"}},\"id\":\"9660\",\"type\":\"Line\"},{\"attributes\":{\"line_color\":\"#43a047\",\"line_dash\":[6],\"line_width\":3,\"x\":{\"field\":\"x\"},\"y\":{\"field\":\"y\"}},\"id\":\"9678\",\"type\":\"Line\"},{\"attributes\":{\"items\":[{\"id\":\"9612\"},{\"id\":\"9625\"},{\"id\":\"9640\"},{\"id\":\"9657\"},{\"id\":\"9676\"},{\"id\":\"9697\"}]},\"id\":\"9611\",\"type\":\"Legend\"},{\"attributes\":{\"line_alpha\":0.1,\"line_color\":\"#5e35b1\",\"line_dash\":[6],\"line_width\":3,\"x\":{\"field\":\"x\"},\"y\":{\"field\":\"y\"}},\"id\":\"9628\",\"type\":\"Line\"},{\"attributes\":{\"label\":{\"value\":\"Exposed - Modelo\"},\"renderers\":[{\"id\":\"9661\"}]},\"id\":\"9676\",\"type\":\"LegendItem\"},{\"attributes\":{},\"id\":\"10063\",\"type\":\"UnionRenderers\"},{\"attributes\":{},\"id\":\"9675\",\"type\":\"UnionRenderers\"},{\"attributes\":{},\"id\":\"9695\",\"type\":\"Selection\"},{\"attributes\":{},\"id\":\"9590\",\"type\":\"LinearScale\"},{\"attributes\":{\"label\":{\"value\":\"Infectados - Modelo\"},\"renderers\":[{\"id\":\"9629\"}]},\"id\":\"9640\",\"type\":\"LegendItem\"},{\"attributes\":{\"data\":{\"x\":{\"__ndarray__\":\"AAAAAAAAAAA5zdfq2SHwPznN1+rZIQBA1rND4MYyCEA5zdfq2SEQQIfAjWVQKhRA1rND4MYyGEAkp/laPTscQDnN1+rZISBA4MYyKBUmIkCHwI1lUCokQC666KKLLiZA1rND4MYyKEB9rZ4dAjcqQCSn+Vo9OyxAy6BUmHg/LkA5zdfq2SEwQA1KhYn3IzFA4MYyKBUmMkC0Q+DGMigzQIfAjWVQKjRAWz07BG4sNUAuuuiiiy42QAI3lkGpMDdA1rND4MYyOECpMPF+5DQ5QH2tnh0CNzpAUCpMvB85O0Akp/laPTs8QPcjp/laPT1Ay6BUmHg/PkCeHQI3lkE/QDnN1+rZIUBAo4suuuiiQEANSoWJ9yNBQHYI3FgGpUFA4MYyKBUmQkBKhYn3I6dCQLRD4MYyKENAHQI3lkGpQ0CHwI1lUCpEQPF+5DRfq0RAWz07BG4sRUDF+5HTfK1FQC666KKLLkZAmHg/cpqvRkACN5ZBqTBHQGz17BC4sUdA1rND4MYySEA/cpqv1bNIQKkw8X7kNElAE+9HTvO1SUB9rZ4dAjdKQOZr9ewQuEpAUCpMvB85S0C66KKLLrpLQCSn+Vo9O0xAjmVQKky8TED3I6f5Wj1NQGHi/chpvk1Ay6BUmHg/TkA1X6tnh8BOQJ4dAjeWQU9ACNxYBqXCT0A5zdfq2SFQQG4sg1JhYlBAo4suuuiiUEDY6tkhcONQQA1KhYn3I1FAQakw8X5kUUB2CNxYBqVRQKtnh8CN5VFA4MYyKBUmUkAVJt6PnGZSQEqFifcjp1JAf+Q0X6vnUkC0Q+DGMihTQOmiiy66aFNAHQI3lkGpU0BSYeL9yOlTQIfAjWVQKlRAvB85zddqVEDxfuQ0X6tUQCbej5zm61RAWz07BG4sVUCQnOZr9WxVQMX7kdN8rVVA+Vo9OwTuVUAuuuiiiy5WQGMZlAoTb1ZAmHg/cpqvVkDN1+rZIfBWQAI3lkGpMFdAN5ZBqTBxV0Bs9ewQuLFXQKFUmHg/8ldA1rND4MYyWEAKE+9HTnNYQD9ymq/Vs1hAdNFFF130WECpMPF+5DRZQN6PnOZrdVlAE+9HTvO1WUBITvO1evZZQH2tnh0CN1pAsgxKhYl3WkDma/XsELhaQBvLoFSY+FpAUCpMvB85W0CFifcjp3lbQLrooosuultA70dO87X6W0Akp/laPTtcQFkGpcLEe1xAjmVQKky8XEDCxPuR0/xcQPcjp/laPV1ALINSYeJ9XUBh4v3Iab5dQJZBqTDx/l1Ay6BUmHg/XkAAAAAAAIBeQA==\",\"dtype\":\"float64\",\"shape\":[122]},\"y\":{\"__ndarray__\":\"AAAAAAAAAEBc0t8n01MfQMXW4fo8xCJAiUhipk9qJkC2O85M4sUqQIGGaC9P+i9AS/Auk90YM0CucGxIPc82QEGTRftTPjtA1VFyXwJFQEDH0HL6lG5DQCDHtWV3NUdAhoQdsjW4S0DkgUYfpI1QQBoTMVAcxVNAf1U6fH+cV0DS/T790DJcQErFIJaJ1mBACclzFbcbZECF2ZU0RwNoQNFy6Y2irGxAKbUYo50ecUBXnBsA2XB0QPf5+EqYZ3hAzA1x24EifUA001Jvn2OBQCNleZJLwYRARNEv1t7EiECuy7Fb6o2NQLyIuR/soJFArhl123cGlUDbUGSGvxGZQP11L+OW4Z1AX2LL7h3NoUD+BTXdEzOlQCd/Fph4O6lAj5r27hwDrkD5aZxlp9WxQLZOfx0lLbVAN2NSW8wduUBiU+JlJ8C9QI627qvEl8FA8nxN8fPExEBqzfocvXfIQAqn9HoEwcxA3xHwTPbY0ECEmC+eh63TQBETfCW55dZAGGeospuH2kBS9k9bB5feQO28PupgiuFASf2axNL+40C280/U8qTmQIsXvL9IdulAkRGxJr1p7EBIStW8y3PvQMpEN1N9Q/FAKo2vxEjK8kAEq5Ujv0b0QKbq26ClsfVAS2WuTIME90C3jmpJ/jn4QIQKCzwYTvlAQMnGB0Y++kBl4iw5ZQn7QCVyfj+Wr/tAQig0IAUy/EBCK248qpL8QDQVoVcL1PxASSqPngL5/EBbOBP3jgT9QEXd7smu+fxAWhC3+UTb/EB0A/jOBqz8QKHslz1xbvxA/lJU08Mk/EC63zPF/9D7QBAJDM7pdPtA7Fra1Q0S+0Bapq6aw6n6QM1f58szPfpAXT6wNV3N+UAI8E69GVv5QC85hAgj5/hAmKMBvBZy+EDPEFdJevz3QPN0U02+hvdAygrag0ER90Bg15JZU5z2QLmm9yQ2KPZAUnpjECG19UBNuti+QUP1QLULWbS90vRA29jdibNj9EDXu1b0O/bzQPj2+qRqivNACuyOCE8g80B4ZHvq9LfyQCuw1f9kUfJAwrn2XaXs8UDdWavfuYnxQASLknukKPFA6XHojWXJ8EAhppgX/GvwQJ2iOPRlEPBAJZtiEEBt70C8dq3QTL3uQMcWqPfoEO5A+viOMgpo7UAgw4A/pcLsQINtaRiuIOxAp8PmFxiC60B7sgQZ1ubqQG/eepLaTupAAFIkrhe66UDiJypdfyjpQCBXWWkDmuhAfGkKhJUO6EC5o+1SJ4bnQG4/AnuqAOdAk1L9qRB+5kA0i1KeS/7lQA==\",\"dtype\":\"float64\",\"shape\":[122]}},\"selected\":{\"id\":\"9655\"},\"selection_policy\":{\"id\":\"9656\"}},\"id\":\"9626\",\"type\":\"ColumnDataSource\"},{\"attributes\":{\"label\":{\"value\":\"Infectados\"},\"renderers\":[{\"id\":\"9604\"}]},\"id\":\"9612\",\"type\":\"LegendItem\"},{\"attributes\":{\"line_color\":\"#1565c0\",\"line_dash\":[6],\"line_width\":3,\"x\":{\"field\":\"x\"},\"y\":{\"field\":\"y\"}},\"id\":\"9659\",\"type\":\"Line\"},{\"attributes\":{\"axis_label\":\"Dias\",\"formatter\":{\"id\":\"9609\"},\"ticker\":{\"id\":\"9593\"}},\"id\":\"9592\",\"type\":\"LinearAxis\"},{\"attributes\":{\"label\":{\"value\":\"Removidos\"},\"renderers\":[{\"id\":\"9616\"}]},\"id\":\"9625\",\"type\":\"LegendItem\"},{\"attributes\":{},\"id\":\"9655\",\"type\":\"Selection\"},{\"attributes\":{},\"id\":\"9597\",\"type\":\"BasicTicker\"},{\"attributes\":{\"data\":{\"x\":{\"__ndarray__\":\"AAAAAAAAAAA5zdfq2SHwPznN1+rZIQBA1rND4MYyCEA5zdfq2SEQQIfAjWVQKhRA1rND4MYyGEAkp/laPTscQDnN1+rZISBA4MYyKBUmIkCHwI1lUCokQC666KKLLiZA1rND4MYyKEB9rZ4dAjcqQCSn+Vo9OyxAy6BUmHg/LkA5zdfq2SEwQA1KhYn3IzFA4MYyKBUmMkC0Q+DGMigzQIfAjWVQKjRAWz07BG4sNUAuuuiiiy42QAI3lkGpMDdA1rND4MYyOECpMPF+5DQ5QH2tnh0CNzpAUCpMvB85O0Akp/laPTs8QPcjp/laPT1Ay6BUmHg/PkCeHQI3lkE/QDnN1+rZIUBAo4suuuiiQEANSoWJ9yNBQHYI3FgGpUFA4MYyKBUmQkBKhYn3I6dCQLRD4MYyKENAHQI3lkGpQ0CHwI1lUCpEQPF+5DRfq0RAWz07BG4sRUDF+5HTfK1FQC666KKLLkZAmHg/cpqvRkACN5ZBqTBHQGz17BC4sUdA1rND4MYySEA/cpqv1bNIQKkw8X7kNElAE+9HTvO1SUB9rZ4dAjdKQOZr9ewQuEpAUCpMvB85S0C66KKLLrpLQCSn+Vo9O0xAjmVQKky8TED3I6f5Wj1NQGHi/chpvk1Ay6BUmHg/TkA1X6tnh8BOQJ4dAjeWQU9ACNxYBqXCT0A5zdfq2SFQQG4sg1JhYlBAo4suuuiiUEDY6tkhcONQQA1KhYn3I1FAQakw8X5kUUB2CNxYBqVRQKtnh8CN5VFA4MYyKBUmUkAVJt6PnGZSQEqFifcjp1JAf+Q0X6vnUkC0Q+DGMihTQOmiiy66aFNAHQI3lkGpU0BSYeL9yOlTQIfAjWVQKlRAvB85zddqVEDxfuQ0X6tUQCbej5zm61RAWz07BG4sVUCQnOZr9WxVQMX7kdN8rVVA+Vo9OwTuVUAuuuiiiy5WQGMZlAoTb1ZAmHg/cpqvVkDN1+rZIfBWQAI3lkGpMFdAN5ZBqTBxV0Bs9ewQuLFXQKFUmHg/8ldA1rND4MYyWEAKE+9HTnNYQD9ymq/Vs1hAdNFFF130WECpMPF+5DRZQN6PnOZrdVlAE+9HTvO1WUBITvO1evZZQH2tnh0CN1pAsgxKhYl3WkDma/XsELhaQBvLoFSY+FpAUCpMvB85W0CFifcjp3lbQLrooosuultA70dO87X6W0Akp/laPTtcQFkGpcLEe1xAjmVQKky8XEDCxPuR0/xcQPcjp/laPV1ALINSYeJ9XUBh4v3Iab5dQJZBqTDx/l1Ay6BUmHg/XkAAAAAAAIBeQA==\",\"dtype\":\"float64\",\"shape\":[122]},\"y\":{\"__ndarray__\":\"WUe6uip2BkHQ+sE6IHYGQdITj/kRdgZBM0ej8AB2BkHSkveX7HUGQa4ey0rUdQZBcddXRLd1BkEIvZ6ZlHUGQa+Q/TFrdQZBkNtTvjl1BkFKYXOu/nQGQYhAhSS4dAZBJ4cA5mN0BkFVEbpJ/3MGQZyfhCKHcwZB42yypfdyBkENi7hMTHIGQZvXBbF/cQZBu/n5YItwBkGQsLesZ28GQQRdVGkLbgZBfJ2mqGtsBkFe3K9je2oGQX8nShUraAZByg9sQmhlBkE8F/nsHGIGQay+te0uXgZB12mdMX9ZBkHaoY3W6FMGQcmZDSNATQZBu8AAVVFFBkHl1XBD3zsGQXl+d9ChMAZBjTDzKUQjBkFmGmTaYhMGQZLQgq+JAAZBMrVfgjHqBUE0gcD1vc8FQUdNs0t7sAVBJZGRg5yLBUGhgXUGOmAFQSgNUkFRLQVBtTSGqMXxBEGvQDy+Y6wEQao0J87mWwRBTcwMHgL/A0GwT+RGbpQDQcAQ+zb7GgNBw5VD86aRAkHeM6F+uPcBQcrZHVzdTAFBZ9T3/kaRAEFB8SXDiIv/QPRCOXOm1/1Abi0Ia0gL/EACYLx0HSz6QOU2snPlQPhAtVUThhRR9kA0Qg05X2T0QACRtlM+gvJA+/W2qXqx8EAUcuRNn+/tQHEoyOlcs+pA8DLKU0q050ClzLCQzvXkQDNZscLgeOJA1Hrt02484EALHLtQpnvcQERpQ86T8thAFu1hU7bU1UAYuVEWaBjTQJCe8urYs9BA5rN8H+k6zUCPcV9gUJjJQMfAzwkab8ZA65EDa/yvw0B7f50jP03BQIusB2hndb5ALyv4QUHbukBPqveVSbm3QB/o+w0u/7RAw/QphcmeskAF2/4J44uwQBKxc5vhd61AK1fVasBLqkBXNpAcx4OnQLvE+diKEqVAxVri+4LsokB4KgrUxAehQJ/v2RORt55A81mmZ2zCm0A1jd8xdCOZQLeMUHS+z5ZA24OVlt69lEDEtuqwruWSQDnzNuAgQJFAW48Q8C6Oj0Dz9qMdhuqMQMFrQBILjIpAS8SQxbJqiEDlOSkoeX+GQHyo1hI9xIRAZPyea6Ezg0CSmCe78siBQAEnO4UQgIBA5mU9ubOqfkAeA3lbOYt8QCq9y8EOnHpAp3HM8TjYeEBEkdXITzt3QAfInohrwXVAfhig3xRndEBCJK0RNylzQEcSufoTBXJAiM2knzn4cECK2JobeQBwQGPooXC9N25AwxaDDlaRbED27aezmQprQLrIR/e3oGlA+oZvJSlRaEDmK0QjphlnQA==\",\"dtype\":\"float64\",\"shape\":[122]}},\"selected\":{\"id\":\"10062\"},\"selection_policy\":{\"id\":\"10063\"}},\"id\":\"9677\",\"type\":\"ColumnDataSource\"},{\"attributes\":{},\"id\":\"9593\",\"type\":\"BasicTicker\"},{\"attributes\":{\"axis\":{\"id\":\"9592\"},\"grid_line_alpha\":0,\"ticker\":null},\"id\":\"9595\",\"type\":\"Grid\"},{\"attributes\":{\"line_color\":\"#0288d1\",\"line_width\":4,\"x\":{\"field\":\"x\"},\"y\":{\"field\":\"y\"}},\"id\":\"9614\",\"type\":\"Line\"},{\"attributes\":{\"source\":{\"id\":\"9677\"}},\"id\":\"9681\",\"type\":\"CDSView\"},{\"attributes\":{\"data\":{\"x\":{\"__ndarray__\":\"AAAAAAAAAAA5zdfq2SHwPznN1+rZIQBA1rND4MYyCEA5zdfq2SEQQIfAjWVQKhRA1rND4MYyGEAkp/laPTscQDnN1+rZISBA4MYyKBUmIkCHwI1lUCokQC666KKLLiZA1rND4MYyKEB9rZ4dAjcqQCSn+Vo9OyxAy6BUmHg/LkA5zdfq2SEwQA1KhYn3IzFA4MYyKBUmMkC0Q+DGMigzQIfAjWVQKjRAWz07BG4sNUAuuuiiiy42QAI3lkGpMDdA1rND4MYyOECpMPF+5DQ5QH2tnh0CNzpAUCpMvB85O0Akp/laPTs8QPcjp/laPT1Ay6BUmHg/PkCeHQI3lkE/QDnN1+rZIUBAo4suuuiiQEANSoWJ9yNBQHYI3FgGpUFA4MYyKBUmQkBKhYn3I6dCQLRD4MYyKENAHQI3lkGpQ0CHwI1lUCpEQPF+5DRfq0RAWz07BG4sRUDF+5HTfK1FQC666KKLLkZAmHg/cpqvRkACN5ZBqTBHQGz17BC4sUdA1rND4MYySEA/cpqv1bNIQKkw8X7kNElAE+9HTvO1SUB9rZ4dAjdKQOZr9ewQuEpAUCpMvB85S0C66KKLLrpLQCSn+Vo9O0xAjmVQKky8TED3I6f5Wj1NQGHi/chpvk1Ay6BUmHg/TkA1X6tnh8BOQJ4dAjeWQU9ACNxYBqXCT0A5zdfq2SFQQG4sg1JhYlBAo4suuuiiUEDY6tkhcONQQA1KhYn3I1FAQakw8X5kUUB2CNxYBqVRQKtnh8CN5VFA4MYyKBUmUkAVJt6PnGZSQEqFifcjp1JAf+Q0X6vnUkC0Q+DGMihTQOmiiy66aFNAHQI3lkGpU0BSYeL9yOlTQIfAjWVQKlRAvB85zddqVEDxfuQ0X6tUQCbej5zm61RAWz07BG4sVUCQnOZr9WxVQMX7kdN8rVVA+Vo9OwTuVUAuuuiiiy5WQGMZlAoTb1ZAmHg/cpqvVkDN1+rZIfBWQAI3lkGpMFdAN5ZBqTBxV0Bs9ewQuLFXQKFUmHg/8ldA1rND4MYyWEAKE+9HTnNYQD9ymq/Vs1hAdNFFF130WECpMPF+5DRZQN6PnOZrdVlAE+9HTvO1WUBITvO1evZZQH2tnh0CN1pAsgxKhYl3WkDma/XsELhaQBvLoFSY+FpAUCpMvB85W0CFifcjp3lbQLrooosuultA70dO87X6W0Akp/laPTtcQFkGpcLEe1xAjmVQKky8XEDCxPuR0/xcQPcjp/laPV1ALINSYeJ9XUBh4v3Iab5dQJZBqTDx/l1Ay6BUmHg/XkAAAAAAAIBeQA==\",\"dtype\":\"float64\",\"shape\":[122]},\"y\":{\"__ndarray__\":\"AAAAAAAAAEAAAAAAAAAAQEmSJEmSJAFAkiRJkiRJAkDbtm3btm0DQCRJkiRJkgRAbNu2bdu2BUC2bdu2bdsGQAAAAAAAAAhAJEmSJEmSEEBIkiRJkiQVQG7btm3bthlAkSRJkiRJHkDbtm3btm0hQG3btm3btiNAAAAAAAAAJkCSJEmSJEkoQCRJkiRJkipAtm3btm3bLEBJkiRJkiQvQG3btm3btjBAt23btm3bMUAAAAAAAAAzQAAAAAAAgE1AAAAAAADAYkAAAAAAAKBrQAAAAAAAcHNAAAAAAABge0AAAAAAAIiCQAAAAAAAqIlAAAAAAAB0kEAAAAAAAKSYQAAAAAAArJxAAAAAAACuoUAAAAAAACSlQAAAAAAAwKlAAAAAAACYrkAAAAAAAMWzQAAAAAAA87hAAAAAAAAxv0AAAAAAAC3BQAAAAAAAr8RAAAAAAEDyyEAAAAAAgDXNQAAAAADAHtRAAAAAAIBT1UAAAAAAQIjWQAAAAACAc9lAAAAAAIAJ3EAAAAAAwDTgQAAAAACg0uJAAAAAACDX5EAAAAAAwMXmQAAAAABAnuhAAAAAAMBh6kAAAAAAIBbsQAAAAACgR+5AAAAAAOA28EAAAAAAEBvxQAAAAACACfJAAAAAAIBw8kAAAAAAMPTyQAAAAADAq/NAAAAAAJBG9EAAAAAAwNj0QAAAAAAgjfVAAAAAAOBG9kAAAAAAMMD2QAAAAAAw9/ZAAAAAAOBB90AAAAAA0Kb3QAAAAAAQ/vdAAAAAANB6+EAAAAAA0Pb4QAAAAAAATPlAAAAAADB2+UAAAAAAoLz5QAAAAADwBvpAAAAAACAd+kAAAAAAsE/6QAAAAAAQbvpAAAAAANBs+kAAAAAA0Ev6QAAAAAAwS/pAAAAAAAAW+kAAAAAA8AH6QAAAAABw1/lAAAAAAHDn+UAAAAAAUNX5QAAAAABQr/lAAAAAABCN+UAAAAAA8Mr4QAAAAADwpPhAAAAAAACW+EAAAAAAMHX4QAAAAADAaPhAAAAAADAK+EAAAAAAgFj2QAAAAACA4fVAAAAAAJB59UAAAAAAoLb0QAAAAADAV/RAAAAAAIAj9EAAAAAAINfzQAAAAACQJ/NAAAAAAICp8kAAAAAAYJjxQAAAAACwIvFAAAAAAPCv8EAAAAAAkD/wQAAAAAAgze9AAAAAAACk7kAAAAAAAMTtQAAAAABA9+xAAAAAAAAz7EAAAAAAQKLrQAAAAACAAOtAAAAAAMDZ6UAAAAAAwOLoQAAAAABAbudAAAAAAOCL5kAAAAAAYFXlQA==\",\"dtype\":\"float64\",\"shape\":[122]}},\"selected\":{\"id\":\"9623\"},\"selection_policy\":{\"id\":\"9624\"}},\"id\":\"9601\",\"type\":\"ColumnDataSource\"},{\"attributes\":{\"source\":{\"id\":\"9613\"}},\"id\":\"9617\",\"type\":\"CDSView\"},{\"attributes\":{\"source\":{\"id\":\"9641\"}},\"id\":\"9645\",\"type\":\"CDSView\"},{\"attributes\":{\"line_alpha\":0.1,\"line_color\":\"#43a047\",\"line_dash\":[6],\"line_width\":3,\"x\":{\"field\":\"x\"},\"y\":{\"field\":\"y\"}},\"id\":\"9679\",\"type\":\"Line\"},{\"attributes\":{\"axis\":{\"id\":\"9596\"},\"band_fill_alpha\":0.1,\"band_fill_color\":\"olive\",\"dimension\":1,\"grid_line_alpha\":0,\"ticker\":null},\"id\":\"9599\",\"type\":\"Grid\"},{\"attributes\":{},\"id\":\"9623\",\"type\":\"Selection\"},{\"attributes\":{\"axis_label\":\"Indiv\\u00edduos\",\"formatter\":{\"id\":\"9607\"},\"ticker\":{\"id\":\"9597\"}},\"id\":\"9596\",\"type\":\"LinearAxis\"},{\"attributes\":{\"data_source\":{\"id\":\"9641\"},\"glyph\":{\"id\":\"9642\"},\"hover_glyph\":null,\"muted_glyph\":null,\"nonselection_glyph\":{\"id\":\"9643\"},\"selection_glyph\":null,\"view\":{\"id\":\"9645\"}},\"id\":\"9644\",\"type\":\"GlyphRenderer\"},{\"attributes\":{\"line_color\":\"#f57f17\",\"line_dash\":[6],\"line_width\":3,\"x\":{\"field\":\"x\"},\"y\":{\"field\":\"y\"}},\"id\":\"9642\",\"type\":\"Line\"},{\"attributes\":{\"line_alpha\":0.1,\"line_color\":\"#f57f17\",\"line_dash\":[6],\"line_width\":3,\"x\":{\"field\":\"x\"},\"y\":{\"field\":\"y\"}},\"id\":\"9643\",\"type\":\"Line\"},{\"attributes\":{\"line_alpha\":0.1,\"line_color\":\"#0288d1\",\"line_width\":4,\"x\":{\"field\":\"x\"},\"y\":{\"field\":\"y\"}},\"id\":\"9615\",\"type\":\"Line\"},{\"attributes\":{\"data_source\":{\"id\":\"9613\"},\"glyph\":{\"id\":\"9614\"},\"hover_glyph\":null,\"muted_glyph\":null,\"nonselection_glyph\":{\"id\":\"9615\"},\"selection_glyph\":null,\"view\":{\"id\":\"9617\"}},\"id\":\"9616\",\"type\":\"GlyphRenderer\"},{\"attributes\":{\"label\":{\"value\":\"Removidos - Modelo\"},\"renderers\":[{\"id\":\"9644\"}]},\"id\":\"9657\",\"type\":\"LegendItem\"},{\"attributes\":{},\"id\":\"9656\",\"type\":\"UnionRenderers\"}],\"root_ids\":[\"9581\"]},\"title\":\"Bokeh Application\",\"version\":\"2.0.1\"}};\n",
       "  var render_items = [{\"docid\":\"77fe666d-f37d-4a29-9a18-ba6c8efb2d7f\",\"root_ids\":[\"9581\"],\"roots\":{\"9581\":\"deb595c3-0970-4d25-9e4c-4a73ca5f8126\"}}];\n",
       "  root.Bokeh.embed.embed_items_notebook(docs_json, render_items);\n",
       "\n",
       "  }\n",
       "  if (root.Bokeh !== undefined) {\n",
       "    embed_document(root);\n",
       "  } else {\n",
       "    var attempts = 0;\n",
       "    var timer = setInterval(function(root) {\n",
       "      if (root.Bokeh !== undefined) {\n",
       "        clearInterval(timer);\n",
       "        embed_document(root);\n",
       "      } else {\n",
       "        attempts++;\n",
       "        if (attempts > 100) {\n",
       "          clearInterval(timer);\n",
       "          console.log(\"Bokeh: ERROR: Unable to run BokehJS code because BokehJS library is missing\");\n",
       "        }\n",
       "      }\n",
       "    }, 10, root)\n",
       "  }\n",
       "})(window);"
      ],
      "application/vnd.bokehjs_exec.v0+json": ""
     },
     "metadata": {
      "application/vnd.bokehjs_exec.v0+json": {
       "id": "9581"
      }
     },
     "output_type": "display_data"
    }
   ],
   "source": [
    "\n",
    "p = figure(plot_height=500,\n",
    "           plot_width=600, \n",
    "           tools=\"\", \n",
    "           toolbar_location=None,\n",
    "           title=\"Evolução do COVID - \" + country['data']['name'])\n",
    "\n",
    "# Preparando o estilo\n",
    "p.grid.grid_line_alpha = 0\n",
    "p.ygrid.band_fill_color = \"olive\"\n",
    "p.ygrid.band_fill_alpha = 0.1\n",
    "p.yaxis.axis_label = \"Indivíduos\"\n",
    "p.xaxis.axis_label = \"Dias\"\n",
    "\n",
    "p.line(t, I,  \n",
    "       legend_label=\"Infectados\", color=\"#c2185b\", line_width=4)\n",
    "p.line(t, R,  \n",
    "       legend_label=\"Removidos\", color=\"#0288d1\", line_width=4)\n",
    "\n",
    "# Show the results\n",
    "p.line(td, sim_res[2],  \n",
    "       legend_label=\"Infectados - Modelo\", line_dash=\"dashed\", color=\"#5e35b1\", line_width=3)\n",
    "p.line(td, sim_res[3],  \n",
    "     legend_label=\"Removidos - Modelo\", line_dash=\"dashed\", color=\"#f57f17\", line_width=3)\n",
    "p.line(td, sim_res[1],  \n",
    "      legend_label=\"Exposed - Modelo\", line_dash=\"dashed\", color=\"#1565c0\", line_width=3)\n",
    "p.line(td, sim_res[0],  \n",
    "      legend_label=\"Susceptible - Modelo\", line_dash=\"dashed\", color=\"#43a047\", line_width=3)\n",
    "\n",
    "show(p)"
   ]
  },
  {
   "cell_type": "code",
   "execution_count": 72,
   "metadata": {},
   "outputs": [
    {
     "data": {
      "text/html": [
       "\n",
       "\n",
       "\n",
       "\n",
       "\n",
       "\n",
       "  <div class=\"bk-root\" id=\"5f758e0a-2f8a-4ade-988f-482df4e21cc0\" data-root-id=\"11123\"></div>\n"
      ]
     },
     "metadata": {},
     "output_type": "display_data"
    },
    {
     "data": {
      "application/javascript": [
       "(function(root) {\n",
       "  function embed_document(root) {\n",
       "    \n",
       "  var docs_json = {\"5984e4ee-a517-491e-8ef7-5bd21e50b00c\":{\"roots\":{\"references\":[{\"attributes\":{\"below\":[{\"id\":\"11134\"}],\"center\":[{\"id\":\"11137\"},{\"id\":\"11141\"},{\"id\":\"11153\"}],\"left\":[{\"id\":\"11138\"}],\"plot_height\":500,\"renderers\":[{\"id\":\"11146\"},{\"id\":\"11158\"}],\"title\":{\"id\":\"11124\"},\"toolbar\":{\"id\":\"11142\"},\"toolbar_location\":null,\"x_range\":{\"id\":\"11126\"},\"x_scale\":{\"id\":\"11130\"},\"y_range\":{\"id\":\"11128\"},\"y_scale\":{\"id\":\"11132\"}},\"id\":\"11123\",\"subtype\":\"Figure\",\"type\":\"Plot\"},{\"attributes\":{},\"id\":\"11149\",\"type\":\"BasicTickFormatter\"},{\"attributes\":{\"line_alpha\":0.1,\"line_color\":\"#5e35b1\",\"line_dash\":[6],\"line_width\":3,\"x\":{\"field\":\"x\"},\"y\":{\"field\":\"y\"}},\"id\":\"11157\",\"type\":\"Line\"},{\"attributes\":{\"axis\":{\"id\":\"11138\"},\"band_fill_alpha\":0.1,\"band_fill_color\":\"olive\",\"dimension\":1,\"grid_line_alpha\":0,\"ticker\":null},\"id\":\"11141\",\"type\":\"Grid\"},{\"attributes\":{\"axis_label\":\"Indiv\\u00edduos\",\"formatter\":{\"id\":\"11149\"},\"ticker\":{\"id\":\"11139\"}},\"id\":\"11138\",\"type\":\"LinearAxis\"},{\"attributes\":{\"axis_label\":\"Dias\",\"formatter\":{\"id\":\"11151\"},\"ticker\":{\"id\":\"11135\"}},\"id\":\"11134\",\"type\":\"LinearAxis\"},{\"attributes\":{},\"id\":\"11139\",\"type\":\"BasicTicker\"},{\"attributes\":{},\"id\":\"11132\",\"type\":\"LinearScale\"},{\"attributes\":{\"label\":{\"value\":\"Sucetiveis\"},\"renderers\":[{\"id\":\"11146\"}]},\"id\":\"11154\",\"type\":\"LegendItem\"},{\"attributes\":{},\"id\":\"11560\",\"type\":\"UnionRenderers\"},{\"attributes\":{\"label\":{\"value\":\"Suscetiveis + Exposed - Modelo\"},\"renderers\":[{\"id\":\"11158\"}]},\"id\":\"11167\",\"type\":\"LegendItem\"},{\"attributes\":{},\"id\":\"11135\",\"type\":\"BasicTicker\"},{\"attributes\":{\"active_drag\":\"auto\",\"active_inspect\":\"auto\",\"active_multi\":null,\"active_scroll\":\"auto\",\"active_tap\":\"auto\"},\"id\":\"11142\",\"type\":\"Toolbar\"},{\"attributes\":{\"axis\":{\"id\":\"11134\"},\"grid_line_alpha\":0,\"ticker\":null},\"id\":\"11137\",\"type\":\"Grid\"},{\"attributes\":{},\"id\":\"11128\",\"type\":\"DataRange1d\"},{\"attributes\":{\"items\":[{\"id\":\"11154\"},{\"id\":\"11167\"}]},\"id\":\"11153\",\"type\":\"Legend\"},{\"attributes\":{\"data_source\":{\"id\":\"11143\"},\"glyph\":{\"id\":\"11144\"},\"hover_glyph\":null,\"muted_glyph\":null,\"nonselection_glyph\":{\"id\":\"11145\"},\"selection_glyph\":null,\"view\":{\"id\":\"11147\"}},\"id\":\"11146\",\"type\":\"GlyphRenderer\"},{\"attributes\":{\"line_color\":\"#5e35b1\",\"line_dash\":[6],\"line_width\":3,\"x\":{\"field\":\"x\"},\"y\":{\"field\":\"y\"}},\"id\":\"11156\",\"type\":\"Line\"},{\"attributes\":{\"text\":\"Evolu\\u00e7\\u00e3o do COVID - Italy\"},\"id\":\"11124\",\"type\":\"Title\"},{\"attributes\":{},\"id\":\"11126\",\"type\":\"DataRange1d\"},{\"attributes\":{},\"id\":\"11165\",\"type\":\"Selection\"},{\"attributes\":{},\"id\":\"11130\",\"type\":\"LinearScale\"},{\"attributes\":{\"data_source\":{\"id\":\"11155\"},\"glyph\":{\"id\":\"11156\"},\"hover_glyph\":null,\"muted_glyph\":null,\"nonselection_glyph\":{\"id\":\"11157\"},\"selection_glyph\":null,\"view\":{\"id\":\"11159\"}},\"id\":\"11158\",\"type\":\"GlyphRenderer\"},{\"attributes\":{\"line_color\":\"#c2185b\",\"line_width\":4,\"x\":{\"field\":\"x\"},\"y\":{\"field\":\"y\"}},\"id\":\"11144\",\"type\":\"Line\"},{\"attributes\":{\"line_alpha\":0.1,\"line_color\":\"#c2185b\",\"line_width\":4,\"x\":{\"field\":\"x\"},\"y\":{\"field\":\"y\"}},\"id\":\"11145\",\"type\":\"Line\"},{\"attributes\":{},\"id\":\"11166\",\"type\":\"UnionRenderers\"},{\"attributes\":{\"data\":{\"x\":{\"__ndarray__\":\"AAAAAAAAAAA5zdfq2SHwPznN1+rZIQBA1rND4MYyCEA5zdfq2SEQQIfAjWVQKhRA1rND4MYyGEAkp/laPTscQDnN1+rZISBA4MYyKBUmIkCHwI1lUCokQC666KKLLiZA1rND4MYyKEB9rZ4dAjcqQCSn+Vo9OyxAy6BUmHg/LkA5zdfq2SEwQA1KhYn3IzFA4MYyKBUmMkC0Q+DGMigzQIfAjWVQKjRAWz07BG4sNUAuuuiiiy42QAI3lkGpMDdA1rND4MYyOECpMPF+5DQ5QH2tnh0CNzpAUCpMvB85O0Akp/laPTs8QPcjp/laPT1Ay6BUmHg/PkCeHQI3lkE/QDnN1+rZIUBAo4suuuiiQEANSoWJ9yNBQHYI3FgGpUFA4MYyKBUmQkBKhYn3I6dCQLRD4MYyKENAHQI3lkGpQ0CHwI1lUCpEQPF+5DRfq0RAWz07BG4sRUDF+5HTfK1FQC666KKLLkZAmHg/cpqvRkACN5ZBqTBHQGz17BC4sUdA1rND4MYySEA/cpqv1bNIQKkw8X7kNElAE+9HTvO1SUB9rZ4dAjdKQOZr9ewQuEpAUCpMvB85S0C66KKLLrpLQCSn+Vo9O0xAjmVQKky8TED3I6f5Wj1NQGHi/chpvk1Ay6BUmHg/TkA1X6tnh8BOQJ4dAjeWQU9ACNxYBqXCT0A5zdfq2SFQQG4sg1JhYlBAo4suuuiiUEDY6tkhcONQQA1KhYn3I1FAQakw8X5kUUB2CNxYBqVRQKtnh8CN5VFA4MYyKBUmUkAVJt6PnGZSQEqFifcjp1JAf+Q0X6vnUkC0Q+DGMihTQOmiiy66aFNAHQI3lkGpU0BSYeL9yOlTQIfAjWVQKlRAvB85zddqVEDxfuQ0X6tUQCbej5zm61RAWz07BG4sVUCQnOZr9WxVQMX7kdN8rVVA+Vo9OwTuVUAuuuiiiy5WQGMZlAoTb1ZAmHg/cpqvVkDN1+rZIfBWQAI3lkGpMFdAN5ZBqTBxV0Bs9ewQuLFXQKFUmHg/8ldA1rND4MYyWEAKE+9HTnNYQD9ymq/Vs1hAdNFFF130WECpMPF+5DRZQN6PnOZrdVlAE+9HTvO1WUBITvO1evZZQH2tnh0CN1pAsgxKhYl3WkDma/XsELhaQBvLoFSY+FpAUCpMvB85W0CFifcjp3lbQLrooosuultA70dO87X6W0Akp/laPTtcQFkGpcLEe1xAjmVQKky8XEDCxPuR0/xcQPcjp/laPV1ALINSYeJ9XUBh4v3Iab5dQJZBqTDx/l1Ay6BUmHg/XkAAAAAAAIBeQA==\",\"dtype\":\"float64\",\"shape\":[122]},\"y\":{\"__ndarray__\":\"WUe6ulJ2BkFJHWftInYGQVfRZvUUdgZBRo6lgAR2BkFCCkPZ8HUGQY/31F/ZdQZBjIFGVr11BkE61JbZm3UGQVzRrtpzdQZBxAPTFUR1BkE3hW8IC3UGQeps6uTGdAZBV3schHV0BkHj7ftTFHQGQYr+9EKgcwZBRQ1HpxVzBkGgkawhcHIGQbLjZ3qqcQZB8F+pd75wBkEHuBSspG8GQXHH8jtUbgZBKb5el8JsBkHwx3kn42oGQRGZXuymaAZBknA4CfxlBkHftoY7zWIGQYbgNjoBXwZBbejj+HlaBkH7YzzLE1UGQdltXGSkTgZBKoTkrflGBkF58eBy2D0GQUzdU9v6MgZBuy+ttg4mBkFEze+VsxYGQer9JLp4BAZBTreL4druBUHAYEYGQtUFQZ+C1iz/tgVBpPcjcEqTBUGciq2MQWkFQU151ETnNwVBlCJKFCT+BEExXy/GyLoEQX+I9ZuTbARB6Xj8wjgSBEE9lwjRbqoDQWbaAtX/MwNBXz4+K9+tAkGiTfOiQxcCQWTRkZ3EbwFBXjWrtXe3AEEcd5G2Ft7/QC9CFvWzL/5Aa13dFuJn/EAr/C94EIz6QGT3jZ/NovhATNgEaHCz9kD/iD78p8X0QJiIQFMA4fJAwYMudWsM8UC+PhiPvZvuQI4/UrYeVOtArivg9KNI6ECuAfTIOn3lQExBLJVQ8+JAvvKBzDOq4EDeLaplDz/dQFJLf/t0n9lAZSR5YeRs1kDWPrWR0p3TQODFUMJwKNFACjoNwzMGzkAauW+KPEnKQEaUtoDmCMdA5kb1j5k1xEDi/RW/TcHBQKo3zs8OP79ABs7qRYmKu0BZK9vGw1G4QD65Gjj0g7VAdEHR5IoSs0DvVpn+8PCwQNto9lqVKK5A4vnTIXzmqkCUbKGmfwuoQLGfHtXKiaVA1W4ht3lVo0Cr/KxAU2ShQCbafOkYW59ApUzB0ydTnECS1k1dyaOZQKhxo0K/QZdAKleOwlQjlUDWPx8jJkCTQLZx9IDwkJFAUrjWtGgPkEB+DHWJMGyNQGlfaft+AItAKsjt33fTiEDIQwxL5d2GQEWgOwt7GYVAxExI0raAg0CUoGH0xA6CQJ0ZOQppv4BAm2Be09Mdf0ChomzYAPR8QPTRnECR+3pAONarD2oveUAP71UuB4t3QD8iN2poCnZAZ3SxBQGqdEB5Bf14qWZzQCMGSRyTPXJAKGEzbD0scUA95Fu1bDBwQKuSJOhDkG5A+6IieSfjbEC7OdARUFZrQOuUWJ3d5mlA9goofzqSaEBFzW0/E1ZnQA==\",\"dtype\":\"float64\",\"shape\":[122]}},\"selected\":{\"id\":\"11559\"},\"selection_policy\":{\"id\":\"11560\"}},\"id\":\"11155\",\"type\":\"ColumnDataSource\"},{\"attributes\":{},\"id\":\"11559\",\"type\":\"Selection\"},{\"attributes\":{\"source\":{\"id\":\"11143\"}},\"id\":\"11147\",\"type\":\"CDSView\"},{\"attributes\":{\"source\":{\"id\":\"11155\"}},\"id\":\"11159\",\"type\":\"CDSView\"},{\"attributes\":{},\"id\":\"11151\",\"type\":\"BasicTickFormatter\"},{\"attributes\":{\"data\":{\"x\":{\"__ndarray__\":\"AAAAAAAAAAA5zdfq2SHwPznN1+rZIQBA1rND4MYyCEA5zdfq2SEQQIfAjWVQKhRA1rND4MYyGEAkp/laPTscQDnN1+rZISBA4MYyKBUmIkCHwI1lUCokQC666KKLLiZA1rND4MYyKEB9rZ4dAjcqQCSn+Vo9OyxAy6BUmHg/LkA5zdfq2SEwQA1KhYn3IzFA4MYyKBUmMkC0Q+DGMigzQIfAjWVQKjRAWz07BG4sNUAuuuiiiy42QAI3lkGpMDdA1rND4MYyOECpMPF+5DQ5QH2tnh0CNzpAUCpMvB85O0Akp/laPTs8QPcjp/laPT1Ay6BUmHg/PkCeHQI3lkE/QDnN1+rZIUBAo4suuuiiQEANSoWJ9yNBQHYI3FgGpUFA4MYyKBUmQkBKhYn3I6dCQLRD4MYyKENAHQI3lkGpQ0CHwI1lUCpEQPF+5DRfq0RAWz07BG4sRUDF+5HTfK1FQC666KKLLkZAmHg/cpqvRkACN5ZBqTBHQGz17BC4sUdA1rND4MYySEA/cpqv1bNIQKkw8X7kNElAE+9HTvO1SUB9rZ4dAjdKQOZr9ewQuEpAUCpMvB85S0C66KKLLrpLQCSn+Vo9O0xAjmVQKky8TED3I6f5Wj1NQGHi/chpvk1Ay6BUmHg/TkA1X6tnh8BOQJ4dAjeWQU9ACNxYBqXCT0A5zdfq2SFQQG4sg1JhYlBAo4suuuiiUEDY6tkhcONQQA1KhYn3I1FAQakw8X5kUUB2CNxYBqVRQKtnh8CN5VFA4MYyKBUmUkAVJt6PnGZSQEqFifcjp1JAf+Q0X6vnUkC0Q+DGMihTQOmiiy66aFNAHQI3lkGpU0BSYeL9yOlTQIfAjWVQKlRAvB85zddqVEDxfuQ0X6tUQCbej5zm61RAWz07BG4sVUCQnOZr9WxVQMX7kdN8rVVA+Vo9OwTuVUAuuuiiiy5WQGMZlAoTb1ZAmHg/cpqvVkDN1+rZIfBWQAI3lkGpMFdAN5ZBqTBxV0Bs9ewQuLFXQKFUmHg/8ldA1rND4MYyWEAKE+9HTnNYQD9ymq/Vs1hAdNFFF130WECpMPF+5DRZQN6PnOZrdVlAE+9HTvO1WUBITvO1evZZQH2tnh0CN1pAsgxKhYl3WkDma/XsELhaQBvLoFSY+FpAUCpMvB85W0CFifcjp3lbQLrooosuultA70dO87X6W0Akp/laPTtcQFkGpcLEe1xAjmVQKky8XEDCxPuR0/xcQPcjp/laPV1ALINSYeJ9XUBh4v3Iab5dQJZBqTDx/l1Ay6BUmHg/XkAAAAAAAIBeQA==\",\"dtype\":\"float64\",\"shape\":[122]},\"y\":{\"__ndarray__\":\"Ot43xxp2BkE63jfHGnYGQRWVpaIZdgZB8UsTfhh2BkHMAoFZF3YGQai57jQWdgZBg3BcEBV2BkFfJ8rrE3YGQTreN8cSdgZBFZWlogl2BkHxSxN+AHYGQcwCgVn3dQZBqLnuNO51BkGDcFwQ5XUGQV8nyuvbdQZBOt43x9J1BkEVlaWiyXUGQfFLE37AdQZBzAKBWbd1BkGoue40rnUGQYNwXBCldQZBXyfK65t1BkE63jfHknUGQTreN8dKdAZBOt43x2pxBkE63jfHOm8GQTreN8dqbAZBOt43x2JoBkE63jfHOmIGQTreN8cSWwZBOt43x9JTBkE63jfHSkIGQTreN8cqOAZBOt43x3IqBkE63jfH+hgGQTreN8c6AgZBOt43x3LrBUE63jfHmsUFQTreN8cimwVBOt43xwJmBUE63jfHukwFQTreN8eSCgVBOt43xzbABEE63jfH2nUEQTreN8daqQNBOt43x0p8A0E63jfHOk8DQTreN8fS6wJBOt43xzJ3AkE63jfHOt4BQTreN8fCNgFBOt43x6KCAEF0vG+OddL/QHS8b461zP5AdLxvjhWz/UB0vG+OJZj8QHS8b471QPtAdLxvjhUJ+kB0vG+ORcv4QHS8b451tPdAdLxvjhXq9kB0vG+OFSH2QHS8b46lI/VAdLxvjmUv9EB0vG+OtUDzQHS8b471PvJAdLxvjgVS8UB0vG+O1ZjwQHS8b46lAPBA6HjfHItl7kDoeN8cS6TsQOh43xyr/epA6HjfHEsA6UDoeN8cqzbnQOh43xxL8+VA6HjfHAvL5EDoeN8c68XjQOh43xxLLuJA6HjfHIvB4EDQ8b451pLeQNDxvjlWBdxA0PG+OdZC2kDQ8b45Fh7YQNDxvjnWQNVA0PG+OVYf00DQ8b45FpXQQKDjfXMsX81AoON9cyxXyUCg431zLJjGQKDjfXOsQcNAQMf75ligv0BAx/vmWG25QEDH++ZYzbJAgI73zbF2qkCAjvfNsfigQAAd75tj6ZFAAHS8b441c0AAxiHIOP2HwADjEGScmp3AgHEIMk5Fp8CAcQgyTjeuwMA4BBmnmLHAwDgEGafNs8DAOAQZp5u4wMA4BBmnULvAwDgEGacqvsBgHIKM0ybAwGAcgozTj8HAYByCjNOYwsBgHIKM00jDwGAcgoxTjsTAYByCjFOKxcBgHIKMU33GwGAcgoxTgsfAYByCjFOVyMBgHIKM04XJwGAcgozT7cnAYByCjFONysBgHIKM03bLwGAcgoxTfMzAYByCjNNSzcBgHIKMU+vNwA==\",\"dtype\":\"float64\",\"shape\":[122]}},\"selected\":{\"id\":\"11165\"},\"selection_policy\":{\"id\":\"11166\"}},\"id\":\"11143\",\"type\":\"ColumnDataSource\"}],\"root_ids\":[\"11123\"]},\"title\":\"Bokeh Application\",\"version\":\"2.0.1\"}};\n",
       "  var render_items = [{\"docid\":\"5984e4ee-a517-491e-8ef7-5bd21e50b00c\",\"root_ids\":[\"11123\"],\"roots\":{\"11123\":\"5f758e0a-2f8a-4ade-988f-482df4e21cc0\"}}];\n",
       "  root.Bokeh.embed.embed_items_notebook(docs_json, render_items);\n",
       "\n",
       "  }\n",
       "  if (root.Bokeh !== undefined) {\n",
       "    embed_document(root);\n",
       "  } else {\n",
       "    var attempts = 0;\n",
       "    var timer = setInterval(function(root) {\n",
       "      if (root.Bokeh !== undefined) {\n",
       "        clearInterval(timer);\n",
       "        embed_document(root);\n",
       "      } else {\n",
       "        attempts++;\n",
       "        if (attempts > 100) {\n",
       "          clearInterval(timer);\n",
       "          console.log(\"Bokeh: ERROR: Unable to run BokehJS code because BokehJS library is missing\");\n",
       "        }\n",
       "      }\n",
       "    }, 10, root)\n",
       "  }\n",
       "})(window);"
      ],
      "application/vnd.bokehjs_exec.v0+json": ""
     },
     "metadata": {
      "application/vnd.bokehjs_exec.v0+json": {
       "id": "11123"
      }
     },
     "output_type": "display_data"
    }
   ],
   "source": [
    "p = figure(plot_height=500,\n",
    "           plot_width=600,\n",
    "           tools=\"\", \n",
    "           #y_axis_type=\"log\",\n",
    "           toolbar_location=None,\n",
    "           title=\"Evolução do COVID - \" + country['data']['name'])\n",
    "\n",
    "# Preparando o estilo\n",
    "p.grid.grid_line_alpha = 0\n",
    "p.ygrid.band_fill_color = \"olive\"\n",
    "p.ygrid.band_fill_alpha = 0.1\n",
    "p.yaxis.axis_label = \"Indivíduos\"\n",
    "p.xaxis.axis_label = \"Dias\"\n",
    "\n",
    "p.line(td, sir_model.parameters[-1]*N - Rd - Id ,  \n",
    "       legend_label=\"Sucetiveis\", color=\"#c2185b\", line_width=4)\n",
    "\n",
    "# Show the results\n",
    "p.line(td, sim_res[0] + sim_res[1],  \n",
    "      legend_label=\"Suscetiveis + Exposed - Modelo\", line_dash=\"dashed\", color=\"#5e35b1\", line_width=3)\n",
    "\n",
    "show(p)"
   ]
  },
  {
   "cell_type": "code",
   "execution_count": 71,
   "metadata": {},
   "outputs": [
    {
     "data": {
      "text/html": [
       "\n",
       "\n",
       "\n",
       "\n",
       "\n",
       "\n",
       "  <div class=\"bk-root\" id=\"1e1e7536-3be9-40c7-bcbd-0160aff60af4\" data-root-id=\"10640\"></div>\n"
      ]
     },
     "metadata": {},
     "output_type": "display_data"
    },
    {
     "data": {
      "application/javascript": [
       "(function(root) {\n",
       "  function embed_document(root) {\n",
       "    \n",
       "  var docs_json = {\"d89d75be-a7d6-4b69-b77b-dce95698e5f9\":{\"roots\":{\"references\":[{\"attributes\":{\"below\":[{\"id\":\"10651\"}],\"center\":[{\"id\":\"10654\"},{\"id\":\"10658\"},{\"id\":\"10670\"}],\"left\":[{\"id\":\"10655\"}],\"plot_height\":500,\"renderers\":[{\"id\":\"10663\"},{\"id\":\"10675\"}],\"title\":{\"id\":\"10641\"},\"toolbar\":{\"id\":\"10659\"},\"toolbar_location\":null,\"x_range\":{\"id\":\"10643\"},\"x_scale\":{\"id\":\"10647\"},\"y_range\":{\"id\":\"10645\"},\"y_scale\":{\"id\":\"10649\"}},\"id\":\"10640\",\"subtype\":\"Figure\",\"type\":\"Plot\"},{\"attributes\":{\"source\":{\"id\":\"10672\"}},\"id\":\"10676\",\"type\":\"CDSView\"},{\"attributes\":{},\"id\":\"10656\",\"type\":\"BasicTicker\"},{\"attributes\":{},\"id\":\"10668\",\"type\":\"BasicTickFormatter\"},{\"attributes\":{\"line_color\":\"#f57f17\",\"line_width\":3,\"x\":{\"field\":\"x\"},\"y\":{\"field\":\"y\"}},\"id\":\"10661\",\"type\":\"Line\"},{\"attributes\":{\"axis\":{\"id\":\"10655\"},\"band_fill_alpha\":0.1,\"band_fill_color\":\"olive\",\"dimension\":1,\"grid_line_alpha\":0,\"ticker\":null},\"id\":\"10658\",\"type\":\"Grid\"},{\"attributes\":{\"active_drag\":\"auto\",\"active_inspect\":\"auto\",\"active_multi\":null,\"active_scroll\":\"auto\",\"active_tap\":\"auto\"},\"id\":\"10659\",\"type\":\"Toolbar\"},{\"attributes\":{\"data\":{\"x\":{\"__ndarray__\":\"AAAAAAAAAAA5zdfq2SHwPznN1+rZIQBA1rND4MYyCEA5zdfq2SEQQIfAjWVQKhRA1rND4MYyGEAkp/laPTscQDnN1+rZISBA4MYyKBUmIkCHwI1lUCokQC666KKLLiZA1rND4MYyKEB9rZ4dAjcqQCSn+Vo9OyxAy6BUmHg/LkA5zdfq2SEwQA1KhYn3IzFA4MYyKBUmMkC0Q+DGMigzQIfAjWVQKjRAWz07BG4sNUAuuuiiiy42QAI3lkGpMDdA1rND4MYyOECpMPF+5DQ5QH2tnh0CNzpAUCpMvB85O0Akp/laPTs8QPcjp/laPT1Ay6BUmHg/PkCeHQI3lkE/QDnN1+rZIUBAo4suuuiiQEANSoWJ9yNBQHYI3FgGpUFA4MYyKBUmQkBKhYn3I6dCQLRD4MYyKENAHQI3lkGpQ0CHwI1lUCpEQPF+5DRfq0RAWz07BG4sRUDF+5HTfK1FQC666KKLLkZAmHg/cpqvRkACN5ZBqTBHQGz17BC4sUdA1rND4MYySEA/cpqv1bNIQKkw8X7kNElAE+9HTvO1SUB9rZ4dAjdKQOZr9ewQuEpAUCpMvB85S0C66KKLLrpLQCSn+Vo9O0xAjmVQKky8TED3I6f5Wj1NQGHi/chpvk1Ay6BUmHg/TkA1X6tnh8BOQJ4dAjeWQU9ACNxYBqXCT0A5zdfq2SFQQG4sg1JhYlBAo4suuuiiUEDY6tkhcONQQA1KhYn3I1FAQakw8X5kUUB2CNxYBqVRQKtnh8CN5VFA4MYyKBUmUkAVJt6PnGZSQEqFifcjp1JAf+Q0X6vnUkC0Q+DGMihTQOmiiy66aFNAHQI3lkGpU0BSYeL9yOlTQIfAjWVQKlRAvB85zddqVEDxfuQ0X6tUQCbej5zm61RAWz07BG4sVUCQnOZr9WxVQMX7kdN8rVVA+Vo9OwTuVUAuuuiiiy5WQGMZlAoTb1ZAmHg/cpqvVkDN1+rZIfBWQAI3lkGpMFdAN5ZBqTBxV0Bs9ewQuLFXQKFUmHg/8ldA1rND4MYyWEAKE+9HTnNYQD9ymq/Vs1hAdNFFF130WECpMPF+5DRZQN6PnOZrdVlAE+9HTvO1WUBITvO1evZZQH2tnh0CN1pAsgxKhYl3WkDma/XsELhaQBvLoFSY+FpAUCpMvB85W0CFifcjp3lbQLrooosuultA70dO87X6W0Akp/laPTtcQFkGpcLEe1xAjmVQKky8XEDCxPuR0/xcQPcjp/laPV1ALINSYeJ9XUBh4v3Iab5dQJZBqTDx/l1Ay6BUmHg/XkAAAAAAAIBeQA==\",\"dtype\":\"float64\",\"shape\":[122]},\"y\":{\"__ndarray__\":\"Ot43xyp2BkE63jfHKnYGQTreN8cqdgZBOt43xyp2BkE63jfHKnYGQTreN8cqdgZBOt43xyp2BkE63jfHKnYGQTreN8cqdgZBOt43xyp2BkE63jfHKnYGQTreN8cqdgZBOt43xyp2BkE63jfHKnYGQTreN8cqdgZBOt43xyp2BkE63jfHKnYGQTreN8cqdgZBOt43xyp2BkE63jfHKnYGQTreN8cqdgZBOt43xyp2BkE63jfHKnYGQTreN8cqdgZBOt43xyp2BkE63jfHKnYGQTreN8cqdgZBOt43xyp2BkE63jfHKnYGQTreN8cqdgZBOt43xyp2BkE63jfHKnYGQTreN8cqdgZBOt43xyp2BkE63jfHKnYGQTreN8cqdgZBOt43xyp2BkE63jfHKnYGQTreN8cqdgZBOt43xyp2BkE63jfHKnYGQTreN8cqdgZBOt43xyp2BkE63jfHKnYGQTreN8cqdgZBOt43xyp2BkE63jfHKnYGQTreN8cqdgZBOt43xyp2BkE63jfHKnYGQTreN8cqdgZBOt43xyp2BkE63jfHKnYGQTreN8cqdgZBOt43xyp2BkE63jfHKnYGQTreN8cqdgZBOt43xyp2BkE63jfHKnYGQTreN8cqdgZBOt43xyp2BkE63jfHKnYGQTreN8cqdgZBOt43xyp2BkE63jfHKnYGQTreN8cqdgZBOt43xyp2BkE63jfHKnYGQTreN8cqdgZBOt43xyp2BkE63jfHKnYGQTreN8cqdgZBOt43xyp2BkE63jfHKnYGQTreN8cqdgZBOt43xyp2BkE63jfHKnYGQTreN8cqdgZBOt43xyp2BkE63jfHKnYGQTreN8cqdgZBOt43xyp2BkE63jfHKnYGQTreN8cqdgZBOt43xyp2BkE63jfHKnYGQTreN8cqdgZBOt43xyp2BkE63jfHKnYGQTreN8cqdgZBOt43xyp2BkE63jfHKnYGQTreN8cqdgZBOt43xyp2BkE63jfHKnYGQTreN8cqdgZBOt43xyp2BkE63jfHKnYGQTreN8cqdgZBOt43xyp2BkE63jfHKnYGQTreN8cqdgZBOt43xyp2BkE63jfHKnYGQTreN8cqdgZBOt43xyp2BkE63jfHKnYGQTreN8cqdgZBOt43xyp2BkE63jfHKnYGQTreN8cqdgZBOt43xyp2BkE63jfHKnYGQTreN8cqdgZBOt43xyp2BkE63jfHKnYGQTreN8cqdgZBOt43xyp2BkE63jfHKnYGQTreN8cqdgZBOt43xyp2BkE63jfHKnYGQQ==\",\"dtype\":\"float64\",\"shape\":[122]}},\"selected\":{\"id\":\"10682\"},\"selection_policy\":{\"id\":\"10683\"}},\"id\":\"10660\",\"type\":\"ColumnDataSource\"},{\"attributes\":{\"data_source\":{\"id\":\"10672\"},\"glyph\":{\"id\":\"10673\"},\"hover_glyph\":null,\"muted_glyph\":null,\"nonselection_glyph\":{\"id\":\"10674\"},\"selection_glyph\":null,\"view\":{\"id\":\"10676\"}},\"id\":\"10675\",\"type\":\"GlyphRenderer\"},{\"attributes\":{\"data\":{\"x\":{\"__ndarray__\":\"AAAAAAAAAAA5zdfq2SHwPznN1+rZIQBA1rND4MYyCEA5zdfq2SEQQIfAjWVQKhRA1rND4MYyGEAkp/laPTscQDnN1+rZISBA4MYyKBUmIkCHwI1lUCokQC666KKLLiZA1rND4MYyKEB9rZ4dAjcqQCSn+Vo9OyxAy6BUmHg/LkA5zdfq2SEwQA1KhYn3IzFA4MYyKBUmMkC0Q+DGMigzQIfAjWVQKjRAWz07BG4sNUAuuuiiiy42QAI3lkGpMDdA1rND4MYyOECpMPF+5DQ5QH2tnh0CNzpAUCpMvB85O0Akp/laPTs8QPcjp/laPT1Ay6BUmHg/PkCeHQI3lkE/QDnN1+rZIUBAo4suuuiiQEANSoWJ9yNBQHYI3FgGpUFA4MYyKBUmQkBKhYn3I6dCQLRD4MYyKENAHQI3lkGpQ0CHwI1lUCpEQPF+5DRfq0RAWz07BG4sRUDF+5HTfK1FQC666KKLLkZAmHg/cpqvRkACN5ZBqTBHQGz17BC4sUdA1rND4MYySEA/cpqv1bNIQKkw8X7kNElAE+9HTvO1SUB9rZ4dAjdKQOZr9ewQuEpAUCpMvB85S0C66KKLLrpLQCSn+Vo9O0xAjmVQKky8TED3I6f5Wj1NQGHi/chpvk1Ay6BUmHg/TkA1X6tnh8BOQJ4dAjeWQU9ACNxYBqXCT0A5zdfq2SFQQG4sg1JhYlBAo4suuuiiUEDY6tkhcONQQA1KhYn3I1FAQakw8X5kUUB2CNxYBqVRQKtnh8CN5VFA4MYyKBUmUkAVJt6PnGZSQEqFifcjp1JAf+Q0X6vnUkC0Q+DGMihTQOmiiy66aFNAHQI3lkGpU0BSYeL9yOlTQIfAjWVQKlRAvB85zddqVEDxfuQ0X6tUQCbej5zm61RAWz07BG4sVUCQnOZr9WxVQMX7kdN8rVVA+Vo9OwTuVUAuuuiiiy5WQGMZlAoTb1ZAmHg/cpqvVkDN1+rZIfBWQAI3lkGpMFdAN5ZBqTBxV0Bs9ewQuLFXQKFUmHg/8ldA1rND4MYyWEAKE+9HTnNYQD9ymq/Vs1hAdNFFF130WECpMPF+5DRZQN6PnOZrdVlAE+9HTvO1WUBITvO1evZZQH2tnh0CN1pAsgxKhYl3WkDma/XsELhaQBvLoFSY+FpAUCpMvB85W0CFifcjp3lbQLrooosuultA70dO87X6W0Akp/laPTtcQFkGpcLEe1xAjmVQKky8XEDCxPuR0/xcQPcjp/laPV1ALINSYeJ9XUBh4v3Iab5dQJZBqTDx/l1Ay6BUmHg/XkAAAAAAAIBeQA==\",\"dtype\":\"float64\",\"shape\":[122]},\"y\":{\"__ndarray__\":\"WUe6umJ2BkFbR7q6YnYGQV1HurpidgZBX0e6umJ2BkFdR7q6YnYGQV1HurpidgZBW0e6umJ2BkFbR7q6YnYGQVpHurpidgZBWke6umJ2BkFcR7q6YnYGQVxHurpidgZBXUe6umJ2BkFdR7q6YnYGQV1HurpidgZBXUe6umJ2BkFdR7q6YnYGQVxHurpidgZBXUe6umJ2BkFeR7q6YnYGQV9HurpidgZBX0e6umJ2BkFfR7q6YnYGQWBHurpidgZBYke6umJ2BkFiR7q6YnYGQWBHurpidgZBX0e6umJ2BkFhR7q6YnYGQWBHurpidgZBYEe6umJ2BkFhR7q6YnYGQWBHurpidgZBX0e6umJ2BkFfR7q6YnYGQWBHurpidgZBYEe6umJ2BkFgR7q6YnYGQV9HurpidgZBX0e6umJ2BkFeR7q6YnYGQWBHurpidgZBYEe6umJ2BkFhR7q6YnYGQWFHurpidgZBYUe6umJ2BkFiR7q6YnYGQWFHurpidgZBYUe6umJ2BkFhR7q6YnYGQWFHurpidgZBYEe6umJ2BkFiR7q6YnYGQWJHurpidgZBYke6umJ2BkFiR7q6YnYGQWJHurpidgZBYke6umJ2BkFiR7q6YnYGQWFHurpidgZBYEe6umJ2BkFgR7q6YnYGQWBHurpidgZBYEe6umJ2BkFgR7q6YnYGQWBHurpidgZBXke6umJ2BkFfR7q6YnYGQV5HurpidgZBXke6umJ2BkFeR7q6YnYGQV5HurpidgZBX0e6umJ2BkFeR7q6YnYGQV9HurpidgZBYEe6umJ2BkFfR7q6YnYGQWBHurpidgZBX0e6umJ2BkFfR7q6YnYGQWBHurpidgZBYEe6umJ2BkFgR7q6YnYGQWBHurpidgZBYEe6umJ2BkFgR7q6YnYGQWBHurpidgZBX0e6umJ2BkFeR7q6YnYGQV9HurpidgZBXke6umJ2BkFeR7q6YnYGQV5HurpidgZBX0e6umJ2BkFfR7q6YnYGQV9HurpidgZBX0e6umJ2BkFeR7q6YnYGQV5HurpidgZBXke6umJ2BkFeR7q6YnYGQV5HurpidgZBXke6umJ2BkFeR7q6YnYGQV5HurpidgZBXke6umJ2BkFeR7q6YnYGQV9HurpidgZBXke6umJ2BkFeR7q6YnYGQV5HurpidgZBXke6umJ2BkFeR7q6YnYGQV5HurpidgZBX0e6umJ2BkFeR7q6YnYGQV9HurpidgZBXke6umJ2BkFeR7q6YnYGQV9HurpidgZBXke6umJ2BkFfR7q6YnYGQQ==\",\"dtype\":\"float64\",\"shape\":[122]}},\"selected\":{\"id\":\"11067\"},\"selection_policy\":{\"id\":\"11068\"}},\"id\":\"10672\",\"type\":\"ColumnDataSource\"},{\"attributes\":{},\"id\":\"10652\",\"type\":\"BasicTicker\"},{\"attributes\":{\"items\":[{\"id\":\"10671\"},{\"id\":\"10684\"}]},\"id\":\"10670\",\"type\":\"Legend\"},{\"attributes\":{\"source\":{\"id\":\"10660\"}},\"id\":\"10664\",\"type\":\"CDSView\"},{\"attributes\":{},\"id\":\"10649\",\"type\":\"LinearScale\"},{\"attributes\":{\"axis_label\":\"Indiv\\u00edduos\",\"formatter\":{\"id\":\"10666\"},\"ticker\":{\"id\":\"10656\"}},\"id\":\"10655\",\"type\":\"LinearAxis\"},{\"attributes\":{},\"id\":\"10643\",\"type\":\"DataRange1d\"},{\"attributes\":{},\"id\":\"10647\",\"type\":\"LinearScale\"},{\"attributes\":{},\"id\":\"11068\",\"type\":\"UnionRenderers\"},{\"attributes\":{},\"id\":\"10645\",\"type\":\"DataRange1d\"},{\"attributes\":{\"axis\":{\"id\":\"10651\"},\"grid_line_alpha\":0,\"ticker\":null},\"id\":\"10654\",\"type\":\"Grid\"},{\"attributes\":{\"line_alpha\":0.1,\"line_color\":\"#f57f17\",\"line_width\":3,\"x\":{\"field\":\"x\"},\"y\":{\"field\":\"y\"}},\"id\":\"10662\",\"type\":\"Line\"},{\"attributes\":{\"axis_label\":\"Dias\",\"formatter\":{\"id\":\"10668\"},\"ticker\":{\"id\":\"10652\"}},\"id\":\"10651\",\"type\":\"LinearAxis\"},{\"attributes\":{},\"id\":\"11067\",\"type\":\"Selection\"},{\"attributes\":{\"label\":{\"value\":\"Estimados\"},\"renderers\":[{\"id\":\"10675\"}]},\"id\":\"10684\",\"type\":\"LegendItem\"},{\"attributes\":{\"line_alpha\":0.1,\"line_color\":\"#5e35b1\",\"line_dash\":[6],\"line_width\":3,\"x\":{\"field\":\"x\"},\"y\":{\"field\":\"y\"}},\"id\":\"10674\",\"type\":\"Line\"},{\"attributes\":{\"line_color\":\"#5e35b1\",\"line_dash\":[6],\"line_width\":3,\"x\":{\"field\":\"x\"},\"y\":{\"field\":\"y\"}},\"id\":\"10673\",\"type\":\"Line\"},{\"attributes\":{},\"id\":\"10682\",\"type\":\"Selection\"},{\"attributes\":{\"text\":\"Soma das estimativas - Italy\"},\"id\":\"10641\",\"type\":\"Title\"},{\"attributes\":{},\"id\":\"10683\",\"type\":\"UnionRenderers\"},{\"attributes\":{\"data_source\":{\"id\":\"10660\"},\"glyph\":{\"id\":\"10661\"},\"hover_glyph\":null,\"muted_glyph\":null,\"nonselection_glyph\":{\"id\":\"10662\"},\"selection_glyph\":null,\"view\":{\"id\":\"10664\"}},\"id\":\"10663\",\"type\":\"GlyphRenderer\"},{\"attributes\":{\"label\":{\"value\":\"N - pop total\"},\"renderers\":[{\"id\":\"10663\"}]},\"id\":\"10671\",\"type\":\"LegendItem\"},{\"attributes\":{},\"id\":\"10666\",\"type\":\"BasicTickFormatter\"}],\"root_ids\":[\"10640\"]},\"title\":\"Bokeh Application\",\"version\":\"2.0.1\"}};\n",
       "  var render_items = [{\"docid\":\"d89d75be-a7d6-4b69-b77b-dce95698e5f9\",\"root_ids\":[\"10640\"],\"roots\":{\"10640\":\"1e1e7536-3be9-40c7-bcbd-0160aff60af4\"}}];\n",
       "  root.Bokeh.embed.embed_items_notebook(docs_json, render_items);\n",
       "\n",
       "  }\n",
       "  if (root.Bokeh !== undefined) {\n",
       "    embed_document(root);\n",
       "  } else {\n",
       "    var attempts = 0;\n",
       "    var timer = setInterval(function(root) {\n",
       "      if (root.Bokeh !== undefined) {\n",
       "        clearInterval(timer);\n",
       "        embed_document(root);\n",
       "      } else {\n",
       "        attempts++;\n",
       "        if (attempts > 100) {\n",
       "          clearInterval(timer);\n",
       "          console.log(\"Bokeh: ERROR: Unable to run BokehJS code because BokehJS library is missing\");\n",
       "        }\n",
       "      }\n",
       "    }, 10, root)\n",
       "  }\n",
       "})(window);"
      ],
      "application/vnd.bokehjs_exec.v0+json": ""
     },
     "metadata": {
      "application/vnd.bokehjs_exec.v0+json": {
       "id": "10640"
      }
     },
     "output_type": "display_data"
    }
   ],
   "source": [
    "p = figure(plot_height=500,\n",
    "           plot_width=600, \n",
    "           tools=\"\", \n",
    "           toolbar_location=None,\n",
    "           title=\"Soma das estimativas - \" + country['data']['name'])\n",
    "\n",
    "# Preparando o estilo\n",
    "p.grid.grid_line_alpha = 0\n",
    "p.ygrid.band_fill_color = \"olive\"\n",
    "p.ygrid.band_fill_alpha = 0.1\n",
    "p.yaxis.axis_label = \"Indivíduos\"\n",
    "p.xaxis.axis_label = \"Dias\"\n",
    "\n",
    "# Show the results\n",
    "p.line(td, sir_model.parameters[-1]*N*np.ones((len(td),)),  \n",
    "     legend_label=\"N - pop total\", color=\"#f57f17\", line_width=3)\n",
    "p.line(td, sim_res[0] + sim_res[1] + sim_res[2] + sim_res[3],  \n",
    "       legend_label=\"Estimados\", line_dash=\"dashed\", color=\"#5e35b1\", line_width=3)\n",
    "\n",
    "\n",
    "show(p)"
   ]
  },
  {
   "cell_type": "code",
   "execution_count": 74,
   "metadata": {},
   "outputs": [
    {
     "data": {
      "text/html": [
       "\n",
       "\n",
       "\n",
       "\n",
       "\n",
       "\n",
       "  <div class=\"bk-root\" id=\"f9155b71-ac33-4a51-aa40-0300eff09e99\" data-root-id=\"12244\"></div>\n"
      ]
     },
     "metadata": {},
     "output_type": "display_data"
    },
    {
     "data": {
      "application/javascript": [
       "(function(root) {\n",
       "  function embed_document(root) {\n",
       "    \n",
       "  var docs_json = {\"7725dca6-cc79-46a8-a1c6-20315233956a\":{\"roots\":{\"references\":[{\"attributes\":{\"below\":[{\"id\":\"12255\"}],\"center\":[{\"id\":\"12258\"},{\"id\":\"12262\"},{\"id\":\"12274\"}],\"left\":[{\"id\":\"12259\"}],\"plot_height\":500,\"renderers\":[{\"id\":\"12267\"},{\"id\":\"12279\"},{\"id\":\"12292\"},{\"id\":\"12307\"},{\"id\":\"12324\"},{\"id\":\"12343\"}],\"title\":{\"id\":\"12245\"},\"toolbar\":{\"id\":\"12263\"},\"toolbar_location\":null,\"x_range\":{\"id\":\"12247\"},\"x_scale\":{\"id\":\"12251\"},\"y_range\":{\"id\":\"12249\"},\"y_scale\":{\"id\":\"12253\"}},\"id\":\"12244\",\"subtype\":\"Figure\",\"type\":\"Plot\"},{\"attributes\":{},\"id\":\"12256\",\"type\":\"BasicTicker\"},{\"attributes\":{\"data\":{\"x\":{\"__ndarray__\":\"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\",\"dtype\":\"float64\",\"shape\":[272]},\"y\":{\"__ndarray__\":\"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\",\"dtype\":\"float64\",\"shape\":[272]}},\"selected\":{\"id\":\"12337\"},\"selection_policy\":{\"id\":\"12338\"}},\"id\":\"12304\",\"type\":\"ColumnDataSource\"},{\"attributes\":{\"source\":{\"id\":\"12304\"}},\"id\":\"12308\",\"type\":\"CDSView\"},{\"attributes\":{},\"id\":\"12786\",\"type\":\"Selection\"},{\"attributes\":{\"axis\":{\"id\":\"12255\"},\"grid_line_alpha\":0,\"ticker\":null},\"id\":\"12258\",\"type\":\"Grid\"},{\"attributes\":{\"data_source\":{\"id\":\"12276\"},\"glyph\":{\"id\":\"12277\"},\"hover_glyph\":null,\"muted_glyph\":null,\"nonselection_glyph\":{\"id\":\"12278\"},\"selection_glyph\":null,\"view\":{\"id\":\"12280\"}},\"id\":\"12279\",\"type\":\"GlyphRenderer\"},{\"attributes\":{\"data_source\":{\"id\":\"12304\"},\"glyph\":{\"id\":\"12305\"},\"hover_glyph\":null,\"muted_glyph\":null,\"nonselection_glyph\":{\"id\":\"12306\"},\"selection_glyph\":null,\"view\":{\"id\":\"12308\"}},\"id\":\"12307\",\"type\":\"GlyphRenderer\"},{\"attributes\":{\"line_color\":\"#e91e63\",\"line_dash\":[6],\"line_width\":3,\"x\":{\"field\":\"x\"},\"y\":{\"field\":\"y\"}},\"id\":\"12341\",\"type\":\"Line\"},{\"attributes\":{},\"id\":\"12286\",\"type\":\"Selection\"},{\"attributes\":{\"data\":{\"x\":{\"__ndarray__\":\"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\",\"dtype\":\"float64\",\"shape\":[272]},\"y\":{\"__ndarray__\":\"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\",\"dtype\":\"float64\",\"shape\":[272]}},\"selected\":{\"id\":\"12786\"},\"selection_policy\":{\"id\":\"12787\"}},\"id\":\"12340\",\"type\":\"ColumnDataSource\"},{\"attributes\":{},\"id\":\"12260\",\"type\":\"BasicTicker\"},{\"attributes\":{\"line_alpha\":0.1,\"line_color\":\"#0288d1\",\"line_width\":4,\"x\":{\"field\":\"x\"},\"y\":{\"field\":\"y\"}},\"id\":\"12278\",\"type\":\"Line\"},{\"attributes\":{\"line_alpha\":0.1,\"line_color\":\"#f57f17\",\"line_dash\":[6],\"line_width\":3,\"x\":{\"field\":\"x\"},\"y\":{\"field\":\"y\"}},\"id\":\"12306\",\"type\":\"Line\"},{\"attributes\":{\"label\":{\"value\":\"Removidos\"},\"renderers\":[{\"id\":\"12279\"}]},\"id\":\"12288\",\"type\":\"LegendItem\"},{\"attributes\":{\"label\":{\"value\":\"Removidos - Modelo\"},\"renderers\":[{\"id\":\"12307\"}]},\"id\":\"12320\",\"type\":\"LegendItem\"},{\"attributes\":{},\"id\":\"12787\",\"type\":\"UnionRenderers\"},{\"attributes\":{},\"id\":\"12287\",\"type\":\"UnionRenderers\"},{\"attributes\":{},\"id\":\"12319\",\"type\":\"UnionRenderers\"},{\"attributes\":{\"data\":{\"x\":{\"__ndarray__\":\"AAAAAAAAAAA5zdfq2SHwPznN1+rZIQBA1rND4MYyCEA5zdfq2SEQQIfAjWVQKhRA1rND4MYyGEAkp/laPTscQDnN1+rZISBA4MYyKBUmIkCHwI1lUCokQC666KKLLiZA1rND4MYyKEB9rZ4dAjcqQCSn+Vo9OyxAy6BUmHg/LkA5zdfq2SEwQA1KhYn3IzFA4MYyKBUmMkC0Q+DGMigzQIfAjWVQKjRAWz07BG4sNUAuuuiiiy42QAI3lkGpMDdA1rND4MYyOECpMPF+5DQ5QH2tnh0CNzpAUCpMvB85O0Akp/laPTs8QPcjp/laPT1Ay6BUmHg/PkCeHQI3lkE/QDnN1+rZIUBAo4suuuiiQEANSoWJ9yNBQHYI3FgGpUFA4MYyKBUmQkBKhYn3I6dCQLRD4MYyKENAHQI3lkGpQ0CHwI1lUCpEQPF+5DRfq0RAWz07BG4sRUDF+5HTfK1FQC666KKLLkZAmHg/cpqvRkACN5ZBqTBHQGz17BC4sUdA1rND4MYySEA/cpqv1bNIQKkw8X7kNElAE+9HTvO1SUB9rZ4dAjdKQOZr9ewQuEpAUCpMvB85S0C66KKLLrpLQCSn+Vo9O0xAjmVQKky8TED3I6f5Wj1NQGHi/chpvk1Ay6BUmHg/TkA1X6tnh8BOQJ4dAjeWQU9ACNxYBqXCT0A5zdfq2SFQQG4sg1JhYlBAo4suuuiiUEDY6tkhcONQQA1KhYn3I1FAQakw8X5kUUB2CNxYBqVRQKtnh8CN5VFA4MYyKBUmUkAVJt6PnGZSQEqFifcjp1JAf+Q0X6vnUkC0Q+DGMihTQOmiiy66aFNAHQI3lkGpU0BSYeL9yOlTQIfAjWVQKlRAvB85zddqVEDxfuQ0X6tUQCbej5zm61RAWz07BG4sVUCQnOZr9WxVQMX7kdN8rVVA+Vo9OwTuVUAuuuiiiy5WQGMZlAoTb1ZAmHg/cpqvVkDN1+rZIfBWQAI3lkGpMFdAN5ZBqTBxV0Bs9ewQuLFXQKFUmHg/8ldA1rND4MYyWEAKE+9HTnNYQD9ymq/Vs1hAdNFFF130WECpMPF+5DRZQN6PnOZrdVlAE+9HTvO1WUBITvO1evZZQH2tnh0CN1pAsgxKhYl3WkDma/XsELhaQBvLoFSY+FpAUCpMvB85W0CFifcjp3lbQLrooosuultA70dO87X6W0Akp/laPTtcQFkGpcLEe1xAjmVQKky8XEDCxPuR0/xcQPcjp/laPV1ALINSYeJ9XUBh4v3Iab5dQJZBqTDx/l1Ay6BUmHg/XkAAAAAAAIBeQA==\",\"dtype\":\"float64\",\"shape\":[122]},\"y\":{\"__ndarray__\":\"AAAAAAAAAAAAAAAAAAAAAAAAAAAAAAAAAAAAAAAAAAAAAAAAAAAAAAAAAAAAAAAAAAAAAAAAAAAAAAAAAAAAAAAAAAAAAAAAAAAAAAAAAAAAAAAAAAAAAAAAAAAAAAAAAAAAAAAAAAAAAAAAAAAAAAAAAAAAAAAAAAAAAAAAAAAAAAAAAAAAAAAAAAAAAAAAAAAAAAAAAAAAAAAAAAAAAAAAAAAAAAAAAAAAAAAAAAAAAAAAAAAAAAAAAAAAAPA/AAAAAAAAAEAAAAAAAADwPwAAAAAAAPA/AAAAAAAACEAAAAAAAIBGQAAAAAAAAEdAAAAAAAAAR0AAAAAAAMBUQAAAAAAAoGJAAAAAAAAAZEAAAAAAAEBxQAAAAAAA4HlAAAAAAABYgEAAAAAAAGiCQAAAAAAAcINAAAAAAACghkAAAAAAAKCGQAAAAAAAVJBAAAAAAABok0AAAAAAAHyWQAAAAAAAPqJAAAAAAADco0AAAAAAAHqlQAAAAAAA+qZAAAAAAAByr0AAAAAAAFixQAAAAAAAWLFAAAAAAAC4t0AAAAAAAHC7QAAAAAAACL1AAAAAAABDwEAAAAAAAEnCQAAAAACAPMRAAAAAAABjxUAAAAAAADDIQAAAAAAAc8lAAAAAAACOzEAAAAAAgLjOQAAAAADAc9BAAAAAAIDZ0UAAAAAAgEvTQAAAAAAAgdRAAAAAAMBN1UAAAAAAQE3WQAAAAAAA0tdAAAAAAMDe2UAAAAAAgM3bQAAAAADAvd1AAAAAAIDF30AAAAAAYLTgQAAAAABgTeFAAAAAAEAh4kAAAAAAgJniQAAAAACAnONAAAAAAODc5EAAAAAA4O/lQAAAAADg+eZAAAAAAKDd50AAAAAAADLpQAAAAADgoepAAAAAAAAd7EAAAAAAQIrtQAAAAAAA0u5AAAAAAAC070AAAAAAAETwQAAAAADQ1PBAAAAAAEBl8UAAAAAAkIryQAAAAACQGvNAAAAAAKCC80AAAAAAYO/zQAAAAADwO/RAAAAAAPDO9EAAAAAA0MP2QAAAAABAgfdAAAAAAPAs+EAAAAAAcCf5QAAAAAAgrvlAAAAAALAF+kAAAAAA8J76QAAAAADQeftAAAAAAIAl/EAAAAAA0Fj9QAAAAACg+/1AAAAAAICP/kAAAAAA4BX/QAAAAACQl/9AAAAAANAlAEEAAAAAAG0AQQAAAACAsABBAAAAAMDyAEEAAAAA+CUBQQAAAADoVAFBAAAAAJCoAUEAAAAA6PQBQQAAAABgYgJBAAAAAGCoAkEAAAAAiP8CQQ==\",\"dtype\":\"float64\",\"shape\":[122]}},\"selected\":{\"id\":\"12301\"},\"selection_policy\":{\"id\":\"12302\"}},\"id\":\"12276\",\"type\":\"ColumnDataSource\"},{\"attributes\":{\"line_color\":\"#f57f17\",\"line_dash\":[6],\"line_width\":3,\"x\":{\"field\":\"x\"},\"y\":{\"field\":\"y\"}},\"id\":\"12305\",\"type\":\"Line\"},{\"attributes\":{},\"id\":\"12318\",\"type\":\"Selection\"},{\"attributes\":{\"axis_label\":\"Indiv\\u00edduos\",\"formatter\":{\"id\":\"12270\"},\"ticker\":{\"id\":\"12260\"}},\"id\":\"12259\",\"type\":\"LinearAxis\"},{\"attributes\":{\"line_color\":\"#0288d1\",\"line_width\":4,\"x\":{\"field\":\"x\"},\"y\":{\"field\":\"y\"}},\"id\":\"12277\",\"type\":\"Line\"},{\"attributes\":{},\"id\":\"12272\",\"type\":\"BasicTickFormatter\"},{\"attributes\":{},\"id\":\"12301\",\"type\":\"Selection\"},{\"attributes\":{\"data\":{\"x\":{\"__ndarray__\":\"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\",\"dtype\":\"float64\",\"shape\":[272]},\"y\":{\"__ndarray__\":\"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\",\"dtype\":\"float64\",\"shape\":[272]}},\"selected\":{\"id\":\"12358\"},\"selection_policy\":{\"id\":\"12359\"}},\"id\":\"12321\",\"type\":\"ColumnDataSource\"},{\"attributes\":{\"source\":{\"id\":\"12340\"}},\"id\":\"12344\",\"type\":\"CDSView\"},{\"attributes\":{},\"id\":\"12337\",\"type\":\"Selection\"},{\"attributes\":{\"source\":{\"id\":\"12264\"}},\"id\":\"12268\",\"type\":\"CDSView\"},{\"attributes\":{\"label\":{\"value\":\"Suscetiveis - Modelo\"},\"renderers\":[{\"id\":\"12324\"}]},\"id\":\"12339\",\"type\":\"LegendItem\"},{\"attributes\":{\"data\":{\"x\":{\"__ndarray__\":\"AAAAAAAAAAA5zdfq2SHwPznN1+rZIQBA1rND4MYyCEA5zdfq2SEQQIfAjWVQKhRA1rND4MYyGEAkp/laPTscQDnN1+rZISBA4MYyKBUmIkCHwI1lUCokQC666KKLLiZA1rND4MYyKEB9rZ4dAjcqQCSn+Vo9OyxAy6BUmHg/LkA5zdfq2SEwQA1KhYn3IzFA4MYyKBUmMkC0Q+DGMigzQIfAjWVQKjRAWz07BG4sNUAuuuiiiy42QAI3lkGpMDdA1rND4MYyOECpMPF+5DQ5QH2tnh0CNzpAUCpMvB85O0Akp/laPTs8QPcjp/laPT1Ay6BUmHg/PkCeHQI3lkE/QDnN1+rZIUBAo4suuuiiQEANSoWJ9yNBQHYI3FgGpUFA4MYyKBUmQkBKhYn3I6dCQLRD4MYyKENAHQI3lkGpQ0CHwI1lUCpEQPF+5DRfq0RAWz07BG4sRUDF+5HTfK1FQC666KKLLkZAmHg/cpqvRkACN5ZBqTBHQGz17BC4sUdA1rND4MYySEA/cpqv1bNIQKkw8X7kNElAE+9HTvO1SUB9rZ4dAjdKQOZr9ewQuEpAUCpMvB85S0C66KKLLrpLQCSn+Vo9O0xAjmVQKky8TED3I6f5Wj1NQGHi/chpvk1Ay6BUmHg/TkA1X6tnh8BOQJ4dAjeWQU9ACNxYBqXCT0A5zdfq2SFQQG4sg1JhYlBAo4suuuiiUEDY6tkhcONQQA1KhYn3I1FAQakw8X5kUUB2CNxYBqVRQKtnh8CN5VFA4MYyKBUmUkAVJt6PnGZSQEqFifcjp1JAf+Q0X6vnUkC0Q+DGMihTQOmiiy66aFNAHQI3lkGpU0BSYeL9yOlTQIfAjWVQKlRAvB85zddqVEDxfuQ0X6tUQCbej5zm61RAWz07BG4sVUCQnOZr9WxVQMX7kdN8rVVA+Vo9OwTuVUAuuuiiiy5WQGMZlAoTb1ZAmHg/cpqvVkDN1+rZIfBWQAI3lkGpMFdAN5ZBqTBxV0Bs9ewQuLFXQKFUmHg/8ldA1rND4MYyWEAKE+9HTnNYQD9ymq/Vs1hAdNFFF130WECpMPF+5DRZQN6PnOZrdVlAE+9HTvO1WUBITvO1evZZQH2tnh0CN1pAsgxKhYl3WkDma/XsELhaQBvLoFSY+FpAUCpMvB85W0CFifcjp3lbQLrooosuultA70dO87X6W0Akp/laPTtcQFkGpcLEe1xAjmVQKky8XEDCxPuR0/xcQPcjp/laPV1ALINSYeJ9XUBh4v3Iab5dQJZBqTDx/l1Ay6BUmHg/XkAAAAAAAIBeQA==\",\"dtype\":\"float64\",\"shape\":[122]},\"y\":{\"__ndarray__\":\"AAAAAAAAAEAAAAAAAAAAQEmSJEmSJAFAkiRJkiRJAkDbtm3btm0DQCRJkiRJkgRAbNu2bdu2BUC2bdu2bdsGQAAAAAAAAAhAJEmSJEmSEEBIkiRJkiQVQG7btm3bthlAkSRJkiRJHkDbtm3btm0hQG3btm3btiNAAAAAAAAAJkCSJEmSJEkoQCRJkiRJkipAtm3btm3bLEBJkiRJkiQvQG3btm3btjBAt23btm3bMUAAAAAAAAAzQAAAAAAAgE1AAAAAAADAYkAAAAAAAKBrQAAAAAAAcHNAAAAAAABge0AAAAAAAIiCQAAAAAAAqIlAAAAAAAB0kEAAAAAAAKSYQAAAAAAArJxAAAAAAACuoUAAAAAAACSlQAAAAAAAwKlAAAAAAACYrkAAAAAAAMWzQAAAAAAA87hAAAAAAAAxv0AAAAAAAC3BQAAAAAAAr8RAAAAAAEDyyEAAAAAAgDXNQAAAAADAHtRAAAAAAIBT1UAAAAAAQIjWQAAAAACAc9lAAAAAAIAJ3EAAAAAAwDTgQAAAAACg0uJAAAAAACDX5EAAAAAAwMXmQAAAAABAnuhAAAAAAMBh6kAAAAAAIBbsQAAAAACgR+5AAAAAAOA28EAAAAAAEBvxQAAAAACACfJAAAAAAIBw8kAAAAAAMPTyQAAAAADAq/NAAAAAAJBG9EAAAAAAwNj0QAAAAAAgjfVAAAAAAOBG9kAAAAAAMMD2QAAAAAAw9/ZAAAAAAOBB90AAAAAA0Kb3QAAAAAAQ/vdAAAAAANB6+EAAAAAA0Pb4QAAAAAAATPlAAAAAADB2+UAAAAAAoLz5QAAAAADwBvpAAAAAACAd+kAAAAAAsE/6QAAAAAAQbvpAAAAAANBs+kAAAAAA0Ev6QAAAAAAwS/pAAAAAAAAW+kAAAAAA8AH6QAAAAABw1/lAAAAAAHDn+UAAAAAAUNX5QAAAAABQr/lAAAAAABCN+UAAAAAA8Mr4QAAAAADwpPhAAAAAAACW+EAAAAAAMHX4QAAAAADAaPhAAAAAADAK+EAAAAAAgFj2QAAAAACA4fVAAAAAAJB59UAAAAAAoLb0QAAAAADAV/RAAAAAAIAj9EAAAAAAINfzQAAAAACQJ/NAAAAAAICp8kAAAAAAYJjxQAAAAACwIvFAAAAAAPCv8EAAAAAAkD/wQAAAAAAgze9AAAAAAACk7kAAAAAAAMTtQAAAAABA9+xAAAAAAAAz7EAAAAAAQKLrQAAAAACAAOtAAAAAAMDZ6UAAAAAAwOLoQAAAAABAbudAAAAAAOCL5kAAAAAAYFXlQA==\",\"dtype\":\"float64\",\"shape\":[122]}},\"selected\":{\"id\":\"12286\"},\"selection_policy\":{\"id\":\"12287\"}},\"id\":\"12264\",\"type\":\"ColumnDataSource\"},{\"attributes\":{\"text\":\"Evolu\\u00e7\\u00e3o do COVID - Italy\"},\"id\":\"12245\",\"type\":\"Title\"},{\"attributes\":{\"source\":{\"id\":\"12289\"}},\"id\":\"12293\",\"type\":\"CDSView\"},{\"attributes\":{\"source\":{\"id\":\"12321\"}},\"id\":\"12325\",\"type\":\"CDSView\"},{\"attributes\":{},\"id\":\"12251\",\"type\":\"LinearScale\"},{\"attributes\":{\"data\":{\"x\":{\"__ndarray__\":\"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\",\"dtype\":\"float64\",\"shape\":[272]},\"y\":{\"__ndarray__\":\"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\",\"dtype\":\"float64\",\"shape\":[272]}},\"selected\":{\"id\":\"12318\"},\"selection_policy\":{\"id\":\"12319\"}},\"id\":\"12289\",\"type\":\"ColumnDataSource\"},{\"attributes\":{},\"id\":\"12247\",\"type\":\"DataRange1d\"},{\"attributes\":{\"data_source\":{\"id\":\"12289\"},\"glyph\":{\"id\":\"12290\"},\"hover_glyph\":null,\"muted_glyph\":null,\"nonselection_glyph\":{\"id\":\"12291\"},\"selection_glyph\":null,\"view\":{\"id\":\"12293\"}},\"id\":\"12292\",\"type\":\"GlyphRenderer\"},{\"attributes\":{\"data_source\":{\"id\":\"12321\"},\"glyph\":{\"id\":\"12322\"},\"hover_glyph\":null,\"muted_glyph\":null,\"nonselection_glyph\":{\"id\":\"12323\"},\"selection_glyph\":null,\"view\":{\"id\":\"12325\"}},\"id\":\"12324\",\"type\":\"GlyphRenderer\"},{\"attributes\":{\"data_source\":{\"id\":\"12340\"},\"glyph\":{\"id\":\"12341\"},\"hover_glyph\":null,\"muted_glyph\":null,\"nonselection_glyph\":{\"id\":\"12342\"},\"selection_glyph\":null,\"view\":{\"id\":\"12344\"}},\"id\":\"12343\",\"type\":\"GlyphRenderer\"},{\"attributes\":{\"line_alpha\":0.1,\"line_color\":\"#c2185b\",\"line_width\":4,\"x\":{\"field\":\"x\"},\"y\":{\"field\":\"y\"}},\"id\":\"12266\",\"type\":\"Line\"},{\"attributes\":{\"data_source\":{\"id\":\"12264\"},\"glyph\":{\"id\":\"12265\"},\"hover_glyph\":null,\"muted_glyph\":null,\"nonselection_glyph\":{\"id\":\"12266\"},\"selection_glyph\":null,\"view\":{\"id\":\"12268\"}},\"id\":\"12267\",\"type\":\"GlyphRenderer\"},{\"attributes\":{\"line_alpha\":0.1,\"line_color\":\"#5e35b1\",\"line_dash\":[6],\"line_width\":3,\"x\":{\"field\":\"x\"},\"y\":{\"field\":\"y\"}},\"id\":\"12291\",\"type\":\"Line\"},{\"attributes\":{\"line_alpha\":0.1,\"line_color\":\"#1565c0\",\"line_dash\":[6],\"line_width\":3,\"x\":{\"field\":\"x\"},\"y\":{\"field\":\"y\"}},\"id\":\"12323\",\"type\":\"Line\"},{\"attributes\":{},\"id\":\"12270\",\"type\":\"BasicTickFormatter\"},{\"attributes\":{},\"id\":\"12358\",\"type\":\"Selection\"},{\"attributes\":{\"items\":[{\"id\":\"12275\"},{\"id\":\"12288\"},{\"id\":\"12303\"},{\"id\":\"12320\"},{\"id\":\"12339\"},{\"id\":\"12360\"}]},\"id\":\"12274\",\"type\":\"Legend\"},{\"attributes\":{\"line_alpha\":0.1,\"line_color\":\"#e91e63\",\"line_dash\":[6],\"line_width\":3,\"x\":{\"field\":\"x\"},\"y\":{\"field\":\"y\"}},\"id\":\"12342\",\"type\":\"Line\"},{\"attributes\":{},\"id\":\"12249\",\"type\":\"DataRange1d\"},{\"attributes\":{\"label\":{\"value\":\"Infectados - Modelo\"},\"renderers\":[{\"id\":\"12292\"}]},\"id\":\"12303\",\"type\":\"LegendItem\"},{\"attributes\":{\"line_color\":\"#c2185b\",\"line_width\":4,\"x\":{\"field\":\"x\"},\"y\":{\"field\":\"y\"}},\"id\":\"12265\",\"type\":\"Line\"},{\"attributes\":{},\"id\":\"12302\",\"type\":\"UnionRenderers\"},{\"attributes\":{},\"id\":\"12338\",\"type\":\"UnionRenderers\"},{\"attributes\":{\"active_drag\":\"auto\",\"active_inspect\":\"auto\",\"active_multi\":null,\"active_scroll\":\"auto\",\"active_tap\":\"auto\"},\"id\":\"12263\",\"type\":\"Toolbar\"},{\"attributes\":{\"source\":{\"id\":\"12276\"}},\"id\":\"12280\",\"type\":\"CDSView\"},{\"attributes\":{\"label\":{\"value\":\"Infectados\"},\"renderers\":[{\"id\":\"12267\"}]},\"id\":\"12275\",\"type\":\"LegendItem\"},{\"attributes\":{\"label\":{\"value\":\"Exposed - Modelo\"},\"renderers\":[{\"id\":\"12343\"}]},\"id\":\"12360\",\"type\":\"LegendItem\"},{\"attributes\":{\"line_color\":\"#1565c0\",\"line_dash\":[6],\"line_width\":3,\"x\":{\"field\":\"x\"},\"y\":{\"field\":\"y\"}},\"id\":\"12322\",\"type\":\"Line\"},{\"attributes\":{},\"id\":\"12253\",\"type\":\"LinearScale\"},{\"attributes\":{\"line_color\":\"#5e35b1\",\"line_dash\":[6],\"line_width\":3,\"x\":{\"field\":\"x\"},\"y\":{\"field\":\"y\"}},\"id\":\"12290\",\"type\":\"Line\"},{\"attributes\":{},\"id\":\"12359\",\"type\":\"UnionRenderers\"},{\"attributes\":{\"axis\":{\"id\":\"12259\"},\"band_fill_alpha\":0.1,\"band_fill_color\":\"olive\",\"dimension\":1,\"grid_line_alpha\":0,\"ticker\":null},\"id\":\"12262\",\"type\":\"Grid\"},{\"attributes\":{\"axis_label\":\"Dias\",\"formatter\":{\"id\":\"12272\"},\"ticker\":{\"id\":\"12256\"}},\"id\":\"12255\",\"type\":\"LinearAxis\"}],\"root_ids\":[\"12244\"]},\"title\":\"Bokeh Application\",\"version\":\"2.0.1\"}};\n",
       "  var render_items = [{\"docid\":\"7725dca6-cc79-46a8-a1c6-20315233956a\",\"root_ids\":[\"12244\"],\"roots\":{\"12244\":\"f9155b71-ac33-4a51-aa40-0300eff09e99\"}}];\n",
       "  root.Bokeh.embed.embed_items_notebook(docs_json, render_items);\n",
       "\n",
       "  }\n",
       "  if (root.Bokeh !== undefined) {\n",
       "    embed_document(root);\n",
       "  } else {\n",
       "    var attempts = 0;\n",
       "    var timer = setInterval(function(root) {\n",
       "      if (root.Bokeh !== undefined) {\n",
       "        clearInterval(timer);\n",
       "        embed_document(root);\n",
       "      } else {\n",
       "        attempts++;\n",
       "        if (attempts > 100) {\n",
       "          clearInterval(timer);\n",
       "          console.log(\"Bokeh: ERROR: Unable to run BokehJS code because BokehJS library is missing\");\n",
       "        }\n",
       "      }\n",
       "    }, 10, root)\n",
       "  }\n",
       "})(window);"
      ],
      "application/vnd.bokehjs_exec.v0+json": ""
     },
     "metadata": {
      "application/vnd.bokehjs_exec.v0+json": {
       "id": "12244"
      }
     },
     "output_type": "display_data"
    }
   ],
   "source": [
    "\n",
    "days = len(t) + 150\n",
    "t_test = np.linspace(0, days, days)\n",
    "\n",
    "# Predict the model\n",
    "sim_res = sir_model.predict([sir_model.parameters[-1]*S[0], 5.0, I[0], R[0]], t_test)\n",
    "\n",
    "\n",
    "\n",
    "p = figure(plot_height=500,\n",
    "           plot_width=600, \n",
    "           tools=\"\", \n",
    "           #y_axis_type=\"log\",\n",
    "           toolbar_location=None,\n",
    "           title=\"Evolução do COVID - \" + country['data']['name'])\n",
    "\n",
    "# Preparando o estilo\n",
    "p.grid.grid_line_alpha = 0\n",
    "p.ygrid.band_fill_color = \"olive\"\n",
    "p.ygrid.band_fill_alpha = 0.1\n",
    "p.yaxis.axis_label = \"Indivíduos\"\n",
    "p.xaxis.axis_label = \"Dias\"\n",
    "\n",
    "p.line(t, I,  \n",
    "       legend_label=\"Infectados\", color=\"#c2185b\", line_width=4)\n",
    "p.line(t, R,  \n",
    "       legend_label=\"Removidos\", color=\"#0288d1\", line_width=4)\n",
    "\n",
    "# Show the results\n",
    "p.line(t_test, sim_res[2],  \n",
    "       legend_label=\"Infectados - Modelo\", line_dash=\"dashed\", color=\"#5e35b1\", line_width=3)\n",
    "p.line(t_test, sim_res[3],  \n",
    "     legend_label=\"Removidos - Modelo\", line_dash=\"dashed\", color=\"#f57f17\", line_width=3)\n",
    "p.line(t_test, sim_res[0],  \n",
    "     legend_label=\"Suscetiveis - Modelo\", line_dash=\"dashed\", color=\"#1565c0\", line_width=3)\n",
    "p.line(t_test, sim_res[1],  \n",
    "     legend_label=\"Exposed - Modelo\", line_dash=\"dashed\", color=\"#e91e63\", line_width=3)\n",
    "\n",
    "show(p)\n",
    "\n"
   ]
  }
 ],
 "metadata": {
  "hide_input": false,
  "kernelspec": {
   "display_name": "Python 3",
   "language": "python",
   "name": "python3"
  },
  "language_info": {
   "codemirror_mode": {
    "name": "ipython",
    "version": 3
   },
   "file_extension": ".py",
   "mimetype": "text/x-python",
   "name": "python",
   "nbconvert_exporter": "python",
   "pygments_lexer": "ipython3",
   "version": "3.7.4"
  },
  "toc": {
   "base_numbering": 1,
   "nav_menu": {},
   "number_sections": true,
   "sideBar": true,
   "skip_h1_title": false,
   "title_cell": "Table of Contents",
   "title_sidebar": "Contents",
   "toc_cell": false,
   "toc_position": {},
   "toc_section_display": true,
   "toc_window_display": false
  }
 },
 "nbformat": 4,
 "nbformat_minor": 4
}
